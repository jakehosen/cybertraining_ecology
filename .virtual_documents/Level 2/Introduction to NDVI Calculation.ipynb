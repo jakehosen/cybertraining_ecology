


# load spatial packages
library(raster)
library(rgdal)
library(rgeos)
library(RColorBrewer)

# turn off factors
options(stringsAsFactors = FALSE)






# import the naip pre-fire data
naip_multispectral_st <- stack("data/week-07/naip/m_3910505_nw_13_1_20130926/crop/m_3910505_nw_13_1_20130926_crop.tif")

# convert data into rasterbrick for faster processing
naip_multispectral_br <- brick(naip_multispectral_st)





# calculate ndvi with naip
naip_multispectral_br[[4]]

# calculate NDVI using the red (band 1) and nir (band 4) bands
naip_ndvi <- (naip_multispectral_br[[4]] - naip_multispectral_br[[1]]) / (naip_multispectral_br[[4]] + naip_multispectral_br[[1]])

# plot the data
plot(naip_ndvi,
     main = "NDVI of Cold Springs Fire Site - Nederland, CO \n Pre-Fire",
     axes = FALSE, box = FALSE)






# view distribution of NDVI values
hist(naip_ndvi,
  main = "NDVI: Distribution of pixels\n NAIP 2013 Cold Springs fire site",
  col = "springgreen",
  xlab = "NDVI Index Value")


# Check if the directory exists using the function you created last week
check_create_dir("data/week-07/outputs/")

# Export your raster
writeRaster(x = naip_ndvi,
              filename="data/week-07/outputs/naip_ndvi_2013_prefire.tif",
              format = "GTiff", # save as a tif
              datatype='INT2S', # save as a INTEGER rather than a float
              overwrite = TRUE)  # OPTIONAL - be careful. This will OVERWRITE previous files.


# create a function that subtracts two rasters

diff_rasters <- function(b1, b2){
  # this function calculates the difference between two rasters of the same CRS and extent
  # input: 2 raster layers of the same extent, crs that can be subtracted
  # output: a single different raster of the same extent, crs of the input rasters
  diff <- b2 - b1
  return(diff)
}


band_diff <- overlay(naip_multispectral_br[[1]], naip_multispectral_br[[4]],
        fun = diff_rasters)

plot(band_diff,
     main = "Example difference calculation on imagery - \n this is not a useful analysis, just an example!",
     axes = FALSE, box = FALSE, legend = FALSE)

