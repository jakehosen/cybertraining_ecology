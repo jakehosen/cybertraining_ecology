{
 "cells": [
  {
   "cell_type": "markdown",
   "id": "b656ac86-1465-4531-b794-d31aef532641",
   "metadata": {},
   "source": [
    "# Downloading data from USGS"
   ]
  },
  {
   "cell_type": "markdown",
   "id": "2c794a32-b958-42e2-a73e-3d237a19817e",
   "metadata": {},
   "source": [
    "The USGS National Water Information System (NWIS) contains an incredible repository of hydrology and water quality data. These data include both time series, typically collected at 15 minutes intervals, and individual observations and water quality samples. You can learn more about NWIS here.\n",
    "\n",
    "To help users efficiently access these data, USGS has created R and Python packages containing functions for downloading and organizing data. We are going to use the R version of this package today. It will be helpful for you to review the [Introduction to the dataRetrieval package](https://cran.r-project.org/web/packages/dataRetrieval/vignettes/dataRetrieval.html).\n",
    "\n",
    "For this module we will focus on collecting the following types of data:\n",
    "* Site data.\n",
    "* Hydrology time series data (including stream/river stage and discharge and groundwater level).\n",
    "* Rating curve data collected by USGS teams for converting stream stage to discharge.\n",
    "* Surface water chemistry/quality data.\n",
    "\n",
    "We will begin with **hydrology time series data**."
   ]
  },
  {
   "cell_type": "markdown",
   "id": "fab76735-a714-40e2-926e-d2d0da12e9ef",
   "metadata": {},
   "source": [
    "## Getting R packages loaded\n"
   ]
  },
  {
   "cell_type": "code",
   "execution_count": null,
   "id": "26d61e77-c668-4ecc-bb0d-98110d5f5355",
   "metadata": {},
   "outputs": [],
   "source": [
    "library(dataRetrieval)\n",
    "library(stringr)\n",
    "library(gridExtra)\n",
    "library(ggplot2)\n",
    "library(reshape2)\n",
    "library(tidyverse)\n",
    "\n",
    "#this option controls the number of columns and number of rows that will be displayed when a dataframe or matrix is printed in the Jupyter cell output.\n",
    "options(repr.matrix.max.cols=40, repr.matrix.max.rows=10)\n",
    "\n",
    "#this will change the resolution (and therefore display size) of plots. Larger numbers indicate higher resolution, which will produce larger figures.\n",
    "options(repr.plot.res = 250)"
   ]
  },
  {
   "cell_type": "markdown",
   "id": "7cca3659-2a79-4173-8cfe-94092f6786bb",
   "metadata": {},
   "source": [
    "## Site Data\n",
    "Using the _dataRetrieval_ package you can download site data for one or multiple USGS sites. These sites are identified by USGS site identifiers, 8-digit numbers that are unique to each site from which USGS has ever collected data. [USGS has a national map](https://maps.waterdata.usgs.gov/mapper/index.html) of all active and inactive sites from which you can get additional information about each site. When using _dataRetrieval_, sites are identified using these site IDs. If you include multiple sites, site data will be combined into a single dataframe with one row for each site. This dataset contains a lot of useful information, some noteable items area:\n",
    "* station_nm: station/site name\n",
    "* lat_va & long_va: latitude and longitude respectively\n",
    "* huc_cd: the Hydrological Unit Code (HUC) is the watershed address for the stream/river of interest. For more information on how HUCs are generated and used can be [found here](https://en.wikipedia.org/wiki/Hydrological_code).\n",
    "* contrib_drain_area_va: this is the drainage area (watershed area) for a given stream/river gage.\n",
    "* well_depth_va: if the site is a groundwater well, the depth of the well will be included here."
   ]
  },
  {
   "cell_type": "code",
   "execution_count": null,
   "id": "2f476c44-e193-409e-bda3-3488120a1c7d",
   "metadata": {},
   "outputs": [],
   "source": [
    "siteNumbers <- c(\"01491000\", \"01645000\")\n",
    "siteINFO <- readNWISsite(siteNumbers)\n",
    "\n",
    "names(siteINFO)\n",
    "siteINFO"
   ]
  },
  {
   "cell_type": "markdown",
   "id": "f871fb4d-fbae-479b-a054-7e14bff912a8",
   "metadata": {},
   "source": [
    "### Identifying data available for sites.\n",
    "In addition to site identifier codes, USGS NWIS uses two other codes that are key for access data within the system: Parameter codes (_pCode_) and a statistic code (_statCd_).\n",
    "\n",
    "The _pCode_ is used to select individual parameters/varaibles, including water stage, discharge, temperature, pH, conductance, total dissolved nitrogen, and many additional parameters. Note that all codes are six digits. The table below identifies some common parameter codes and you can also access the [full list of parameter codes](https://help.waterdata.usgs.gov/codes-and-parameters/parameters). There are many parameters that are or have been collected by USGS and its partner agencies. Thus, the parameters are sorted into different categories (e.g., physical, nutrient, and other parameter groups). Below we present a few common parameters codes or reference.\n",
    "\n",
    "\n",
    "|Parameter Category|pCode|Name|\n",
    "|-|-|-|\n",
    "|Physical |00060\t|Discharge (ft^3 s^1)|\n",
    "|Physical |00065\t|Gage height (ft)|\n",
    "|Physical |00010\t|Temperature (C)|\n",
    "|Inorganics, Major, Non-Metals| 00300| Dissolved oxygen, water, unfiltered, (mg L^-1)|\n",
    "|Physical |00400\t|pH|\n",
    "|Nutrient| 00602\t|Nitrate, water, filtered, (mg-N L^-1)|\n",
    "\n",
    "\n",
    "\n",
    "The Statiscs Code (_statCd_) is a five-digit code used to indicate the statistical aggregation used for primarily continuous data, but can also be useful for individually collected observations. There are many statistics codes that can be used including common statistical metrics listed in the table below. You can also find a (full listing of statics codes)[https://help.waterdata.usgs.gov/stat_code] on the USGS website.\n",
    "\n",
    "\n",
    "|StatCode|Name|\n",
    "|-|-|\n",
    "|00001|\tMaximum|\n",
    "|00002|\tMinimum|\n",
    "|00003|\tMean|\n",
    "|00008|\tMedian|\n",
    "\n",
    "\n",
    "\n",
    "\n",
    "Finally, the NWIS system also allows the user to identify a _service_. This will tell the system whether you want to download an entire dataset or a summarized dataset. Not including this metric when downloading data will result in the full dataset being downloaded. If you need a reduced dataset, you can include options such as daily values (_dv_) or unit values (_uv_). Water quality (_qw_) and groundwater (_gw_) data can also be selected using the _service_ option. For more information about each of these services, you can visit [USGS Water Services](https://waterservices.usgs.gov/)\n",
    "page.\n",
    "\n",
    "|Service Code|Service Name|\n",
    "|-|-|\n",
    "|dv|daily values|\n",
    "|uv|unit values|\n",
    "|qw|water quality|\n",
    "|sv|site visits|\n",
    "|pk|peak measurements|\n",
    "|gw|groundwater levels|\n",
    "|ad|USGS annual data report sites|\n",
    "\n",
    "Now that we've gotten that background out of the way, it's time to start looking at some data. First we are going to start with metadata."
   ]
  },
  {
   "cell_type": "markdown",
   "id": "3bb8307b-dde5-4699-a720-bdb284fd8174",
   "metadata": {},
   "source": [
    "## Site information\n",
    "Now that we know what the possible parameters and data formats available, we want to look at some individual sites to see what is avaialable. _dataRetrieval_ has a function for this called _whatNWISdata_. This function can be used to determine the data variables available for a given site filtered by site number (_siteNumber_), service (_service_), and statistics code (_statCd_). Below is an example for a USGS Super Gage site, the Wabash River at New Harmony, Indiana (USGS ID 03378500). These gage sites are augmented with a wide variety of sensors and routine water quality sampling is conducted at these sites. That means we'll find lots of interesting data to download.\n",
    "\n",
    "Here we are querying our site looking for daily values (_service = \"dv\"_) for which mean values are available (_statCd=\"00003\"_) at the daily time step. Here we see that 12 different variables are available with daily mean values. You see which variables these are using the _parm_cd_ column and the [USGS parameter code website](https://help.waterdata.usgs.gov/codes-and-parameters/parameters).\n",
    "\n",
    "Run the code in the cell block below. What column indicates what variable is represented? How many different variables have been collected at the Wabash River at New Harmony, IN?"
   ]
  },
  {
   "cell_type": "code",
   "execution_count": null,
   "id": "6a90c8ff-adbd-410b-92dd-4305e806884f",
   "metadata": {},
   "outputs": [],
   "source": [
    "dailyDataAvailable <- whatNWISdata(\n",
    "  siteNumber = \"03378500\",\n",
    "  service = \"dv\",\n",
    "  statCd = \"00003\"\n",
    ")\n",
    "\n",
    "dailyDataAvailable"
   ]
  },
  {
   "cell_type": "markdown",
   "id": "afd92ba3-858d-4e56-a7e0-3dfe5b019d03",
   "metadata": {},
   "source": [
    "USGS is changing how data are downloaded. Currently the _qw_ service is slated to be deactivated in the coming months. There are other methods of obtaining water quality data from NWIS, but they require functions that are formatted slightly differently. Below is the code that indicates what water quality grab samples have been collected at the Wabash River site. First start by looking at the names of the many columns of data that are returned from this search. Which column contains the parameter code that will tell us what water quality data have been produced. Because there are so many columns in this dataset, we will use the _names_ function first to see all the column names."
   ]
  },
  {
   "cell_type": "code",
   "execution_count": null,
   "id": "fd675885-86c8-4502-b765-387dc7fff8f9",
   "metadata": {},
   "outputs": [],
   "source": [
    "siteWaterQuality <- whatWQPsamples(siteid = \"USGS-03378500\")\n",
    "names(siteWaterQuality)"
   ]
  },
  {
   "cell_type": "markdown",
   "id": "d6b81bb8-5e60-4c3b-8597-0a1b4bc4e7e3",
   "metadata": {},
   "source": [
    "There are a lot of columns. We'll save you some time by pointing to the _ActivityIdentifier_ column. This column has a lot of information. What we want is the last five digits, which are the parameter code we have used previously."
   ]
  },
  {
   "cell_type": "code",
   "execution_count": null,
   "id": "b4349702-7b02-419c-82d8-0b38f55c9500",
   "metadata": {},
   "outputs": [],
   "source": [
    "siteWaterQuality$ActivityIdentifier"
   ]
  },
  {
   "cell_type": "markdown",
   "id": "da7a1e92-9e83-4c05-a535-f42f6830ec48",
   "metadata": {},
   "source": [
    "So how do we deal with this issue? We can use something called [regular expressions](https://cran.r-project.org/web/packages/stringr/vignettes/regular-expressions.html) to select portions of alphanumeric [strings](https://en.wikipedia.org/wiki/String_(computer_science)) (recall that strings are a data type that is designed for flexible sequences of characters). Using a regular expression, we can select the last five numeric characters where the parameter code is stored. We will then save that in a separate column called pCode following the convention for this abbreviation that is used by _dataRetrieval_. To select five characters one can use the following regular expression \\\\\\\\\\d{5}\\\\$ . This will select the last 5 digits ($ indicates the end of the string. R has built in functions that work with regular expressions, but using the package _stringR_, makes writing and using these expressions easier.\n",
    "\n",
    "We'll start by looking at the results and then we add the parameter codes to the column _pCode_. Note that when saving the parameter codes as a character, this helps preserve the leading zeros in these codes, which would be removed if these codes were converted to a numeric data type."
   ]
  },
  {
   "cell_type": "code",
   "execution_count": null,
   "id": "daf01f06-9ebd-46be-8199-5a53b7d653ee",
   "metadata": {},
   "outputs": [],
   "source": [
    "str_extract(siteWaterQuality$ActivityIdentifier, '\\\\d{5}$')\n",
    "siteWaterQuality$pCode<-as.character(str_extract(siteWaterQuality$ActivityIdentifier, '\\\\d{5}$'))"
   ]
  },
  {
   "cell_type": "markdown",
   "id": "5e962650-75e3-438a-a8de-ec029420d017",
   "metadata": {},
   "source": [
    "## Hydrology Time Series Data Download\n",
    "Here we will start by downloading stream/river gage data and will progress to groundwater level data second. First up...\n",
    "\n",
    "### Stream Stage and Discharge\n",
    "Collection of hydrology data is one of the many core functions of USGS. Thus, working in the US, there is a large amount of data that can be downloaded. We'll start by working with the Wabash River site we used above (Site ID 03378500). Let's download stream discharge (pCode: 00060) and stage (pCode: 00065). We'll start by downloading two months of data.\n",
    "\n",
    "We will start by downloading instantaneous values and then we will look at daily values."
   ]
  },
  {
   "cell_type": "code",
   "execution_count": null,
   "id": "a60e13c2-0a2c-4df4-bef3-b67e21f2b3bf",
   "metadata": {},
   "outputs": [],
   "source": [
    "wabash_q_iv <- readNWISdata(sites=\"03378500\", service=\"iv\", \n",
    "                   parameterCd=c(\"00065\",\"00060\"), \n",
    "                   startDate=\"2014-05-01T00:00\",endDate=\"2014-06-01T12:00\",\n",
    "                   tz=\"CST\")\n",
    "\n",
    "wabash_q_iv"
   ]
  },
  {
   "cell_type": "markdown",
   "id": "a32fcdb1-fc33-4732-914f-351375a970a9",
   "metadata": {},
   "source": [
    "Next we are going to look at daily values. This is particularly useful if you need to work with large amounts of data. All we have to do is change the service from _dv_ to _iv_ as below. The timestamps are imported in the POSIX format, but in the case of daily data, this can create issues. For that reasons we are changing the dateTime format from POSIX to the R _date_ format. This will simply plotting and remove warning messages. Note that we are adding this to a new column."
   ]
  },
  {
   "cell_type": "code",
   "execution_count": null,
   "id": "427f98fa-af90-4424-ae09-aec760b77c4e",
   "metadata": {},
   "outputs": [],
   "source": [
    "wabash_q_dv <- readNWISdata(sites=\"03378500\", service=\"dv\", \n",
    "                   parameterCd=c(\"00065\",\"00060\"), \n",
    "                   startDate=\"2014-05-01\",endDate=\"2014-06-01\",\n",
    "                   tz=\"CST6CDT\")\n",
    "wabash_q_dv$date<-as.Date(wabash_q_dv$dateTime,tz=\"CST6CDT\")\n",
    "\n"
   ]
  },
  {
   "cell_type": "markdown",
   "id": "dc09c7c6-1963-4920-85c4-3a57e7065248",
   "metadata": {},
   "source": [
    "Now we can plot all the data we've dowloaded. We'll plot the instantaneous discharge and stage and below that include the daily values. We'll make each of the plots and then arrange them with the function _grid.arrange_ from the package _gridExtra_. First, take a look at the structure. Note that the _dataRetrieval_ package has downloaded the data with the _dateTime_ column already formatted in a standardized format (POSIX specification) that can immediately be interpreted by ggplot as a date/time format. Note that we can wrap our axis label functions with the _expression_ function to add formatting such as subscripts and superscripts to these labels.\n",
    "\n",
    "Note that these plots look very similar at this scale, with the lines for the daily value plots appearing slightly less smooth."
   ]
  },
  {
   "cell_type": "code",
   "execution_count": null,
   "id": "dd36bbfb-ba17-4608-b416-787c023cbf95",
   "metadata": {},
   "outputs": [],
   "source": [
    "wabash_q_iv_plot<-ggplot(wabash_q_iv,aes(x=dateTime,y=X_00065_00000))+\n",
    "geom_line(size=1.3)+\n",
    "xlab(\"\")+\n",
    "ylab(expression(\"Discharge (\"*ft^3*\"-\"*s^-1*\")\"))\n",
    "\n",
    "wabash_stage_iv_plot<-ggplot(wabash_q_iv,aes(x=dateTime,y=X_00060_00000))+\n",
    "geom_line(size=1.3)+\n",
    "xlab(\"\")+\n",
    "ylab(\"Stage (ft)\")\n",
    "\n",
    "wabash_q_dv_plot<-ggplot(wabash_q_dv,aes(x=date,y=X_00065_00003))+\n",
    "geom_line(size=1.3)+\n",
    "xlab(\"\")+\n",
    "ylab(expression(\"Discharge (\"*ft^3*\"-\"*s^-1*\")\"))\n",
    "\n",
    "wabash_stage_dv_plot<-ggplot(wabash_q_dv,aes(x=date,y=X_00060_00003))+\n",
    "geom_line(size=1.3)+\n",
    "xlab(\"\")+\n",
    "ylab(\"Stage (ft)\")\n",
    "\n",
    "grid.arrange(wabash_q_iv_plot,wabash_stage_iv_plot,wabash_q_dv_plot,wabash_stage_dv_plot,ncol=2)"
   ]
  },
  {
   "cell_type": "markdown",
   "id": "43db3797-7211-4af9-8135-d2cb99979b67",
   "metadata": {},
   "source": [
    "## Field Hydrology Measurements\n",
    "Most USGS sensors can only measure the level, also known as stage, of river water. USGS takes field hydrology measurements that can be used to create a relationship between river stage and river water discharge. We're going to start by downloading the field hydrology measurements and then we'll create a plot and set of equations to describe the relationship between stage and discharge at our site.\n",
    "\n",
    "To do this, when we call _readNWISdata_ we change the _service_ to _measurements_, which indicates that we're going to view USGS field measurements."
   ]
  },
  {
   "cell_type": "code",
   "execution_count": null,
   "id": "f93f079f-53fa-4b5a-871a-3bf5829217b6",
   "metadata": {},
   "outputs": [],
   "source": [
    "wabash_q_rating <- readNWISdata(sites=\"03378500\", service=\"measurements\",tz=\"CST6CDT\")\n",
    "\n",
    "\n",
    "wabash_q_rating"
   ]
  },
  {
   "cell_type": "markdown",
   "id": "2a6f53d5-9878-41ca-9f06-93a28171cd12",
   "metadata": {},
   "source": [
    "Remember that this is the United States federal government so discharge measurements are in ft<sup>3</sup> s</sup>-1</sup> and stage measurements are in ft.\n",
    "\n",
    "Here we want to use gage height (_gage_height_va_), which reports river stage, and river discharge (_discharge_va_). You can get more information about the field measurement codes at [this page of the USGS website](https://help.waterdata.usgs.gov/codes-and-parameters).\n",
    "\n",
    "Notice that we do not have a straight line, but instead the slope of the relationship increases at higher water levels. That is because after a river overtops its banks and enters the floodplain, there is much more space for the river to spread out. With this greater cross-sectional area, an increase in stage of one foot now results in a greater increase in water flux (discharge) than before the river went over its banks."
   ]
  },
  {
   "cell_type": "code",
   "execution_count": null,
   "id": "83e7cbb5-bb42-4011-824e-fcde4d217444",
   "metadata": {},
   "outputs": [],
   "source": [
    "ggplot(wabash_q_rating,aes(x=gage_height_va,y=discharge_va))+\n",
    "    geom_point()+\n",
    "    xlab(\"Stage (ft)\")+\n",
    "    ylab(expression(\"Discharge (\"*ft^3*\"-\"*s^-1*\")\"))"
   ]
  },
  {
   "cell_type": "markdown",
   "id": "4d0bf162-83eb-4246-ae14-abea8d054d6a",
   "metadata": {},
   "source": [
    "We are going to try four different approaches for fitting a numerical to these data:\n",
    "* log-transformed linear regression\n",
    "* quadratic\n",
    "* third-order polynomial\n",
    "* LOESS (locally weighted scatterplot smoothing)\n",
    "\n",
    "We will then get estimates of goodness of fit for each approach and will select the best equation based on this criterion."
   ]
  },
  {
   "cell_type": "code",
   "execution_count": null,
   "id": "4ff568b8-5f77-41dd-8214-2ed84961cc82",
   "metadata": {},
   "outputs": [],
   "source": [
    "#removing missing values\n",
    "wabash_q_rating<-subset(wabash_q_rating,!is.na(gage_height_va) & !is.na(discharge_va))\n",
    "\n",
    "#log-transformed linear regression\n",
    "wabash_q_rating$log_transform_predict<-10^predict(lm(log10(discharge_va)~gage_height_va,data=wabash_q_rating),newdata=wabash_q_rating)\n",
    "\n",
    "#quadratic\n",
    "wabash_q_rating$quadratic_predict<-predict(lm(discharge_va~poly(gage_height_va,2),data=wabash_q_rating),newdata=wabash_q_rating)\n",
    "\n",
    "#third-order polynomial\n",
    "wabash_q_rating$poly_3_predict<-predict(lm(discharge_va~poly(gage_height_va,3),data=wabash_q_rating),newdata=wabash_q_rating)\n",
    "\n",
    "#LOESS\n",
    "wabash_q_rating$loess_predict <- predict(loess(discharge_va~gage_height_va,data=wabash_q_rating),newdata=wabash_q_rating)\n"
   ]
  },
  {
   "cell_type": "markdown",
   "id": "446a33a5-203c-40cc-8192-a81554b6dc84",
   "metadata": {},
   "source": [
    "Now we are going to plot the data with root mean square error (RMSE), which is an indication of error. Lower numbers mean a better fitting model."
   ]
  },
  {
   "cell_type": "code",
   "execution_count": null,
   "id": "13962179-531b-48ff-82c7-ccf376b255bd",
   "metadata": {},
   "outputs": [],
   "source": [
    "log_transform_rmse<-sqrt(mean((wabash_q_rating$discharge_va-wabash_q_rating$log_transform_predict)^2))\n",
    "quadratic_rmse<-sqrt(mean((wabash_q_rating$discharge_va-wabash_q_rating$quadratic_predict)^2))\n",
    "poly_3_rmse<-sqrt(mean((wabash_q_rating$discharge_va-wabash_q_rating$poly_3_predict)^2))\n",
    "loess_rmse<-sqrt(mean((wabash_q_rating$discharge_va-wabash_q_rating$loess_predict)^2))"
   ]
  },
  {
   "cell_type": "code",
   "execution_count": null,
   "id": "3d404158-4c43-49d7-9bf0-b6ce8256cef9",
   "metadata": {},
   "outputs": [],
   "source": [
    "ggplot(wabash_q_rating,aes(x=gage_height_va,y=discharge_va))+\n",
    "    geom_point()+\n",
    "    xlab(\"Stage (ft)\")+\n",
    "    ylab(expression(\"Discharge (\"*ft^3*\"-\"*s^-1*\")\"))+\n",
    "    ggtitle(\"Log-Transformed Linear Regression RMSE:\",log_transform_rmse)+\n",
    "    geom_line(data = wabash_q_rating, aes(x = gage_height_va, y = log_transform_predict), color = \"red\")\n",
    "\n",
    "ggplot(wabash_q_rating,aes(x=gage_height_va,y=discharge_va))+\n",
    "    geom_point()+\n",
    "    xlab(\"Stage (ft)\")+\n",
    "    ylab(expression(\"Discharge (\"*ft^3*\"-\"*s^-1*\")\"))+\n",
    "    ggtitle(\"Quadratic Regression RMSE:\",quadratic_rmse)+\n",
    "    geom_line(data = wabash_q_rating, aes(x = gage_height_va, y = quadratic_predict), color = \"red\")\n",
    "\n",
    "ggplot(wabash_q_rating,aes(x=gage_height_va,y=discharge_va))+\n",
    "    geom_point()+\n",
    "    xlab(\"Stage (ft)\")+\n",
    "    ylab(expression(\"Discharge (\"*ft^3*\"-\"*s^-1*\")\"))+\n",
    "    ggtitle(\"Third Order Polynomial Regression RMSE:\",poly_3_rmse)+\n",
    "    geom_line(data = wabash_q_rating, aes(x = gage_height_va, y = poly_3_predict), color = \"red\")\n",
    "\n",
    "ggplot(wabash_q_rating,aes(x=gage_height_va,y=discharge_va))+\n",
    "    geom_point()+\n",
    "    xlab(\"Stage (ft)\")+\n",
    "    ylab(expression(\"Discharge (\"*ft^3*\"-\"*s^-1*\")\"))+\n",
    "    ggtitle(\"LOESS RMSE:\",loess_rmse)+\n",
    "    geom_line(data = wabash_q_rating, aes(x = gage_height_va, y = loess_predict), color = \"red\")"
   ]
  },
  {
   "cell_type": "markdown",
   "id": "ccf80069-c377-4207-bbfc-3150e235c7c6",
   "metadata": {},
   "source": [
    "## Water Quality Sensor Data\n",
    "Water quality sensor data can also be obtained from many sites, but many more sites do not have these sensors deployed. Thus, it can be difficult for users to track down appropriate sources of data. Fortunately, the _dataRetrieval_ package has functions that will allow us to do this.\n",
    "\n",
    "First we're going to use a function called _whatNWISdata_ to find out where we can find different types of data. First we're going to look for all USGS sites located in Indiana with _in situ_ nitrate sensors."
   ]
  },
  {
   "cell_type": "code",
   "execution_count": null,
   "id": "c8c9f7f9-8069-4d32-8922-b11f0db6d27a",
   "metadata": {},
   "outputs": [],
   "source": [
    "siteListNitrate <- whatNWISsites(stateCd = \"IN\", parameterCd = \"99133\")\n",
    "siteListNitrate"
   ]
  },
  {
   "cell_type": "markdown",
   "id": "d6b3519b-94b7-49a8-816a-d0ad6e8ac2eb",
   "metadata": {},
   "source": [
    "We've found 20 sites with _in situ_ nitrate sensors. This does not mean that all these sensors are active at a given time. Sensors can be deployed for long term periods or, in some cases, only a few years of data are available before the sensor is removed.\n",
    "\n",
    "Note from the list that we've produced above, that there are groundwater sites included in this list: _site_tp_cd_ is _GW_. We will look at the unique sites types that are available and then restrict our list to stream or river sites using the subset command. Here we see that there are stream (ST), lake (LK) and groundwater (GW) sites."
   ]
  },
  {
   "cell_type": "code",
   "execution_count": null,
   "id": "7e269f28-5d1f-4d22-9401-55b0063fec54",
   "metadata": {},
   "outputs": [],
   "source": [
    "#listing the unique site type codes\n",
    "unique(siteListNitrate$site_tp_cd)\n",
    "\n",
    "#subsetting to only stream sites\n",
    "siteListNitrate_st<-subset(siteListNitrate,site_tp_cd==\"ST\")"
   ]
  },
  {
   "cell_type": "markdown",
   "id": "c65b6b0a-b4f4-46b7-a656-bb258b1c924d",
   "metadata": {},
   "source": [
    "Now that we have a list of sites of interest, we want to find out what is available for each of these sites. For this we can use the function _readNWISdata_. You can either choose one or multiple sites. Here we're choosing two sites Wabash River at New Harmony (03378500) and White River at Hazelton (03374100). For both sites we are going to request discharge (00060), temperature (00010), and nitrate sensor (99133) data. We are specifying _iv_ for service, which will return instantaneous, not summarized, data. Switching _iv_ to _dv_ will instead return daily mean values for each variable at each site.\n",
    "\n",
    "To ensure that all the desired data are downloaded, start timestamps (_startDate_) should be used. The end timestamp (_endDate_) can also be specified, but if you leave this unspecified, the query will operate properly and you will get data from the _startDate_ up to present."
   ]
  },
  {
   "cell_type": "code",
   "execution_count": null,
   "id": "83e78d46-7769-4f8c-9891-b0664ca7fd63",
   "metadata": {},
   "outputs": [],
   "source": [
    "IN_No3 <- readNWISdata(sites=c(\"03378500\",\"03374100\"), service=\"iv\", \n",
    "                   parameterCd=c(\"00060\",\"00010\",\"99133\"),\n",
    "                   startDate=\"2022-01-01T00:00Z\",endDate=\"2022-12-31T23:59Z\")"
   ]
  },
  {
   "cell_type": "markdown",
   "id": "6a34e7a9-ec95-4c91-adda-55ccd3425f79",
   "metadata": {},
   "source": [
    "We've dowloaded a year of data and now we'd like to plot these data together for each site. To do this will have to do a little bit of data manipulation. We'll use the _melt_ function in the R package _reshape2_ to convert our wide-formatted data to long-formatted data that will be easier to plot. Note that we are only selecting columns containing data and are removing quality control columns (e.g., those ending with __cd_). Also note that there are sensors positioned at multiple locations at the Wabash River site. We are only selecting the main sensors that are directly monitoring the river channel itself."
   ]
  },
  {
   "cell_type": "code",
   "execution_count": null,
   "id": "166ba5e6-5ebb-412e-bf78-e2e4435b916a",
   "metadata": {},
   "outputs": [],
   "source": [
    "IN_No3_tomelt<-IN_No3[,c(\"site_no\",\"dateTime\",\"X_00010_00000\",\"X_00060_00000\",\"X_99133_00000\")]\n",
    "\n",
    "IN_No3_toplot<-melt(IN_No3_tomelt,id=c(\"site_no\",\"dateTime\"))\n",
    "\n",
    "#We can convert our categorical values to factors and then add labels that will be plotted\n",
    "IN_No3_toplot$site_no<-factor(IN_No3_toplot$site_no, levels = c(\"03374100\",\"03378500\"), labels = c(\"White River\", \"Wabash River\"))\n",
    "IN_No3_toplot$variable<-factor(IN_No3_toplot$variable, levels = c(\"X_00060_00000\",\"X_00010_00000\",\"X_99133_00000\"), labels = c(\"Discharge (CFS)\", \"Temperature (C)\",\"Nitrate + Nitrate (mg-N/L)\"))\n"
   ]
  },
  {
   "cell_type": "code",
   "execution_count": null,
   "id": "858a92a3-9e57-4eff-bb72-4a24a582f2bd",
   "metadata": {},
   "outputs": [],
   "source": [
    "IN_No3_plot<-ggplot(IN_No3_toplot,aes(dateTime,value))+\n",
    "    geom_line()+\n",
    "    facet_wrap(~variable+site_no, scales=\"free_y\", ncol=2)\n",
    "\n",
    "IN_No3_plot"
   ]
  },
  {
   "cell_type": "markdown",
   "id": "42323586-2bef-46a5-8279-893379926b22",
   "metadata": {
    "jp-MarkdownHeadingCollapsed": true
   },
   "source": [
    "## Groundwater Well Data\n",
    "The last time of time series data we'll look at is groundwater well data. These data are obtained in a fashion fairly similar to the other time series data we've accessed so far. The first thing we want to do is identify some groundwater sites to look at. Below we will download a dataframe that contains all the sites with groundwater data in Indiana using the _whatNWISsites_ function. There are two ways we can do this. First, we can use the approach above, downloading a list of all sites in Indiana and subsetting _site_tp_cd_ to only include _GW_ sites. The other alternative is to find all sites with groundwater data available. In this case, we actually have to use three parameter codes to capture all the ways that groundwater data are reported by USGS in Indiana. Usually each site only reports one type of data, depending on when the site was commissioned or upgraded. The three parameter codes we will use for downloading groundwawter level data are:\n",
    "\n",
    "|pCode|Description|\n",
    "|-|-|\n",
    "|30210|Depth to water level, below land surface datum (LSD)|\n",
    "|30211|Elevation above NGVD 1929, meters|\n",
    "|62611|Groundwater level above NAVD 1988, feet|\n",
    "\n",
    "First we'll download all the sites in Indiana and narrow down."
   ]
  },
  {
   "cell_type": "code",
   "execution_count": null,
   "id": "e174d854-57d8-40a5-83d6-6abfe44af999",
   "metadata": {},
   "outputs": [],
   "source": [
    "siteListGroundwater <- whatNWISsites(stateCd = \"IN\")\n",
    "siteListGroundwater\n",
    "siteListGroundwater <- subset(siteListGroundwater, site_tp_cd==\"GW\")\n",
    "siteListGroundwater"
   ]
  },
  {
   "cell_type": "markdown",
   "id": "05ef4180-9680-4fc7-bb7f-d009dd1f3a40",
   "metadata": {},
   "source": [
    "This gives us a lot of rows! Let's use the parameter codes to narrow down the data to the sites that we need. The list is still pretty long, but it will help you narrow down to sites that are more likely to have active groundwater well monitoring. We'll also specifically look at the parameter code 30210 (Depth to water level, below land surface datum) and then select one of those sites to download and plot available data."
   ]
  },
  {
   "cell_type": "code",
   "execution_count": null,
   "id": "edb7b67d-f847-4212-bea2-8a07caec498c",
   "metadata": {},
   "outputs": [],
   "source": [
    "siteListGroundwaterIndiana <- whatNWISsites(stateCd = \"IN\", parameterCd = c(\"30210\",\"30211\",\"62611\"))\n",
    "siteListGroundwaterIndiana\n",
    "\n",
    "siteListGroundwaterIndiana_30210 <- whatNWISsites(stateCd = \"IN\", parameterCd = c(\"30210\"))\n",
    "siteListGroundwaterIndiana_30210\n",
    "\n",
    "\n"
   ]
  },
  {
   "cell_type": "markdown",
   "id": "89f4b888-5b17-48c8-9651-1df7d1cec95f",
   "metadata": {},
   "source": [
    "The _dataRetrieval_ package has an alternate function for downloading groundwater level data (_readNWISgwl_). Here we will download data from Morgan County in Indiana."
   ]
  },
  {
   "cell_type": "code",
   "execution_count": null,
   "id": "3b429768-61a4-4be9-9816-8c82dd73d6aa",
   "metadata": {},
   "outputs": [],
   "source": [
    "GroundwaterMorgan <- readNWISgwl(\"393423086161001\")\n",
    "GroundwaterMorgan"
   ]
  },
  {
   "cell_type": "markdown",
   "id": "09aef6cf-6f1c-4605-a44c-2f3c4fbfc712",
   "metadata": {},
   "source": [
    "Note that the groundwater level data are stored in a column called _lev_va_. We will plot these values to see how water level has changed since 1983. We can look at the depth from surface of groundwater (_lev_va_) or the level of groundwater above sea level (_sl_lev_va_). We will plot the latter."
   ]
  },
  {
   "cell_type": "code",
   "execution_count": null,
   "id": "0122c337-3281-410a-9546-19e480a3cf80",
   "metadata": {},
   "outputs": [],
   "source": [
    "ggplot(GroundwaterMorgan,aes(lev_dt,sl_lev_va))+\n",
    "geom_point() +\n",
    "xlab(\"\")+\n",
    "ylab(\"Groundwater Level above Sea Level (ft)\")"
   ]
  },
  {
   "cell_type": "markdown",
   "id": "bf20b7a3-0951-4914-97cc-8656cd03109e",
   "metadata": {
    "jp-MarkdownHeadingCollapsed": true
   },
   "source": [
    "## Water Quality Data\n",
    "\n",
    "Now we are going to download some water quality \"grab\" samples. The USGS will be shutting down their water quality service (_qw_). The new service is operational, but \n",
    "the _dataRetrieval_ package has not been updated to accomplish all tasks required so we will use the older functions for now, keeping in mind that this workflow will change slightly. When this happens, the _dataRetrival_ documentation linked to above will be updated.\n",
    "\n",
    "Here we are going to find all the sites in Indiana that have filtered total dissolved nitrogen (00602) or othorphosphate (00660) data available."
   ]
  },
  {
   "cell_type": "code",
   "execution_count": null,
   "id": "642f061e-44da-4f58-8851-bcecc150e125",
   "metadata": {},
   "outputs": [],
   "source": [
    "nitrogen_orthophosphate_sites <- whatNWISdata(\n",
    "  parameterCd = c(\"00602\",\"00660\"),\n",
    "  stateCd = \"IN\",\n",
    "  service = \"qw\"\n",
    ")\n",
    "\n",
    "nitrogen_orthophosphate_sites\n"
   ]
  },
  {
   "cell_type": "markdown",
   "id": "ed0bb3eb-4e32-4814-b7ea-ad670329862f",
   "metadata": {},
   "source": [
    "Choosing from the sites above, we'll start by downloading ortho-phosphate data from the Whitewater River near Economy, IN (Site ID 03274650). We don't end up getting much data, but you can use _count_nu_ variable in the dataframe _nitrogen_orthophosphate_sites_ to find sites with a greater number of samples available!"
   ]
  },
  {
   "cell_type": "code",
   "execution_count": null,
   "id": "dee7326d-629c-4483-b356-0cdc40ad713a",
   "metadata": {},
   "outputs": [],
   "source": [
    "WhitewaterRiver_orthop <- readNWISqw(siteNumbers=c(\"03274650\"),\n",
    "                     parameterCd=c(\"00602\")\n",
    "                        )\n",
    "WhitewaterRiver_orthop"
   ]
  },
  {
   "cell_type": "markdown",
   "id": "e19f25f3-2b7e-471b-b7ce-8644a50a5872",
   "metadata": {},
   "source": [
    "# Now it's your turn!\n",
    "## Plotting discharge\n",
    "\n",
    "First we're going to select a site and generate a plot of discharge over the last year. Replace the Wabash River ID with a site you've selected from the [USGS National Map](https://maps.waterdata.usgs.gov/mapper/index.html)."
   ]
  },
  {
   "cell_type": "code",
   "execution_count": null,
   "id": "9c36a38c-065d-42fd-91be-03ddfa084bf6",
   "metadata": {},
   "outputs": [],
   "source": [
    "usgs_site<-\"03378500\"\n",
    "\n",
    "site_q_iv <- readNWISdata(sites=usgs_site, service=\"iv\", \n",
    "                   parameterCd=c(\"00065\",\"00060\"), \n",
    "                   startDate=\"2014-05-01T00:00\",endDate=\"2014-06-01T12:00\",\n",
    "                   tz=\"CST\")\n",
    "\n",
    "site_q_iv_plot<-ggplot(site_q_iv,aes(x=dateTime,y=X_00065_00000))+\n",
    "geom_line(size=1.3)+\n",
    "xlab(\"\")+\n",
    "ylab(expression(\"Discharge (\"*ft^3*\"-\"*s^-1*\")\"))+\n",
    "ggtitle(paste(\"USGS Site ID:\",usgs_site))\n",
    "\n",
    "site_q_iv_plot"
   ]
  },
  {
   "cell_type": "markdown",
   "id": "8dd1561c-136f-4354-b9c6-d662481699ca",
   "metadata": {},
   "source": [
    "## Rating Curves\n",
    "Now we're going to plot rating curves for our site and select the best equation"
   ]
  },
  {
   "cell_type": "code",
   "execution_count": null,
   "id": "a8644cb5-60a2-4a6d-bb6c-108561f556c9",
   "metadata": {},
   "outputs": [],
   "source": [
    "site_q_rating <- readNWISdata(sites=usgs_site, service=\"measurements\",tz=\"CST6CDT\")\n",
    "\n",
    "\n",
    "site_q_rating"
   ]
  },
  {
   "cell_type": "code",
   "execution_count": null,
   "id": "4659e75a-a0b4-4614-b6df-e6f847201882",
   "metadata": {},
   "outputs": [],
   "source": [
    "#removing missing values\n",
    "site_q_rating<-subset(site_q_rating,!is.na(gage_height_va) & !is.na(discharge_va))\n",
    "\n",
    "#log-transformed linear regression\n",
    "site_q_rating$log_transform_predict<-10^predict(lm(log10(discharge_va)~gage_height_va,data=site_q_rating),newdata=site_q_rating)\n",
    "\n",
    "#quadratic\n",
    "site_q_rating$quadratic_predict<-predict(lm(discharge_va~poly(gage_height_va,2),data=site_q_rating),newdata=site_q_rating)\n",
    "\n",
    "#third-order polynomial\n",
    "site_q_rating$poly_3_predict<-predict(lm(discharge_va~poly(gage_height_va,3),data=site_q_rating),newdata=site_q_rating)\n",
    "\n",
    "#LOESS\n",
    "site_q_rating$loess_predict <- predict(loess(discharge_va~gage_height_va,data=site_q_rating),newdata=site_q_rating)\n"
   ]
  },
  {
   "cell_type": "code",
   "execution_count": null,
   "id": "2f0ebf06-c80c-45b6-a246-aa9a0656b080",
   "metadata": {},
   "outputs": [],
   "source": [
    "ggplot(site_q_rating,aes(x=gage_height_va,y=discharge_va))+\n",
    "    geom_point()+\n",
    "    xlab(\"Stage (ft)\")+\n",
    "    ylab(expression(\"Discharge (\"*ft^3*\"-\"*s^-1*\")\"))+\n",
    "    ggtitle(\"Log-Transformed Linear Regression RMSE:\",log_transform_rmse)+\n",
    "    geom_line(data = site_q_rating, aes(x = gage_height_va, y = log_transform_predict), color = \"red\")\n",
    "\n",
    "ggplot(site_q_rating,aes(x=gage_height_va,y=discharge_va))+\n",
    "    geom_point()+\n",
    "    xlab(\"Stage (ft)\")+\n",
    "    ylab(expression(\"Discharge (\"*ft^3*\"-\"*s^-1*\")\"))+\n",
    "    ggtitle(\"Quadratic Regression RMSE:\",quadratic_rmse)+\n",
    "    geom_line(data = site_q_rating, aes(x = gage_height_va, y = quadratic_predict), color = \"red\")\n",
    "\n",
    "ggplot(site_q_rating,aes(x=gage_height_va,y=discharge_va))+\n",
    "    geom_point()+\n",
    "    xlab(\"Stage (ft)\")+\n",
    "    ylab(expression(\"Discharge (\"*ft^3*\"-\"*s^-1*\")\"))+\n",
    "    ggtitle(\"Third Order Polynomial Regression RMSE:\",poly_3_rmse)+\n",
    "    geom_line(data = site_q_rating, aes(x = gage_height_va, y = poly_3_predict), color = \"red\")\n",
    "\n",
    "ggplot(site_q_rating,aes(x=gage_height_va,y=discharge_va))+\n",
    "    geom_point()+\n",
    "    xlab(\"Stage (ft)\")+\n",
    "    ylab(expression(\"Discharge (\"*ft^3*\"-\"*s^-1*\")\"))+\n",
    "    ggtitle(\"LOESS RMSE:\",loess_rmse)+\n",
    "    geom_line(data = site_q_rating, aes(x = gage_height_va, y = loess_predict), color = \"red\")"
   ]
  }
 ],
 "metadata": {
  "kernelspec": {
   "display_name": "R",
   "language": "R",
   "name": "ir"
  },
  "language_info": {
   "codemirror_mode": "r",
   "file_extension": ".r",
   "mimetype": "text/x-r-source",
   "name": "R",
   "pygments_lexer": "r",
   "version": "4.4.1"
  }
 },
 "nbformat": 4,
 "nbformat_minor": 5
}
