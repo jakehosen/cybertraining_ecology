{
 "cells": [
  {
   "cell_type": "markdown",
   "id": "1a0c5465-2944-48e2-93c6-27a2bfb0321c",
   "metadata": {},
   "source": [
    "# Downloading NEON Data\n",
    "NEON is a national network of research sites funded by the NSF. Each site has teams devoted to collecting a wide array of hydrology, biogeochemistry, and ecology data. A full list of the datasets available can be found at http://data.neonscience.org.\n",
    "\n",
    "We will be using the R package neonUtilities, which is designed to download and combine datasets the NEON data repository. We will start by downloading a few example datasets and then give you an opportunity to download your own datasets."
   ]
  },
  {
   "cell_type": "code",
   "execution_count": 7,
   "id": "f7484b16-4fa8-4fcf-9748-3c98bbffc363",
   "metadata": {},
   "outputs": [
    {
     "name": "stderr",
     "output_type": "stream",
     "text": [
      "\n",
      "Attaching package: ‘dplyr’\n",
      "\n",
      "\n",
      "The following objects are masked from ‘package:stats’:\n",
      "\n",
      "    filter, lag\n",
      "\n",
      "\n",
      "The following objects are masked from ‘package:base’:\n",
      "\n",
      "    intersect, setdiff, setequal, union\n",
      "\n",
      "\n"
     ]
    }
   ],
   "source": [
    "library(neonUtilities)\n",
    "library(ggplot2)\n",
    "library(dplyr)"
   ]
  },
  {
   "cell_type": "markdown",
   "id": "1368aa42-c15a-4c23-85a0-b28ca7f2b95a",
   "metadata": {},
   "source": [
    "Jupyter Lab and Jupyter Notebook have a default setting for the R kernel that limits the numbers of columns that can be viewed. In the case of data from NEON and other data repositories with extensive metadata, the limitation on columns can make it difficul to view your data. To change this setting, you can use the function below. This will set the maximum number of columns and rows displayed. Here the columns displayed have been set to 40 and the rows displayed has been set to 10, but these can be changed as desired."
   ]
  },
  {
   "cell_type": "code",
   "execution_count": 22,
   "id": "bb40845b-17f8-4d5e-bc71-1a362ee69a6f",
   "metadata": {},
   "outputs": [],
   "source": [
    "options(repr.matrix.max.cols=40, repr.matrix.max.rows=10)"
   ]
  },
  {
   "cell_type": "markdown",
   "id": "057a5c09-8aca-4eda-a4bc-d7ec49aa4409",
   "metadata": {},
   "source": [
    "## Setting up your data storage space."
   ]
  },
  {
   "cell_type": "markdown",
   "id": "386af484-57b2-4684-8add-84b81099378c",
   "metadata": {},
   "source": [
    "We need a place to save the files that you're going to download. When using bash and related terminals, the directory address _~/_ indicates the home directory for a given user. The command below creates a new directory in that home directory called _neon_data_. If the directory already exists, nothing will be changed and the _dir.create_ function will deliver a warning unless _showWarnings=FALSE_ is included in the command. We're doing this in the function below."
   ]
  },
  {
   "cell_type": "code",
   "execution_count": null,
   "id": "d0632625-9c5e-4244-86fc-c5fdafc03e79",
   "metadata": {},
   "outputs": [],
   "source": [
    "dir.create(\"~/neon_data\", showWarnings=FALSE)"
   ]
  },
  {
   "cell_type": "markdown",
   "id": "9a152362-2eea-4c70-802c-bba2899046d3",
   "metadata": {},
   "source": [
    "## Downloading hydrology data\n",
    "We will start by downloading hydrology data including discharge, velocity, and channel geometry parameters. We will begin with discharge. Discharge. Each data product at NEON has its own unique [site](https://www.neonscience.org/field-sites/explore-field-sites) and [data](https://data.neonscience.org/data-products/explore) identifier codes that we use to specify the dataset we want to download in the code below.\n",
    "\n",
    "We will begin by downloading hydrology data for the Arikee River (code ARIK) from the \"Continuous Discharge\" Data Product (DP4.00130.001).\n",
    "\n",
    "We will use the function _loadByProduct()_ to download the data. If you have any questions about a given function, you can type _?functionName_, in this case _?loadByProduct_ into a code cell and press ctrl+Enter (or cmd+Enter for macOS users) to get help documentation for that function.\n",
    "\n",
    "### Discharge\n",
    "\n",
    "We will begin by loading discharge data from the Arikee River into the data object _Arik_Q_. We use the option _chec.size = FALSE_, which removes an interactive step that requires confirmation download confirmation downloading the requested data. NEON datasets are rarely more than 500 mb in size. If such datasets may cause space concerns, you can change the option to _check.size = TRUE_."
   ]
  },
  {
   "cell_type": "code",
   "execution_count": 14,
   "id": "9f6330cd-3bd0-4f9f-aa20-a151d4efb9a0",
   "metadata": {},
   "outputs": [
    {
     "name": "stdout",
     "output_type": "stream",
     "text": [
      "Finding available files\n",
      "  |======================================================================| 100%\n",
      "Provisional data were excluded from available files list. To download provisional data, use input parameter include.provisional=TRUE.\n",
      "Downloading files totaling approximately 419.879251 MB\n",
      "Downloading 74 files\n",
      "  |======================================================================| 100%\n",
      "\n",
      "Unpacking zip files using 1 cores.\n",
      "Stacking operation across a single core.\n",
      "Stacking table csd_continuousDischarge\n",
      "Copied the most recent publication of categoricalCodes file to /stackedFiles\n",
      "Merged the most recent publication of sensor position files for each site and saved to /stackedFiles\n",
      "Aggregated the science review flag files for each site and saved to /stackedFiles\n",
      "Copied the most recent publication of variable definition file to /stackedFiles\n",
      "Finished: Stacked 1 data tables and 5 metadata tables!\n",
      "Stacking took 12.3587 secs\n"
     ]
    }
   ],
   "source": [
    "Arik_Q<-loadByProduct(dpID = \"DP4.00130.001\",site = \"ARIK\", check.size = FALSE)"
   ]
  },
  {
   "cell_type": "markdown",
   "id": "a423cd2e-834a-4deb-9dca-ce1e8e833405",
   "metadata": {},
   "source": [
    "The dataset you've downloaded contains continuous discharge data as well as a large amount of ancillary metadata. To start unpacking your data, use the _names_ function in R.\n",
    "\n",
    "Note that there is a lot of data here. This includes a lot of useful metadata, but we just want to look at the discharge estimates right now. See if you can figure out from the results of the structure command the location of the continuous discharge data."
   ]
  },
  {
   "cell_type": "code",
   "execution_count": 15,
   "id": "d43ee249-7493-4986-877f-5504dfae49bb",
   "metadata": {},
   "outputs": [
    {
     "data": {
      "text/html": [
       "<style>\n",
       ".list-inline {list-style: none; margin:0; padding: 0}\n",
       ".list-inline>li {display: inline-block}\n",
       ".list-inline>li:not(:last-child)::after {content: \"\\00b7\"; padding: 0 .5ex}\n",
       "</style>\n",
       "<ol class=list-inline><li>'categoricalCodes_00130'</li><li>'citation_00130_RELEASE-2024'</li><li>'csd_continuousDischarge'</li><li>'issueLog_00130'</li><li>'readme_00130'</li><li>'science_review_flags_00130'</li><li>'sensor_positions_00130'</li><li>'variables_00130'</li></ol>\n"
      ],
      "text/latex": [
       "\\begin{enumerate*}\n",
       "\\item 'categoricalCodes\\_00130'\n",
       "\\item 'citation\\_00130\\_RELEASE-2024'\n",
       "\\item 'csd\\_continuousDischarge'\n",
       "\\item 'issueLog\\_00130'\n",
       "\\item 'readme\\_00130'\n",
       "\\item 'science\\_review\\_flags\\_00130'\n",
       "\\item 'sensor\\_positions\\_00130'\n",
       "\\item 'variables\\_00130'\n",
       "\\end{enumerate*}\n"
      ],
      "text/markdown": [
       "1. 'categoricalCodes_00130'\n",
       "2. 'citation_00130_RELEASE-2024'\n",
       "3. 'csd_continuousDischarge'\n",
       "4. 'issueLog_00130'\n",
       "5. 'readme_00130'\n",
       "6. 'science_review_flags_00130'\n",
       "7. 'sensor_positions_00130'\n",
       "8. 'variables_00130'\n",
       "\n",
       "\n"
      ],
      "text/plain": [
       "[1] \"categoricalCodes_00130\"      \"citation_00130_RELEASE-2024\"\n",
       "[3] \"csd_continuousDischarge\"     \"issueLog_00130\"             \n",
       "[5] \"readme_00130\"                \"science_review_flags_00130\" \n",
       "[7] \"sensor_positions_00130\"      \"variables_00130\"            "
      ]
     },
     "metadata": {},
     "output_type": "display_data"
    }
   ],
   "source": [
    "names(Arik_Q)"
   ]
  },
  {
   "cell_type": "markdown",
   "id": "6b2cb806-aa85-4521-a707-15554b210a42",
   "metadata": {},
   "source": [
    "You can check the contents of each of these list elements by using the command _head_ and include the name of the list _Arik_Q_ and the names of the list element that you want to view followed by a dollar sign. The command _head_ will show the first six rows of the data frame or matrix."
   ]
  },
  {
   "cell_type": "code",
   "execution_count": 45,
   "id": "cd803d8f-31da-4516-99dc-338d6d5f64e4",
   "metadata": {},
   "outputs": [
    {
     "data": {
      "text/html": [
       "<table class=\"dataframe\">\n",
       "<caption>A data.frame: 6 × 19</caption>\n",
       "<thead>\n",
       "\t<tr><th></th><th scope=col>siteID</th><th scope=col>stationHorizontalID</th><th scope=col>namedLocation</th><th scope=col>endDate</th><th scope=col>curveID</th><th scope=col>regressionID</th><th scope=col>calibratedPressure</th><th scope=col>equivalentStage</th><th scope=col>nonSystematicUnc</th><th scope=col>systematicUnc</th><th scope=col>stageUnc</th><th scope=col>maxpostDischarge</th><th scope=col>withParaUncQLower2Std</th><th scope=col>withParaUncQUpper2Std</th><th scope=col>withRemnUncQLower2Std</th><th scope=col>withRemnUncQUpper2Std</th><th scope=col>dischargeFinalQF</th><th scope=col>dischargeFinalQFSciRvw</th><th scope=col>release</th></tr>\n",
       "\t<tr><th></th><th scope=col>&lt;chr&gt;</th><th scope=col>&lt;chr&gt;</th><th scope=col>&lt;chr&gt;</th><th scope=col>&lt;dttm&gt;</th><th scope=col>&lt;chr&gt;</th><th scope=col>&lt;chr&gt;</th><th scope=col>&lt;dbl&gt;</th><th scope=col>&lt;dbl&gt;</th><th scope=col>&lt;dbl&gt;</th><th scope=col>&lt;dbl&gt;</th><th scope=col>&lt;dbl&gt;</th><th scope=col>&lt;dbl&gt;</th><th scope=col>&lt;dbl&gt;</th><th scope=col>&lt;dbl&gt;</th><th scope=col>&lt;dbl&gt;</th><th scope=col>&lt;dbl&gt;</th><th scope=col>&lt;dbl&gt;</th><th scope=col>&lt;dbl&gt;</th><th scope=col>&lt;chr&gt;</th></tr>\n",
       "</thead>\n",
       "<tbody>\n",
       "\t<tr><th scope=row>1</th><td>ARIK</td><td>102</td><td>CFGLOC101671</td><td>2016-08-12 00:00:00</td><td>ARIK.2016</td><td>ARIK.2016.reg1</td><td>NA</td><td>NA</td><td>NA</td><td>NA</td><td>NA</td><td>NA</td><td>NA</td><td>NA</td><td>NA</td><td>NA</td><td>1</td><td>NA</td><td>RELEASE-2024</td></tr>\n",
       "\t<tr><th scope=row>2</th><td>ARIK</td><td>102</td><td>CFGLOC101671</td><td>2016-08-12 00:01:00</td><td>ARIK.2016</td><td>ARIK.2016.reg1</td><td>NA</td><td>NA</td><td>NA</td><td>NA</td><td>NA</td><td>NA</td><td>NA</td><td>NA</td><td>NA</td><td>NA</td><td>1</td><td>NA</td><td>RELEASE-2024</td></tr>\n",
       "\t<tr><th scope=row>3</th><td>ARIK</td><td>102</td><td>CFGLOC101671</td><td>2016-08-12 00:02:00</td><td>ARIK.2016</td><td>ARIK.2016.reg1</td><td>NA</td><td>NA</td><td>NA</td><td>NA</td><td>NA</td><td>NA</td><td>NA</td><td>NA</td><td>NA</td><td>NA</td><td>1</td><td>NA</td><td>RELEASE-2024</td></tr>\n",
       "\t<tr><th scope=row>4</th><td>ARIK</td><td>102</td><td>CFGLOC101671</td><td>2016-08-12 00:03:00</td><td>ARIK.2016</td><td>ARIK.2016.reg1</td><td>NA</td><td>NA</td><td>NA</td><td>NA</td><td>NA</td><td>NA</td><td>NA</td><td>NA</td><td>NA</td><td>NA</td><td>1</td><td>NA</td><td>RELEASE-2024</td></tr>\n",
       "\t<tr><th scope=row>5</th><td>ARIK</td><td>102</td><td>CFGLOC101671</td><td>2016-08-12 00:04:00</td><td>ARIK.2016</td><td>ARIK.2016.reg1</td><td>NA</td><td>NA</td><td>NA</td><td>NA</td><td>NA</td><td>NA</td><td>NA</td><td>NA</td><td>NA</td><td>NA</td><td>1</td><td>NA</td><td>RELEASE-2024</td></tr>\n",
       "\t<tr><th scope=row>6</th><td>ARIK</td><td>102</td><td>CFGLOC101671</td><td>2016-08-12 00:05:00</td><td>ARIK.2016</td><td>ARIK.2016.reg1</td><td>NA</td><td>NA</td><td>NA</td><td>NA</td><td>NA</td><td>NA</td><td>NA</td><td>NA</td><td>NA</td><td>NA</td><td>1</td><td>NA</td><td>RELEASE-2024</td></tr>\n",
       "</tbody>\n",
       "</table>\n"
      ],
      "text/latex": [
       "A data.frame: 6 × 19\n",
       "\\begin{tabular}{r|lllllllllllllllllll}\n",
       "  & siteID & stationHorizontalID & namedLocation & endDate & curveID & regressionID & calibratedPressure & equivalentStage & nonSystematicUnc & systematicUnc & stageUnc & maxpostDischarge & withParaUncQLower2Std & withParaUncQUpper2Std & withRemnUncQLower2Std & withRemnUncQUpper2Std & dischargeFinalQF & dischargeFinalQFSciRvw & release\\\\\n",
       "  & <chr> & <chr> & <chr> & <dttm> & <chr> & <chr> & <dbl> & <dbl> & <dbl> & <dbl> & <dbl> & <dbl> & <dbl> & <dbl> & <dbl> & <dbl> & <dbl> & <dbl> & <chr>\\\\\n",
       "\\hline\n",
       "\t1 & ARIK & 102 & CFGLOC101671 & 2016-08-12 00:00:00 & ARIK.2016 & ARIK.2016.reg1 & NA & NA & NA & NA & NA & NA & NA & NA & NA & NA & 1 & NA & RELEASE-2024\\\\\n",
       "\t2 & ARIK & 102 & CFGLOC101671 & 2016-08-12 00:01:00 & ARIK.2016 & ARIK.2016.reg1 & NA & NA & NA & NA & NA & NA & NA & NA & NA & NA & 1 & NA & RELEASE-2024\\\\\n",
       "\t3 & ARIK & 102 & CFGLOC101671 & 2016-08-12 00:02:00 & ARIK.2016 & ARIK.2016.reg1 & NA & NA & NA & NA & NA & NA & NA & NA & NA & NA & 1 & NA & RELEASE-2024\\\\\n",
       "\t4 & ARIK & 102 & CFGLOC101671 & 2016-08-12 00:03:00 & ARIK.2016 & ARIK.2016.reg1 & NA & NA & NA & NA & NA & NA & NA & NA & NA & NA & 1 & NA & RELEASE-2024\\\\\n",
       "\t5 & ARIK & 102 & CFGLOC101671 & 2016-08-12 00:04:00 & ARIK.2016 & ARIK.2016.reg1 & NA & NA & NA & NA & NA & NA & NA & NA & NA & NA & 1 & NA & RELEASE-2024\\\\\n",
       "\t6 & ARIK & 102 & CFGLOC101671 & 2016-08-12 00:05:00 & ARIK.2016 & ARIK.2016.reg1 & NA & NA & NA & NA & NA & NA & NA & NA & NA & NA & 1 & NA & RELEASE-2024\\\\\n",
       "\\end{tabular}\n"
      ],
      "text/markdown": [
       "\n",
       "A data.frame: 6 × 19\n",
       "\n",
       "| <!--/--> | siteID &lt;chr&gt; | stationHorizontalID &lt;chr&gt; | namedLocation &lt;chr&gt; | endDate &lt;dttm&gt; | curveID &lt;chr&gt; | regressionID &lt;chr&gt; | calibratedPressure &lt;dbl&gt; | equivalentStage &lt;dbl&gt; | nonSystematicUnc &lt;dbl&gt; | systematicUnc &lt;dbl&gt; | stageUnc &lt;dbl&gt; | maxpostDischarge &lt;dbl&gt; | withParaUncQLower2Std &lt;dbl&gt; | withParaUncQUpper2Std &lt;dbl&gt; | withRemnUncQLower2Std &lt;dbl&gt; | withRemnUncQUpper2Std &lt;dbl&gt; | dischargeFinalQF &lt;dbl&gt; | dischargeFinalQFSciRvw &lt;dbl&gt; | release &lt;chr&gt; |\n",
       "|---|---|---|---|---|---|---|---|---|---|---|---|---|---|---|---|---|---|---|---|\n",
       "| 1 | ARIK | 102 | CFGLOC101671 | 2016-08-12 00:00:00 | ARIK.2016 | ARIK.2016.reg1 | NA | NA | NA | NA | NA | NA | NA | NA | NA | NA | 1 | NA | RELEASE-2024 |\n",
       "| 2 | ARIK | 102 | CFGLOC101671 | 2016-08-12 00:01:00 | ARIK.2016 | ARIK.2016.reg1 | NA | NA | NA | NA | NA | NA | NA | NA | NA | NA | 1 | NA | RELEASE-2024 |\n",
       "| 3 | ARIK | 102 | CFGLOC101671 | 2016-08-12 00:02:00 | ARIK.2016 | ARIK.2016.reg1 | NA | NA | NA | NA | NA | NA | NA | NA | NA | NA | 1 | NA | RELEASE-2024 |\n",
       "| 4 | ARIK | 102 | CFGLOC101671 | 2016-08-12 00:03:00 | ARIK.2016 | ARIK.2016.reg1 | NA | NA | NA | NA | NA | NA | NA | NA | NA | NA | 1 | NA | RELEASE-2024 |\n",
       "| 5 | ARIK | 102 | CFGLOC101671 | 2016-08-12 00:04:00 | ARIK.2016 | ARIK.2016.reg1 | NA | NA | NA | NA | NA | NA | NA | NA | NA | NA | 1 | NA | RELEASE-2024 |\n",
       "| 6 | ARIK | 102 | CFGLOC101671 | 2016-08-12 00:05:00 | ARIK.2016 | ARIK.2016.reg1 | NA | NA | NA | NA | NA | NA | NA | NA | NA | NA | 1 | NA | RELEASE-2024 |\n",
       "\n"
      ],
      "text/plain": [
       "  siteID stationHorizontalID namedLocation endDate             curveID  \n",
       "1 ARIK   102                 CFGLOC101671  2016-08-12 00:00:00 ARIK.2016\n",
       "2 ARIK   102                 CFGLOC101671  2016-08-12 00:01:00 ARIK.2016\n",
       "3 ARIK   102                 CFGLOC101671  2016-08-12 00:02:00 ARIK.2016\n",
       "4 ARIK   102                 CFGLOC101671  2016-08-12 00:03:00 ARIK.2016\n",
       "5 ARIK   102                 CFGLOC101671  2016-08-12 00:04:00 ARIK.2016\n",
       "6 ARIK   102                 CFGLOC101671  2016-08-12 00:05:00 ARIK.2016\n",
       "  regressionID   calibratedPressure equivalentStage nonSystematicUnc\n",
       "1 ARIK.2016.reg1 NA                 NA              NA              \n",
       "2 ARIK.2016.reg1 NA                 NA              NA              \n",
       "3 ARIK.2016.reg1 NA                 NA              NA              \n",
       "4 ARIK.2016.reg1 NA                 NA              NA              \n",
       "5 ARIK.2016.reg1 NA                 NA              NA              \n",
       "6 ARIK.2016.reg1 NA                 NA              NA              \n",
       "  systematicUnc stageUnc maxpostDischarge withParaUncQLower2Std\n",
       "1 NA            NA       NA               NA                   \n",
       "2 NA            NA       NA               NA                   \n",
       "3 NA            NA       NA               NA                   \n",
       "4 NA            NA       NA               NA                   \n",
       "5 NA            NA       NA               NA                   \n",
       "6 NA            NA       NA               NA                   \n",
       "  withParaUncQUpper2Std withRemnUncQLower2Std withRemnUncQUpper2Std\n",
       "1 NA                    NA                    NA                   \n",
       "2 NA                    NA                    NA                   \n",
       "3 NA                    NA                    NA                   \n",
       "4 NA                    NA                    NA                   \n",
       "5 NA                    NA                    NA                   \n",
       "6 NA                    NA                    NA                   \n",
       "  dischargeFinalQF dischargeFinalQFSciRvw release     \n",
       "1 1                NA                     RELEASE-2024\n",
       "2 1                NA                     RELEASE-2024\n",
       "3 1                NA                     RELEASE-2024\n",
       "4 1                NA                     RELEASE-2024\n",
       "5 1                NA                     RELEASE-2024\n",
       "6 1                NA                     RELEASE-2024"
      ]
     },
     "metadata": {},
     "output_type": "display_data"
    }
   ],
   "source": [
    "head(Arik_Q$csd_continuousDischarge)"
   ]
  },
  {
   "cell_type": "markdown",
   "id": "3f9199f3-574a-44d3-a9ed-d897e4bcd73c",
   "metadata": {},
   "source": [
    "The discharge time series is inclued in the dataframe \"csd_continuousDischarge\". Within this dataframe there are a number of columns, the one with the discharge data is called _maxpostDischarge_. The structure of online datasets from NEON and data repositories can sometimes be unintuitive. Fortunately, online repositories also include documentation. This includes a [metadata document from NEON](file:///Users/jdh/Downloads/NEON_continuousQ_userGuide_vD.1.pdf) that describes the nature of data product DP4.00130.001, continuous discharge,in detail. These can be found associated with each dataproduct at data.neonscience.org."
   ]
  },
  {
   "cell_type": "code",
   "execution_count": null,
   "id": "12470d53-3542-42a5-8ca2-34d1c3069a9b",
   "metadata": {},
   "outputs": [],
   "source": [
    "Arik_Q_cD<-Arik_Q[[\"csd_continuousDischarge\"]]\n",
    "head(Arik_Q_cD)\n",
    "names(Arik_Q_cD)\n",
    "Arik_Q_cD$maxpostDischarge"
   ]
  },
  {
   "cell_type": "markdown",
   "id": "26a311ca-5b34-45ea-83cb-47bb182c28c3",
   "metadata": {},
   "source": [
    "Now that we've found the dataset, let's plot it using the ggplot package. Fortunately, this dataset includes a formatted date/time column so plotting is easy."
   ]
  },
  {
   "cell_type": "code",
   "execution_count": null,
   "id": "b439762f-b7dd-49b0-a295-ca61f0dbf632",
   "metadata": {},
   "outputs": [],
   "source": [
    "ggplot(Arik_Q_cD,aes(endDate,maxpostDischarge))+\n",
    "geom_point(size=2)+\n",
    "geom_line()"
   ]
  },
  {
   "cell_type": "markdown",
   "id": "589cbb98-89cd-4793-8829-592bbcb6ea28",
   "metadata": {},
   "source": [
    "#### Try downloading from another site of your choice. Save the continuous discharge dataset in the same directory as we saved the previous file."
   ]
  },
  {
   "cell_type": "markdown",
   "id": "a068fd35-3e9c-4a78-8c37-e9ebe1c60862",
   "metadata": {},
   "source": [
    "### Channel Geometry\n",
    "Channel geometry is a useful parameter for ecological analysis and some of the analyses that we will conduct in subsequent modules. We can use NEON's [Discharge Field Collection (DP1.20048.001)](https://data.neonscience.org/data-products/DP1.20048.001) to obtain these measurements."
   ]
  },
  {
   "cell_type": "code",
   "execution_count": null,
   "id": "3f9314ce-30a4-4a29-86b3-21798ffa1918",
   "metadata": {},
   "outputs": [],
   "source": [
    "Arik_DFC<-loadByProduct(dpID = \"DP1.20048.001\",site = \"ARIK\", check.size = FALSE)"
   ]
  },
  {
   "cell_type": "markdown",
   "id": "b5323610-da41-47f4-9bce-00895a2ccf18",
   "metadata": {},
   "source": [
    "As before, we have to use the structure command to find the data we need. If you review the NEON documentation for this dataset, you will note that field surveys are conducted with the aid of an accoustic doppler current profiler (ADCP). The results of these surveys are summarized in the  list element _dsc_individualFieldData. This is the dataframe that has the hydraulic geometry parameters we're looking for!"
   ]
  },
  {
   "cell_type": "code",
   "execution_count": null,
   "id": "39db1c89-9d8b-49eb-8b40-88c751126224",
   "metadata": {},
   "outputs": [],
   "source": [
    "str(Arik_DFC)\n",
    "Arik_HG<-Arik_DFC$dsc_fieldDataADCP"
   ]
  },
  {
   "cell_type": "markdown",
   "id": "aa0330ab-d304-4fe5-b84d-ef52e270404a",
   "metadata": {},
   "source": [
    "We can use these data to assess the relationship between different hydraulic parameters."
   ]
  },
  {
   "cell_type": "code",
   "execution_count": null,
   "id": "334ffec5-b36c-4049-9f05-73c453c0d0a3",
   "metadata": {},
   "outputs": [],
   "source": [
    "names(Arik_HG)\n",
    "head(Arik_HG)\n",
    "Arik_HG$Channel_Width<-Arik_HG$sectionArea/Arik_HG$waterDepth\n",
    "ggplot(Arik_HG,aes(waterDepth,sectionArea))+geom_point()\n",
    "ggplot(Arik_HG,aes(Channel_Width,waterDepth))+geom_point()\n"
   ]
  },
  {
   "cell_type": "markdown",
   "id": "60234532-0e2a-472b-a35d-106a0ed0441d",
   "metadata": {},
   "source": [
    "### Rating Curve\n",
    "Finally, we want to be able to download, view, and evaluate rating curves that were used to produce continuous discharge measurements from pressure transducers. These are obtained from the [Stage-Discharge Rating Curves (DP4.00133.001)](https://data.neonscience.org/data-products/DP4.00133.001) dataset."
   ]
  },
  {
   "cell_type": "code",
   "execution_count": null,
   "id": "afb480c8-1781-4cc4-84c0-2230f7e6fcfb",
   "metadata": {},
   "outputs": [],
   "source": [
    "Arik_RC<-loadByProduct(dpID = \"DP4.00133.001\",site = \"ARIK\", check.size = FALSE)"
   ]
  },
  {
   "cell_type": "code",
   "execution_count": null,
   "id": "0cdeb5e2-0c7f-49a6-8957-3ae054cbff62",
   "metadata": {},
   "outputs": [],
   "source": [
    "str(Arik_RC)"
   ]
  },
  {
   "cell_type": "code",
   "execution_count": null,
   "id": "94f888a6-a0a4-491d-adb6-35dd90c4bfba",
   "metadata": {},
   "outputs": [],
   "source": [
    "Arik_DC<-Arik_RC$sdrc_gaugeDischargeMeas\n",
    "names(Arik_DC)\n",
    "str(Arik_DC)\n",
    "head(Arik_DC)"
   ]
  },
  {
   "cell_type": "code",
   "execution_count": null,
   "id": "65c7730c-f5ad-42b1-bbed-2ba92913eda4",
   "metadata": {},
   "outputs": [],
   "source": [
    "ggplot(Arik_DC,aes(gaugeHeight,streamDischarge))+geom_point()"
   ]
  },
  {
   "cell_type": "markdown",
   "id": "22b3506c-2be8-4b3c-9216-3e2464038df2",
   "metadata": {},
   "source": [
    "## Water Chemistry Data\n",
    "There are two types of water chemistry data available from NEON and other portals. There are individually collected grab samples as well as continuously collected sensor data. Both types of data have their own advantages and drawbacks and are most useful when collected side-by-side. NEON collects a variety of grab samples and also deploys a number of _in situ_ water sensors.\n",
    "\n",
    "Grab samples collected include [water quality/chemistry (anions, cations, conductivity, pH, and various forms of carbon and\n",
    "nutrients including total, dissolved and particulates)](https://data.neonscience.org/data-products/DP1.20093.001), dissolved gasses (nitrous oxide, methane, carbon dioxide), and surface water stable isotopes ()\n",
    "\n",
    "Sensors deployed for _in situ_ data collection include a [YSI EXO 2 Multiparameter Sonde (temperature, conductance, pH, fluorescence dissolved organic matter (fDOM), dissolved oxygen)](https://data.neonscience.org/data-products/DP1.20288.001), [SUNA V2 Nitrate Sensor (nitrate, absorbance at 254 nm)](https://data.neonscience.org/data-products/DP1.20033.001).\n",
    "\n",
    "### Grab Sample Data\n",
    "We will download grab sample data, again using the Arikee River site as our example."
   ]
  },
  {
   "cell_type": "code",
   "execution_count": null,
   "id": "45d983c2-3683-4144-a886-5bdd37ead4fc",
   "metadata": {},
   "outputs": [],
   "source": [
    "Arik_WC<-loadByProduct(dpID = \"DP1.20093.001\",site = \"ARIK\", check.size = FALSE)"
   ]
  },
  {
   "cell_type": "code",
   "execution_count": null,
   "id": "e77c7f51-e66a-4ca8-9013-b2877a33d83a",
   "metadata": {},
   "outputs": [],
   "source": [
    "str(Arik_WC)"
   ]
  },
  {
   "cell_type": "markdown",
   "id": "12437058-c9bc-4627-bf7d-a5e90bd996fe",
   "metadata": {},
   "source": [
    "Let's extract nitrate, chloride, and pH values and plot these over time!"
   ]
  },
  {
   "cell_type": "markdown",
   "id": "27c7f17a-2fae-4092-9eb3-7a5c4e83c6de",
   "metadata": {},
   "source": [
    "There are two datasets of interest, the first contains data collected by the local NEON domain (swc_domainLabData), the second contains data collected by an externally contracted lab (swc_externalLabDataByAnalyte), we're going to extract both of these datasets."
   ]
  },
  {
   "cell_type": "code",
   "execution_count": null,
   "id": "d90437a9-2187-499e-9916-5969993dd0a9",
   "metadata": {},
   "outputs": [],
   "source": [
    "Arik_DomainWC<-Arik_WC$swc_domainLabData\n",
    "Arik_ExternalWC<-Arik_WC$swc_externalLabDataByAnalyte"
   ]
  },
  {
   "cell_type": "code",
   "execution_count": null,
   "id": "8374251d-0799-4a8b-a51f-b6b201663d61",
   "metadata": {},
   "outputs": [],
   "source": [
    "names(Arik_DomainWC)\n",
    "head(Arik_DomainWC)\n",
    "names(Arik_ExternalWC)\n",
    "head(Arik_ExternalWC)"
   ]
  },
  {
   "cell_type": "markdown",
   "id": "c38ea177-4e7c-4c2c-8786-5b7533962d2e",
   "metadata": {},
   "source": [
    "As you can see, most of the water chemistry data are contained in the Arik_ExternalWC dataset. You can examine the analyte for each dataset by accessing the columns as shown in the cell below. Let's plot iron (Fe) and Nitrate/Nitrate (NO3+NO2 - N) values over time"
   ]
  },
  {
   "cell_type": "code",
   "execution_count": null,
   "id": "eaa6b0a4-595d-4a37-a895-1d29e2ae425e",
   "metadata": {
    "scrolled": true
   },
   "outputs": [],
   "source": [
    "unique(Arik_ExternalWC$analyte)"
   ]
  },
  {
   "cell_type": "code",
   "execution_count": null,
   "id": "34091768-e779-4c3a-9eb6-85243af19ec2",
   "metadata": {},
   "outputs": [],
   "source": [
    "Arik_WC_Plot<-subset(Arik_ExternalWC,analyte==\"Fe\" | analyte ==\"NO3+NO2 - N\")\n",
    "ggplot(Arik_WC_Plot,aes(x=collectDate,y=analyteConcentration,color=analyte))+\n",
    "    geom_point(size=2)+\n",
    "    facet_wrap(.~analyte,ncol=1,scales=\"free_y\")"
   ]
  },
  {
   "cell_type": "markdown",
   "id": "1bd5d7b6-3590-4ecd-9956-a46e4bf2d5d4",
   "metadata": {},
   "source": [
    "### Photosynthetically Active Radiation Data\n",
    "Photosynthetically active radiation (PAR) is a key input for many ecosystem models that involve photosynthesis. Given the importance of these data to future models, we will learn how to download these data here."
   ]
  },
  {
   "cell_type": "code",
   "execution_count": null,
   "id": "91647b30-dd3a-4ff2-a1c4-cabdb71f97c4",
   "metadata": {},
   "outputs": [],
   "source": []
  },
  {
   "cell_type": "markdown",
   "id": "e77acc59-1dbc-4c2e-845c-52a047bcae60",
   "metadata": {},
   "source": [
    "### Continuous Sensor Data\n",
    "Now we will practice downloading, extracting, and plotting _in situ_ sensor data using the Water Quality (DP1.20288.001) dataset. First we will download the dataset and examine its structure. For the YSI EXO 2 water quality data, the dataframe is contained in the list as \"waq_instantaneous\""
   ]
  },
  {
   "cell_type": "code",
   "execution_count": null,
   "id": "51abb105-3977-4e34-ab5d-3864801eaf14",
   "metadata": {},
   "outputs": [],
   "source": [
    "Arik_WQ<-loadByProduct(dpID = \"DP1.20288.001\",site = \"ARIK\", check.size = FALSE)"
   ]
  },
  {
   "cell_type": "code",
   "execution_count": null,
   "id": "e34efa8d-18d7-44c7-9f0f-c7de03a6bb17",
   "metadata": {},
   "outputs": [],
   "source": [
    "str(Arik_WQ)\n",
    "Arik_WQ_Data<-Arik_WQ$waq_instantaneous"
   ]
  },
  {
   "cell_type": "code",
   "execution_count": null,
   "id": "79eb0b7f-1502-4fda-9ed5-341affcc2366",
   "metadata": {},
   "outputs": [],
   "source": [
    "head(Arik_WQ_Data)\n",
    "names(Arik_WQ_Data)"
   ]
  },
  {
   "cell_type": "markdown",
   "id": "0fafb57c-c0e1-4758-903b-b5e84a126eeb",
   "metadata": {},
   "source": [
    "Now we can easily plot different parameters using ggplot or the plotting function of choice. In this example, we are plotting specific conductance (specificConductance) and dissolved oxygen percent saturation (localDissolvedOxygenSat). Remember, as always, you can reference the data product documentation if you are unsure about the meaning of a given variable. Caution, the dataset is large so if you plot the entire dataset this may take a moment."
   ]
  },
  {
   "cell_type": "code",
   "execution_count": null,
   "id": "1b308351-e734-4ef6-adf1-41a4b25bc174",
   "metadata": {},
   "outputs": [],
   "source": [
    "ggplot(Arik_WQ_Data,aes(x=startDateTime,y=specificConductance))+\n",
    "    geom_point()\n",
    "\n",
    "ggplot(Arik_WQ_Data,aes(x=startDateTime,y=localDissolvedOxygenSat))+\n",
    "    geom_point()"
   ]
  },
  {
   "cell_type": "markdown",
   "id": "97f2d6a5-07d2-4f84-aeba-8cd1dfb26373",
   "metadata": {},
   "source": [
    "## Biodiversity Data"
   ]
  },
  {
   "cell_type": "markdown",
   "id": "6e2c61f4-74c0-463b-afdc-74207bcd0d41",
   "metadata": {},
   "source": [
    "### Macroinvertebrate Biodiversity Data\n",
    "Macroinvertebrate diversity is a key dataset for water quality regulations. Many of the determinations regarding water quality under federal water protection laws in the United States are based on the diversity of benthic macroinvertebrates in streams and rivers.\n",
    "\n",
    "[Macroinvertebrate collection](https://data.neonscience.org/data-products/DP1.20120.001) is conducted routinely at all NEON aquatic sites. We are going to download and extract macroinvertebrate species counts in preparation for "
   ]
  },
  {
   "cell_type": "code",
   "execution_count": 4,
   "id": "1cec0a91-65c6-4336-976c-d178cb125b0d",
   "metadata": {},
   "outputs": [
    {
     "name": "stdout",
     "output_type": "stream",
     "text": [
      "Finding available files\n",
      "  |======================================================================| 100%\n",
      "Provisional data were excluded from available files list. To download provisional data, use input parameter include.provisional=TRUE.\n",
      "Downloading files totaling approximately 3.931818 MB\n",
      "Downloading 24 files\n",
      "  |======================================================================| 100%\n",
      "\n",
      "Unpacking zip files using 1 cores.\n",
      "Stacking operation across a single core.\n",
      "Stacking table inv_fieldData\n",
      "Stacking table inv_persample\n",
      "Stacking table inv_taxonomyProcessed\n",
      "Copied the most recent publication of validation file to /stackedFiles\n",
      "Copied the most recent publication of categoricalCodes file to /stackedFiles\n",
      "Copied the most recent publication of variable definition file to /stackedFiles\n",
      "Finished: Stacked 3 data tables and 4 metadata tables!\n",
      "Stacking took 2.077555 secs\n"
     ]
    }
   ],
   "source": [
    "ARIK_MI<-loadByProduct(dpID = \"DP1.20120.001\",site = \"ARIK\", check.size = FALSE)"
   ]
  },
  {
   "cell_type": "markdown",
   "id": "d43c08e1-3f61-4d25-b726-9c2afe65c6f9",
   "metadata": {},
   "source": [
    "Again we want to look at the names of the dataset to see where the macroinvertebrate biodiversity data are located. Note the list element _inv_taxonomyProcessed_, this contains the processed taxonomy that you want to use."
   ]
  },
  {
   "cell_type": "code",
   "execution_count": 8,
   "id": "e23ff0f9-b671-4e57-a4c8-2e58d65b53e6",
   "metadata": {},
   "outputs": [
    {
     "data": {
      "text/html": [
       "<style>\n",
       ".list-inline {list-style: none; margin:0; padding: 0}\n",
       ".list-inline>li {display: inline-block}\n",
       ".list-inline>li:not(:last-child)::after {content: \"\\00b7\"; padding: 0 .5ex}\n",
       "</style>\n",
       "<ol class=list-inline><li>'categoricalCodes_20120'</li><li>'citation_20120_RELEASE-2024'</li><li>'inv_fieldData'</li><li>'inv_persample'</li><li>'inv_taxonomyProcessed'</li><li>'issueLog_20120'</li><li>'readme_20120'</li><li>'validation_20120'</li><li>'variables_20120'</li></ol>\n"
      ],
      "text/latex": [
       "\\begin{enumerate*}\n",
       "\\item 'categoricalCodes\\_20120'\n",
       "\\item 'citation\\_20120\\_RELEASE-2024'\n",
       "\\item 'inv\\_fieldData'\n",
       "\\item 'inv\\_persample'\n",
       "\\item 'inv\\_taxonomyProcessed'\n",
       "\\item 'issueLog\\_20120'\n",
       "\\item 'readme\\_20120'\n",
       "\\item 'validation\\_20120'\n",
       "\\item 'variables\\_20120'\n",
       "\\end{enumerate*}\n"
      ],
      "text/markdown": [
       "1. 'categoricalCodes_20120'\n",
       "2. 'citation_20120_RELEASE-2024'\n",
       "3. 'inv_fieldData'\n",
       "4. 'inv_persample'\n",
       "5. 'inv_taxonomyProcessed'\n",
       "6. 'issueLog_20120'\n",
       "7. 'readme_20120'\n",
       "8. 'validation_20120'\n",
       "9. 'variables_20120'\n",
       "\n",
       "\n"
      ],
      "text/plain": [
       "[1] \"categoricalCodes_20120\"      \"citation_20120_RELEASE-2024\"\n",
       "[3] \"inv_fieldData\"               \"inv_persample\"              \n",
       "[5] \"inv_taxonomyProcessed\"       \"issueLog_20120\"             \n",
       "[7] \"readme_20120\"                \"validation_20120\"           \n",
       "[9] \"variables_20120\"            "
      ]
     },
     "metadata": {},
     "output_type": "display_data"
    }
   ],
   "source": [
    "names(ARIK_MI)"
   ]
  },
  {
   "cell_type": "markdown",
   "id": "2fa7a36a-2889-427d-b68a-7768190609e6",
   "metadata": {},
   "source": [
    "As before we want to save the processed taxonomy data in a new dataframe so that it can easily be accessed in the future."
   ]
  },
  {
   "cell_type": "code",
   "execution_count": 9,
   "id": "48c7cf18-391e-43ff-a289-129b981c2085",
   "metadata": {},
   "outputs": [],
   "source": [
    "ARIK_MI_Diversity<-as.data.frame(ARIK_MI$inv_taxonomyProcessed)"
   ]
  },
  {
   "cell_type": "markdown",
   "id": "80af38fa-4a10-4935-a5e7-fbfa37decf95",
   "metadata": {},
   "source": [
    "There are many variables included in this dataset. We are particularly interested in the macroinvertebrate taxonomy. This taxonomy information includes _phylum_, _subphylum_, _class_, _subclass_, _infraclass_, _superorder_, _order_, _suborder_, _infraorder_, _superfamily_, _family_, _subfamily_, _tribe_, _subtribe_, and _genus_. In addition, _individualCount_ is a useful variable"
   ]
  },
  {
   "cell_type": "code",
   "execution_count": 11,
   "id": "51b013fe-abe0-4a53-aa21-a286a7257075",
   "metadata": {},
   "outputs": [
    {
     "data": {
      "text/html": [
       "<style>\n",
       ".list-inline {list-style: none; margin:0; padding: 0}\n",
       ".list-inline>li {display: inline-block}\n",
       ".list-inline>li:not(:last-child)::after {content: \"\\00b7\"; padding: 0 .5ex}\n",
       "</style>\n",
       "<ol class=list-inline><li>'uid'</li><li>'domainID'</li><li>'siteID'</li><li>'namedLocation'</li><li>'collectDate'</li><li>'identifiedDate'</li><li>'sampleID'</li><li>'sampleCode'</li><li>'slideID'</li><li>'acceptedTaxonID'</li><li>'targetTaxaPresent'</li><li>'scientificName'</li><li>'morphospeciesID'</li><li>'taxonRank'</li><li>'phylum'</li><li>'subphylum'</li><li>'class'</li><li>'subclass'</li><li>'infraclass'</li><li>'superorder'</li><li>'order'</li><li>'suborder'</li><li>'infraorder'</li><li>'superfamily'</li><li>'family'</li><li>'subfamily'</li><li>'tribe'</li><li>'subtribe'</li><li>'genus'</li><li>'specificEpithet'</li><li>'infraspecificEpithet'</li><li>'invertebrateLifeStage'</li><li>'sizeClass'</li><li>'sizeCategory'</li><li>'individualCount'</li><li>'subsamplePercent'</li><li>'estimatedTotalCount'</li><li>'immatureSpecimen'</li><li>'indeterminateSpecies'</li><li>'taxonRankQualifier'</li><li>'sampleCondition'</li><li>'distinctTaxon'</li><li>'identificationQualifier'</li><li>'identificationReferences'</li><li>'qcChecked'</li><li>'laboratoryName'</li><li>'identifiedBy'</li><li>'identificationRemarks'</li><li>'identificationHistoryID'</li><li>'dataQF'</li><li>'publicationDate'</li><li>'release'</li></ol>\n"
      ],
      "text/latex": [
       "\\begin{enumerate*}\n",
       "\\item 'uid'\n",
       "\\item 'domainID'\n",
       "\\item 'siteID'\n",
       "\\item 'namedLocation'\n",
       "\\item 'collectDate'\n",
       "\\item 'identifiedDate'\n",
       "\\item 'sampleID'\n",
       "\\item 'sampleCode'\n",
       "\\item 'slideID'\n",
       "\\item 'acceptedTaxonID'\n",
       "\\item 'targetTaxaPresent'\n",
       "\\item 'scientificName'\n",
       "\\item 'morphospeciesID'\n",
       "\\item 'taxonRank'\n",
       "\\item 'phylum'\n",
       "\\item 'subphylum'\n",
       "\\item 'class'\n",
       "\\item 'subclass'\n",
       "\\item 'infraclass'\n",
       "\\item 'superorder'\n",
       "\\item 'order'\n",
       "\\item 'suborder'\n",
       "\\item 'infraorder'\n",
       "\\item 'superfamily'\n",
       "\\item 'family'\n",
       "\\item 'subfamily'\n",
       "\\item 'tribe'\n",
       "\\item 'subtribe'\n",
       "\\item 'genus'\n",
       "\\item 'specificEpithet'\n",
       "\\item 'infraspecificEpithet'\n",
       "\\item 'invertebrateLifeStage'\n",
       "\\item 'sizeClass'\n",
       "\\item 'sizeCategory'\n",
       "\\item 'individualCount'\n",
       "\\item 'subsamplePercent'\n",
       "\\item 'estimatedTotalCount'\n",
       "\\item 'immatureSpecimen'\n",
       "\\item 'indeterminateSpecies'\n",
       "\\item 'taxonRankQualifier'\n",
       "\\item 'sampleCondition'\n",
       "\\item 'distinctTaxon'\n",
       "\\item 'identificationQualifier'\n",
       "\\item 'identificationReferences'\n",
       "\\item 'qcChecked'\n",
       "\\item 'laboratoryName'\n",
       "\\item 'identifiedBy'\n",
       "\\item 'identificationRemarks'\n",
       "\\item 'identificationHistoryID'\n",
       "\\item 'dataQF'\n",
       "\\item 'publicationDate'\n",
       "\\item 'release'\n",
       "\\end{enumerate*}\n"
      ],
      "text/markdown": [
       "1. 'uid'\n",
       "2. 'domainID'\n",
       "3. 'siteID'\n",
       "4. 'namedLocation'\n",
       "5. 'collectDate'\n",
       "6. 'identifiedDate'\n",
       "7. 'sampleID'\n",
       "8. 'sampleCode'\n",
       "9. 'slideID'\n",
       "10. 'acceptedTaxonID'\n",
       "11. 'targetTaxaPresent'\n",
       "12. 'scientificName'\n",
       "13. 'morphospeciesID'\n",
       "14. 'taxonRank'\n",
       "15. 'phylum'\n",
       "16. 'subphylum'\n",
       "17. 'class'\n",
       "18. 'subclass'\n",
       "19. 'infraclass'\n",
       "20. 'superorder'\n",
       "21. 'order'\n",
       "22. 'suborder'\n",
       "23. 'infraorder'\n",
       "24. 'superfamily'\n",
       "25. 'family'\n",
       "26. 'subfamily'\n",
       "27. 'tribe'\n",
       "28. 'subtribe'\n",
       "29. 'genus'\n",
       "30. 'specificEpithet'\n",
       "31. 'infraspecificEpithet'\n",
       "32. 'invertebrateLifeStage'\n",
       "33. 'sizeClass'\n",
       "34. 'sizeCategory'\n",
       "35. 'individualCount'\n",
       "36. 'subsamplePercent'\n",
       "37. 'estimatedTotalCount'\n",
       "38. 'immatureSpecimen'\n",
       "39. 'indeterminateSpecies'\n",
       "40. 'taxonRankQualifier'\n",
       "41. 'sampleCondition'\n",
       "42. 'distinctTaxon'\n",
       "43. 'identificationQualifier'\n",
       "44. 'identificationReferences'\n",
       "45. 'qcChecked'\n",
       "46. 'laboratoryName'\n",
       "47. 'identifiedBy'\n",
       "48. 'identificationRemarks'\n",
       "49. 'identificationHistoryID'\n",
       "50. 'dataQF'\n",
       "51. 'publicationDate'\n",
       "52. 'release'\n",
       "\n",
       "\n"
      ],
      "text/plain": [
       " [1] \"uid\"                      \"domainID\"                \n",
       " [3] \"siteID\"                   \"namedLocation\"           \n",
       " [5] \"collectDate\"              \"identifiedDate\"          \n",
       " [7] \"sampleID\"                 \"sampleCode\"              \n",
       " [9] \"slideID\"                  \"acceptedTaxonID\"         \n",
       "[11] \"targetTaxaPresent\"        \"scientificName\"          \n",
       "[13] \"morphospeciesID\"          \"taxonRank\"               \n",
       "[15] \"phylum\"                   \"subphylum\"               \n",
       "[17] \"class\"                    \"subclass\"                \n",
       "[19] \"infraclass\"               \"superorder\"              \n",
       "[21] \"order\"                    \"suborder\"                \n",
       "[23] \"infraorder\"               \"superfamily\"             \n",
       "[25] \"family\"                   \"subfamily\"               \n",
       "[27] \"tribe\"                    \"subtribe\"                \n",
       "[29] \"genus\"                    \"specificEpithet\"         \n",
       "[31] \"infraspecificEpithet\"     \"invertebrateLifeStage\"   \n",
       "[33] \"sizeClass\"                \"sizeCategory\"            \n",
       "[35] \"individualCount\"          \"subsamplePercent\"        \n",
       "[37] \"estimatedTotalCount\"      \"immatureSpecimen\"        \n",
       "[39] \"indeterminateSpecies\"     \"taxonRankQualifier\"      \n",
       "[41] \"sampleCondition\"          \"distinctTaxon\"           \n",
       "[43] \"identificationQualifier\"  \"identificationReferences\"\n",
       "[45] \"qcChecked\"                \"laboratoryName\"          \n",
       "[47] \"identifiedBy\"             \"identificationRemarks\"   \n",
       "[49] \"identificationHistoryID\"  \"dataQF\"                  \n",
       "[51] \"publicationDate\"          \"release\"                 "
      ]
     },
     "metadata": {},
     "output_type": "display_data"
    }
   ],
   "source": [
    "names(ARIK_MI_Diversity)"
   ]
  },
  {
   "cell_type": "markdown",
   "id": "0fc64f57-1e53-4913-83a1-898504f7c441",
   "metadata": {},
   "source": [
    "We are going to select the important columns before we save this dataset."
   ]
  },
  {
   "cell_type": "code",
   "execution_count": 12,
   "id": "02fb611f-f2d3-4fee-9689-c620b851de6b",
   "metadata": {},
   "outputs": [],
   "source": [
    "ARIK_MI_Taxonomy<-ARIK_MI_Diversity[,c('phylum','subphylum','class','subclass','infraclass','superorder','order','suborder','infraorder','superfamily','family','subfamily','tribe','subtribe','genus','individualCount')]"
   ]
  },
  {
   "cell_type": "markdown",
   "id": "514e2462-3c47-4623-9f45-c7a48b22550b",
   "metadata": {},
   "source": [
    "Now we're going to save our dataset as an rds file as before. We want to keep our data organized, so we're storing it in a new sub-directory of your _neon_data_ directory called _biodiversity_."
   ]
  },
  {
   "cell_type": "code",
   "execution_count": 19,
   "id": "6bc65bdf-4c40-46b0-ae85-80e065bf9b8e",
   "metadata": {},
   "outputs": [],
   "source": [
    "dir.create(\"~/neon_data/biodiversity\",showWarnings=FALSE)"
   ]
  },
  {
   "cell_type": "code",
   "execution_count": null,
   "id": "194e040e-f057-4682-b9c2-88a08753a6fb",
   "metadata": {},
   "outputs": [],
   "source": [
    "Then we can save the RDS file."
   ]
  },
  {
   "cell_type": "code",
   "execution_count": null,
   "id": "69264017-d916-4671-a6af-1b17f0751929",
   "metadata": {},
   "outputs": [],
   "source": [
    "saveRDS(ARIK_MI_Taxonomy,\"~/neon_data/biodiversity/ARIK_MI_Taxonomy.rds\")"
   ]
  },
  {
   "cell_type": "markdown",
   "id": "93de9fe8-e9e7-49df-b73e-88ecf19080ac",
   "metadata": {
    "jupyter": {
     "source_hidden": true
    }
   },
   "source": [
    "### Fish Diversity Data"
   ]
  },
  {
   "cell_type": "markdown",
   "id": "6c1710b4-1801-4776-817f-6fc310c96903",
   "metadata": {},
   "source": [
    "Now we want to download some fish diversity data. Referencing the [data codes](https://data.neonscience.org/data-products/explore), fish diversity data from field surveys are found in [DP1.20107.001](https://data.neonscience.org/data-products/DP1.20107.001). We will again download data from the ARIK site."
   ]
  },
  {
   "cell_type": "code",
   "execution_count": 3,
   "id": "4f596d00-981f-4fdc-b529-d9a2b21c5970",
   "metadata": {
    "scrolled": true
   },
   "outputs": [
    {
     "name": "stdout",
     "output_type": "stream",
     "text": [
      "Finding available files\n",
      "  |======================================================================| 100%\n",
      "Provisional data were excluded from available files list. To download provisional data, use input parameter include.provisional=TRUE.\n",
      "Downloading files totaling approximately 0.943888 MB\n",
      "Downloading 12 files\n",
      "  |======================================================================| 100%\n",
      "\n",
      "Unpacking zip files using 1 cores.\n",
      "Stacking operation across a single core.\n",
      "Stacking table fsh_fieldData\n",
      "Stacking table fsh_perFish\n",
      "Stacking table fsh_perPass\n",
      "Stacking table fsh_bulkCount\n",
      "Copied the most recent publication of validation file to /stackedFiles\n",
      "Copied the most recent publication of categoricalCodes file to /stackedFiles\n",
      "Copied the most recent publication of variable definition file to /stackedFiles\n",
      "Finished: Stacked 4 data tables and 4 metadata tables!\n",
      "Stacking took 1.173231 secs\n"
     ]
    }
   ],
   "source": [
    "ARIK_Fish<-loadByProduct(dpID = \"DP1.20107.001\",site = \"ARIK\", check.size = FALSE)"
   ]
  },
  {
   "cell_type": "markdown",
   "id": "fa9b8cbc-28d9-4874-a598-f95389acda10",
   "metadata": {},
   "source": [
    "Now let's look at the structure of the fish dataset we just downloaded using the _names_ funciton as we've done before."
   ]
  },
  {
   "cell_type": "code",
   "execution_count": 4,
   "id": "000ab5e5-3696-4068-bc48-2f400f3fcc09",
   "metadata": {},
   "outputs": [
    {
     "data": {
      "text/html": [
       "<style>\n",
       ".list-inline {list-style: none; margin:0; padding: 0}\n",
       ".list-inline>li {display: inline-block}\n",
       ".list-inline>li:not(:last-child)::after {content: \"\\00b7\"; padding: 0 .5ex}\n",
       "</style>\n",
       "<ol class=list-inline><li>'categoricalCodes_20107'</li><li>'citation_20107_RELEASE-2024'</li><li>'fsh_bulkCount'</li><li>'fsh_fieldData'</li><li>'fsh_perFish'</li><li>'fsh_perPass'</li><li>'issueLog_20107'</li><li>'readme_20107'</li><li>'validation_20107'</li><li>'variables_20107'</li></ol>\n"
      ],
      "text/latex": [
       "\\begin{enumerate*}\n",
       "\\item 'categoricalCodes\\_20107'\n",
       "\\item 'citation\\_20107\\_RELEASE-2024'\n",
       "\\item 'fsh\\_bulkCount'\n",
       "\\item 'fsh\\_fieldData'\n",
       "\\item 'fsh\\_perFish'\n",
       "\\item 'fsh\\_perPass'\n",
       "\\item 'issueLog\\_20107'\n",
       "\\item 'readme\\_20107'\n",
       "\\item 'validation\\_20107'\n",
       "\\item 'variables\\_20107'\n",
       "\\end{enumerate*}\n"
      ],
      "text/markdown": [
       "1. 'categoricalCodes_20107'\n",
       "2. 'citation_20107_RELEASE-2024'\n",
       "3. 'fsh_bulkCount'\n",
       "4. 'fsh_fieldData'\n",
       "5. 'fsh_perFish'\n",
       "6. 'fsh_perPass'\n",
       "7. 'issueLog_20107'\n",
       "8. 'readme_20107'\n",
       "9. 'validation_20107'\n",
       "10. 'variables_20107'\n",
       "\n",
       "\n"
      ],
      "text/plain": [
       " [1] \"categoricalCodes_20107\"      \"citation_20107_RELEASE-2024\"\n",
       " [3] \"fsh_bulkCount\"               \"fsh_fieldData\"              \n",
       " [5] \"fsh_perFish\"                 \"fsh_perPass\"                \n",
       " [7] \"issueLog_20107\"              \"readme_20107\"               \n",
       " [9] \"validation_20107\"            \"variables_20107\"            "
      ]
     },
     "metadata": {},
     "output_type": "display_data"
    }
   ],
   "source": [
    "names(ARIK_Fish)"
   ]
  },
  {
   "cell_type": "markdown",
   "id": "cd7b6eb2-d8cc-48a6-8647-2ad7f429949f",
   "metadata": {},
   "source": [
    "Again we see a few possible options, but here _fsh_bulkCount_ is the "
   ]
  },
  {
   "cell_type": "code",
   "execution_count": 5,
   "id": "ab94ab19-1fc7-473d-9923-f01cd543d5ce",
   "metadata": {},
   "outputs": [
    {
     "data": {
      "text/html": [
       "<style>\n",
       ".list-inline {list-style: none; margin:0; padding: 0}\n",
       ".list-inline>li {display: inline-block}\n",
       ".list-inline>li:not(:last-child)::after {content: \"\\00b7\"; padding: 0 .5ex}\n",
       "</style>\n",
       "<ol class=list-inline><li>'uid'</li><li>'domainID'</li><li>'siteID'</li><li>'namedLocation'</li><li>'passStartTime'</li><li>'passEndTime'</li><li>'passNumber'</li><li>'eventID'</li><li>'taxonID'</li><li>'scientificName'</li><li>'morphospeciesID'</li><li>'bulkFishCount'</li><li>'actualOrEstimated'</li><li>'identificationQualifier'</li><li>'identifiedBy'</li><li>'remarks'</li><li>'publicationDate'</li><li>'release'</li></ol>\n"
      ],
      "text/latex": [
       "\\begin{enumerate*}\n",
       "\\item 'uid'\n",
       "\\item 'domainID'\n",
       "\\item 'siteID'\n",
       "\\item 'namedLocation'\n",
       "\\item 'passStartTime'\n",
       "\\item 'passEndTime'\n",
       "\\item 'passNumber'\n",
       "\\item 'eventID'\n",
       "\\item 'taxonID'\n",
       "\\item 'scientificName'\n",
       "\\item 'morphospeciesID'\n",
       "\\item 'bulkFishCount'\n",
       "\\item 'actualOrEstimated'\n",
       "\\item 'identificationQualifier'\n",
       "\\item 'identifiedBy'\n",
       "\\item 'remarks'\n",
       "\\item 'publicationDate'\n",
       "\\item 'release'\n",
       "\\end{enumerate*}\n"
      ],
      "text/markdown": [
       "1. 'uid'\n",
       "2. 'domainID'\n",
       "3. 'siteID'\n",
       "4. 'namedLocation'\n",
       "5. 'passStartTime'\n",
       "6. 'passEndTime'\n",
       "7. 'passNumber'\n",
       "8. 'eventID'\n",
       "9. 'taxonID'\n",
       "10. 'scientificName'\n",
       "11. 'morphospeciesID'\n",
       "12. 'bulkFishCount'\n",
       "13. 'actualOrEstimated'\n",
       "14. 'identificationQualifier'\n",
       "15. 'identifiedBy'\n",
       "16. 'remarks'\n",
       "17. 'publicationDate'\n",
       "18. 'release'\n",
       "\n",
       "\n"
      ],
      "text/plain": [
       " [1] \"uid\"                     \"domainID\"               \n",
       " [3] \"siteID\"                  \"namedLocation\"          \n",
       " [5] \"passStartTime\"           \"passEndTime\"            \n",
       " [7] \"passNumber\"              \"eventID\"                \n",
       " [9] \"taxonID\"                 \"scientificName\"         \n",
       "[11] \"morphospeciesID\"         \"bulkFishCount\"          \n",
       "[13] \"actualOrEstimated\"       \"identificationQualifier\"\n",
       "[15] \"identifiedBy\"            \"remarks\"                \n",
       "[17] \"publicationDate\"         \"release\"                "
      ]
     },
     "metadata": {},
     "output_type": "display_data"
    }
   ],
   "source": [
    "ARIK_Fish_Taxonomy<-as.data.frame(ARIK_Fish$fsh_bulkCount)\n",
    "names(ARIK_Fish_Taxonomy)"
   ]
  },
  {
   "cell_type": "markdown",
   "id": "6e7a7836-c051-4f28-93b6-5c4306f57e8a",
   "metadata": {},
   "source": [
    "Now let's take a look at the dataset of fish counts. Note that the format of this file is different and fish scientific names (genus and species only) are report as a single column rather than the entire taxonomy of each species with each attribute as a separate column."
   ]
  },
  {
   "cell_type": "code",
   "execution_count": 23,
   "id": "fa64ddc4-5407-4466-b3a4-b0bb4960b34f",
   "metadata": {
    "scrolled": true
   },
   "outputs": [
    {
     "data": {
      "text/html": [
       "<table class=\"dataframe\">\n",
       "<caption>A data.frame: 43 × 18</caption>\n",
       "<thead>\n",
       "\t<tr><th scope=col>uid</th><th scope=col>domainID</th><th scope=col>siteID</th><th scope=col>namedLocation</th><th scope=col>passStartTime</th><th scope=col>passEndTime</th><th scope=col>passNumber</th><th scope=col>eventID</th><th scope=col>taxonID</th><th scope=col>scientificName</th><th scope=col>morphospeciesID</th><th scope=col>bulkFishCount</th><th scope=col>actualOrEstimated</th><th scope=col>identificationQualifier</th><th scope=col>identifiedBy</th><th scope=col>remarks</th><th scope=col>publicationDate</th><th scope=col>release</th></tr>\n",
       "\t<tr><th scope=col>&lt;chr&gt;</th><th scope=col>&lt;chr&gt;</th><th scope=col>&lt;chr&gt;</th><th scope=col>&lt;chr&gt;</th><th scope=col>&lt;dttm&gt;</th><th scope=col>&lt;dttm&gt;</th><th scope=col>&lt;dbl&gt;</th><th scope=col>&lt;chr&gt;</th><th scope=col>&lt;chr&gt;</th><th scope=col>&lt;chr&gt;</th><th scope=col>&lt;chr&gt;</th><th scope=col>&lt;dbl&gt;</th><th scope=col>&lt;chr&gt;</th><th scope=col>&lt;chr&gt;</th><th scope=col>&lt;chr&gt;</th><th scope=col>&lt;chr&gt;</th><th scope=col>&lt;chr&gt;</th><th scope=col>&lt;chr&gt;</th></tr>\n",
       "</thead>\n",
       "<tbody>\n",
       "\t<tr><td>82e1e6e7-d3e2-4561-9a2e-49a529bc5758</td><td>D10</td><td>ARIK</td><td>ARIK.AOS.fish.point.06</td><td>2016-10-11 20:30:00</td><td>2016-10-12 00:00:00</td><td>3</td><td>ARIK.20161011.06.3.e-fisher</td><td>HYBHAN</td><td>Hybognathus hankinsoni</td><td>NA                  </td><td> 9</td><td>actual</td><td>NA        </td><td>hschartel@battelleecology.org</td><td>NA</td><td>20231227T013456Z</td><td>RELEASE-2024</td></tr>\n",
       "\t<tr><td>be13ca48-b00d-449c-b7c0-bca26959d506</td><td>D10</td><td>ARIK</td><td>ARIK.AOS.fish.point.06</td><td>2017-04-11 18:20:00</td><td>2017-04-11 18:57:00</td><td>2</td><td>ARIK.20170411.06.2.e-fisher</td><td>ETHSPE</td><td>Etheostoma spectabile </td><td>NA                  </td><td>34</td><td>actual</td><td>NA        </td><td>hschartel@battelleecology.org</td><td>NA</td><td>20231227T035826Z</td><td>RELEASE-2024</td></tr>\n",
       "\t<tr><td>ab8b7634-d8fd-478e-8767-525a78690ac8</td><td>D10</td><td>ARIK</td><td>ARIK.AOS.fish.point.06</td><td>2017-04-11 20:00:00</td><td>2017-04-11 20:26:00</td><td>3</td><td>ARIK.20170411.06.3.e-fisher</td><td>ETHSPE</td><td>Etheostoma spectabile </td><td>NA                  </td><td>31</td><td>actual</td><td>NA        </td><td>hschartel@battelleecology.org</td><td>NA</td><td>20231227T035826Z</td><td>RELEASE-2024</td></tr>\n",
       "\t<tr><td>7b7ba973-739c-41bc-b1a7-fb8394d41006</td><td>D10</td><td>ARIK</td><td>ARIK.AOS.fish.point.10</td><td>2017-04-11 21:55:00</td><td>2017-04-11 22:32:00</td><td>1</td><td>ARIK.20170411.10.1.e-fisher</td><td>ETHSPE</td><td>Etheostoma spectabile </td><td>NA                  </td><td>17</td><td>actual</td><td>NA        </td><td>hschartel@battelleecology.org</td><td>NA</td><td>20231227T035826Z</td><td>RELEASE-2024</td></tr>\n",
       "\t<tr><td>2ebcc6da-bf17-4dce-8506-b14029031d36</td><td>D10</td><td>ARIK</td><td>ARIK.AOS.fish.point.01</td><td>2017-10-17 14:30:00</td><td>2017-10-17 15:00:00</td><td>1</td><td>ARIK.20171017.01.1.e-fisher</td><td>POESP2</td><td>Poeciliidae sp.       </td><td>D10.ARIK.2017.MorphA</td><td>23</td><td>actual</td><td>cf. family</td><td>Bnance@battelleecology.org   </td><td>NA</td><td>20231227T033849Z</td><td>RELEASE-2024</td></tr>\n",
       "\t<tr><td>⋮</td><td>⋮</td><td>⋮</td><td>⋮</td><td>⋮</td><td>⋮</td><td>⋮</td><td>⋮</td><td>⋮</td><td>⋮</td><td>⋮</td><td>⋮</td><td>⋮</td><td>⋮</td><td>⋮</td><td>⋮</td><td>⋮</td><td>⋮</td></tr>\n",
       "\t<tr><td>47dffa8e-d421-434f-81b0-2bd5b6c47fe6</td><td>D10</td><td>ARIK</td><td>ARIK.AOS.fish.point.07</td><td>2019-10-16 14:57:00</td><td>2019-10-16 15:19:00</td><td>1</td><td>ARIK.20191016.07.1.e-fisher</td><td>GAMAFF</td><td>Gambusia affinis </td><td>NA</td><td>270</td><td>actual</td><td>NA</td><td>0000-0002-5760-9269</td><td>NA</td><td>20231227T174021Z</td><td>RELEASE-2024</td></tr>\n",
       "\t<tr><td>9a8ce36c-c2ac-46ce-93f1-989c7bc87193</td><td>D10</td><td>ARIK</td><td>ARIK.AOS.fish.point.09</td><td>2019-10-16 16:35:00</td><td>2019-10-16 17:15:00</td><td>1</td><td>ARIK.20191016.09.1.e-fisher</td><td>GAMAFF</td><td>Gambusia affinis </td><td>NA</td><td>219</td><td>actual</td><td>NA</td><td>0000-0002-5760-9269</td><td>NA</td><td>20231227T174021Z</td><td>RELEASE-2024</td></tr>\n",
       "\t<tr><td>f46f92f9-2622-4860-b7cb-61898d9d8091</td><td>D10</td><td>ARIK</td><td>ARIK.AOS.fish.point.09</td><td>2019-10-16 19:22:00</td><td>2019-10-16 19:55:00</td><td>2</td><td>ARIK.20191016.09.2.e-fisher</td><td>GAMAFF</td><td>Gambusia affinis </td><td>NA</td><td>220</td><td>actual</td><td>NA</td><td>0000-0002-5760-9269</td><td>NA</td><td>20231227T174021Z</td><td>RELEASE-2024</td></tr>\n",
       "\t<tr><td>266e2121-ea00-4f7b-adbe-29f099009fb4</td><td>D10</td><td>ARIK</td><td>ARIK.AOS.fish.point.09</td><td>2019-10-16 20:45:00</td><td>2019-10-16 21:10:00</td><td>3</td><td>ARIK.20191016.09.3.e-fisher</td><td>LEPCYA</td><td>Lepomis cyanellus</td><td>NA</td><td>  1</td><td>actual</td><td>NA</td><td>0000-0002-5760-9269</td><td>NA</td><td>20231227T174021Z</td><td>RELEASE-2024</td></tr>\n",
       "\t<tr><td>72ebfb0e-55ec-4129-8204-de5e57390d35</td><td>D10</td><td>ARIK</td><td>ARIK.AOS.fish.point.09</td><td>2019-10-16 20:45:00</td><td>2019-10-16 21:10:00</td><td>3</td><td>ARIK.20191016.09.3.e-fisher</td><td>GAMAFF</td><td>Gambusia affinis </td><td>NA</td><td>123</td><td>actual</td><td>NA</td><td>0000-0002-5760-9269</td><td>NA</td><td>20231227T174021Z</td><td>RELEASE-2024</td></tr>\n",
       "</tbody>\n",
       "</table>\n"
      ],
      "text/latex": [
       "A data.frame: 43 × 18\n",
       "\\begin{tabular}{llllllllllllllllll}\n",
       " uid & domainID & siteID & namedLocation & passStartTime & passEndTime & passNumber & eventID & taxonID & scientificName & morphospeciesID & bulkFishCount & actualOrEstimated & identificationQualifier & identifiedBy & remarks & publicationDate & release\\\\\n",
       " <chr> & <chr> & <chr> & <chr> & <dttm> & <dttm> & <dbl> & <chr> & <chr> & <chr> & <chr> & <dbl> & <chr> & <chr> & <chr> & <chr> & <chr> & <chr>\\\\\n",
       "\\hline\n",
       "\t 82e1e6e7-d3e2-4561-9a2e-49a529bc5758 & D10 & ARIK & ARIK.AOS.fish.point.06 & 2016-10-11 20:30:00 & 2016-10-12 00:00:00 & 3 & ARIK.20161011.06.3.e-fisher & HYBHAN & Hybognathus hankinsoni & NA                   &  9 & actual & NA         & hschartel@battelleecology.org & NA & 20231227T013456Z & RELEASE-2024\\\\\n",
       "\t be13ca48-b00d-449c-b7c0-bca26959d506 & D10 & ARIK & ARIK.AOS.fish.point.06 & 2017-04-11 18:20:00 & 2017-04-11 18:57:00 & 2 & ARIK.20170411.06.2.e-fisher & ETHSPE & Etheostoma spectabile  & NA                   & 34 & actual & NA         & hschartel@battelleecology.org & NA & 20231227T035826Z & RELEASE-2024\\\\\n",
       "\t ab8b7634-d8fd-478e-8767-525a78690ac8 & D10 & ARIK & ARIK.AOS.fish.point.06 & 2017-04-11 20:00:00 & 2017-04-11 20:26:00 & 3 & ARIK.20170411.06.3.e-fisher & ETHSPE & Etheostoma spectabile  & NA                   & 31 & actual & NA         & hschartel@battelleecology.org & NA & 20231227T035826Z & RELEASE-2024\\\\\n",
       "\t 7b7ba973-739c-41bc-b1a7-fb8394d41006 & D10 & ARIK & ARIK.AOS.fish.point.10 & 2017-04-11 21:55:00 & 2017-04-11 22:32:00 & 1 & ARIK.20170411.10.1.e-fisher & ETHSPE & Etheostoma spectabile  & NA                   & 17 & actual & NA         & hschartel@battelleecology.org & NA & 20231227T035826Z & RELEASE-2024\\\\\n",
       "\t 2ebcc6da-bf17-4dce-8506-b14029031d36 & D10 & ARIK & ARIK.AOS.fish.point.01 & 2017-10-17 14:30:00 & 2017-10-17 15:00:00 & 1 & ARIK.20171017.01.1.e-fisher & POESP2 & Poeciliidae sp.        & D10.ARIK.2017.MorphA & 23 & actual & cf. family & Bnance@battelleecology.org    & NA & 20231227T033849Z & RELEASE-2024\\\\\n",
       "\t ⋮ & ⋮ & ⋮ & ⋮ & ⋮ & ⋮ & ⋮ & ⋮ & ⋮ & ⋮ & ⋮ & ⋮ & ⋮ & ⋮ & ⋮ & ⋮ & ⋮ & ⋮\\\\\n",
       "\t 47dffa8e-d421-434f-81b0-2bd5b6c47fe6 & D10 & ARIK & ARIK.AOS.fish.point.07 & 2019-10-16 14:57:00 & 2019-10-16 15:19:00 & 1 & ARIK.20191016.07.1.e-fisher & GAMAFF & Gambusia affinis  & NA & 270 & actual & NA & 0000-0002-5760-9269 & NA & 20231227T174021Z & RELEASE-2024\\\\\n",
       "\t 9a8ce36c-c2ac-46ce-93f1-989c7bc87193 & D10 & ARIK & ARIK.AOS.fish.point.09 & 2019-10-16 16:35:00 & 2019-10-16 17:15:00 & 1 & ARIK.20191016.09.1.e-fisher & GAMAFF & Gambusia affinis  & NA & 219 & actual & NA & 0000-0002-5760-9269 & NA & 20231227T174021Z & RELEASE-2024\\\\\n",
       "\t f46f92f9-2622-4860-b7cb-61898d9d8091 & D10 & ARIK & ARIK.AOS.fish.point.09 & 2019-10-16 19:22:00 & 2019-10-16 19:55:00 & 2 & ARIK.20191016.09.2.e-fisher & GAMAFF & Gambusia affinis  & NA & 220 & actual & NA & 0000-0002-5760-9269 & NA & 20231227T174021Z & RELEASE-2024\\\\\n",
       "\t 266e2121-ea00-4f7b-adbe-29f099009fb4 & D10 & ARIK & ARIK.AOS.fish.point.09 & 2019-10-16 20:45:00 & 2019-10-16 21:10:00 & 3 & ARIK.20191016.09.3.e-fisher & LEPCYA & Lepomis cyanellus & NA &   1 & actual & NA & 0000-0002-5760-9269 & NA & 20231227T174021Z & RELEASE-2024\\\\\n",
       "\t 72ebfb0e-55ec-4129-8204-de5e57390d35 & D10 & ARIK & ARIK.AOS.fish.point.09 & 2019-10-16 20:45:00 & 2019-10-16 21:10:00 & 3 & ARIK.20191016.09.3.e-fisher & GAMAFF & Gambusia affinis  & NA & 123 & actual & NA & 0000-0002-5760-9269 & NA & 20231227T174021Z & RELEASE-2024\\\\\n",
       "\\end{tabular}\n"
      ],
      "text/markdown": [
       "\n",
       "A data.frame: 43 × 18\n",
       "\n",
       "| uid &lt;chr&gt; | domainID &lt;chr&gt; | siteID &lt;chr&gt; | namedLocation &lt;chr&gt; | passStartTime &lt;dttm&gt; | passEndTime &lt;dttm&gt; | passNumber &lt;dbl&gt; | eventID &lt;chr&gt; | taxonID &lt;chr&gt; | scientificName &lt;chr&gt; | morphospeciesID &lt;chr&gt; | bulkFishCount &lt;dbl&gt; | actualOrEstimated &lt;chr&gt; | identificationQualifier &lt;chr&gt; | identifiedBy &lt;chr&gt; | remarks &lt;chr&gt; | publicationDate &lt;chr&gt; | release &lt;chr&gt; |\n",
       "|---|---|---|---|---|---|---|---|---|---|---|---|---|---|---|---|---|---|\n",
       "| 82e1e6e7-d3e2-4561-9a2e-49a529bc5758 | D10 | ARIK | ARIK.AOS.fish.point.06 | 2016-10-11 20:30:00 | 2016-10-12 00:00:00 | 3 | ARIK.20161011.06.3.e-fisher | HYBHAN | Hybognathus hankinsoni | NA                   |  9 | actual | NA         | hschartel@battelleecology.org | NA | 20231227T013456Z | RELEASE-2024 |\n",
       "| be13ca48-b00d-449c-b7c0-bca26959d506 | D10 | ARIK | ARIK.AOS.fish.point.06 | 2017-04-11 18:20:00 | 2017-04-11 18:57:00 | 2 | ARIK.20170411.06.2.e-fisher | ETHSPE | Etheostoma spectabile  | NA                   | 34 | actual | NA         | hschartel@battelleecology.org | NA | 20231227T035826Z | RELEASE-2024 |\n",
       "| ab8b7634-d8fd-478e-8767-525a78690ac8 | D10 | ARIK | ARIK.AOS.fish.point.06 | 2017-04-11 20:00:00 | 2017-04-11 20:26:00 | 3 | ARIK.20170411.06.3.e-fisher | ETHSPE | Etheostoma spectabile  | NA                   | 31 | actual | NA         | hschartel@battelleecology.org | NA | 20231227T035826Z | RELEASE-2024 |\n",
       "| 7b7ba973-739c-41bc-b1a7-fb8394d41006 | D10 | ARIK | ARIK.AOS.fish.point.10 | 2017-04-11 21:55:00 | 2017-04-11 22:32:00 | 1 | ARIK.20170411.10.1.e-fisher | ETHSPE | Etheostoma spectabile  | NA                   | 17 | actual | NA         | hschartel@battelleecology.org | NA | 20231227T035826Z | RELEASE-2024 |\n",
       "| 2ebcc6da-bf17-4dce-8506-b14029031d36 | D10 | ARIK | ARIK.AOS.fish.point.01 | 2017-10-17 14:30:00 | 2017-10-17 15:00:00 | 1 | ARIK.20171017.01.1.e-fisher | POESP2 | Poeciliidae sp.        | D10.ARIK.2017.MorphA | 23 | actual | cf. family | Bnance@battelleecology.org    | NA | 20231227T033849Z | RELEASE-2024 |\n",
       "| ⋮ | ⋮ | ⋮ | ⋮ | ⋮ | ⋮ | ⋮ | ⋮ | ⋮ | ⋮ | ⋮ | ⋮ | ⋮ | ⋮ | ⋮ | ⋮ | ⋮ | ⋮ |\n",
       "| 47dffa8e-d421-434f-81b0-2bd5b6c47fe6 | D10 | ARIK | ARIK.AOS.fish.point.07 | 2019-10-16 14:57:00 | 2019-10-16 15:19:00 | 1 | ARIK.20191016.07.1.e-fisher | GAMAFF | Gambusia affinis  | NA | 270 | actual | NA | 0000-0002-5760-9269 | NA | 20231227T174021Z | RELEASE-2024 |\n",
       "| 9a8ce36c-c2ac-46ce-93f1-989c7bc87193 | D10 | ARIK | ARIK.AOS.fish.point.09 | 2019-10-16 16:35:00 | 2019-10-16 17:15:00 | 1 | ARIK.20191016.09.1.e-fisher | GAMAFF | Gambusia affinis  | NA | 219 | actual | NA | 0000-0002-5760-9269 | NA | 20231227T174021Z | RELEASE-2024 |\n",
       "| f46f92f9-2622-4860-b7cb-61898d9d8091 | D10 | ARIK | ARIK.AOS.fish.point.09 | 2019-10-16 19:22:00 | 2019-10-16 19:55:00 | 2 | ARIK.20191016.09.2.e-fisher | GAMAFF | Gambusia affinis  | NA | 220 | actual | NA | 0000-0002-5760-9269 | NA | 20231227T174021Z | RELEASE-2024 |\n",
       "| 266e2121-ea00-4f7b-adbe-29f099009fb4 | D10 | ARIK | ARIK.AOS.fish.point.09 | 2019-10-16 20:45:00 | 2019-10-16 21:10:00 | 3 | ARIK.20191016.09.3.e-fisher | LEPCYA | Lepomis cyanellus | NA |   1 | actual | NA | 0000-0002-5760-9269 | NA | 20231227T174021Z | RELEASE-2024 |\n",
       "| 72ebfb0e-55ec-4129-8204-de5e57390d35 | D10 | ARIK | ARIK.AOS.fish.point.09 | 2019-10-16 20:45:00 | 2019-10-16 21:10:00 | 3 | ARIK.20191016.09.3.e-fisher | GAMAFF | Gambusia affinis  | NA | 123 | actual | NA | 0000-0002-5760-9269 | NA | 20231227T174021Z | RELEASE-2024 |\n",
       "\n"
      ],
      "text/plain": [
       "   uid                                  domainID siteID namedLocation         \n",
       "1  82e1e6e7-d3e2-4561-9a2e-49a529bc5758 D10      ARIK   ARIK.AOS.fish.point.06\n",
       "2  be13ca48-b00d-449c-b7c0-bca26959d506 D10      ARIK   ARIK.AOS.fish.point.06\n",
       "3  ab8b7634-d8fd-478e-8767-525a78690ac8 D10      ARIK   ARIK.AOS.fish.point.06\n",
       "4  7b7ba973-739c-41bc-b1a7-fb8394d41006 D10      ARIK   ARIK.AOS.fish.point.10\n",
       "5  2ebcc6da-bf17-4dce-8506-b14029031d36 D10      ARIK   ARIK.AOS.fish.point.01\n",
       "⋮  ⋮                                    ⋮        ⋮      ⋮                     \n",
       "39 47dffa8e-d421-434f-81b0-2bd5b6c47fe6 D10      ARIK   ARIK.AOS.fish.point.07\n",
       "40 9a8ce36c-c2ac-46ce-93f1-989c7bc87193 D10      ARIK   ARIK.AOS.fish.point.09\n",
       "41 f46f92f9-2622-4860-b7cb-61898d9d8091 D10      ARIK   ARIK.AOS.fish.point.09\n",
       "42 266e2121-ea00-4f7b-adbe-29f099009fb4 D10      ARIK   ARIK.AOS.fish.point.09\n",
       "43 72ebfb0e-55ec-4129-8204-de5e57390d35 D10      ARIK   ARIK.AOS.fish.point.09\n",
       "   passStartTime       passEndTime         passNumber\n",
       "1  2016-10-11 20:30:00 2016-10-12 00:00:00 3         \n",
       "2  2017-04-11 18:20:00 2017-04-11 18:57:00 2         \n",
       "3  2017-04-11 20:00:00 2017-04-11 20:26:00 3         \n",
       "4  2017-04-11 21:55:00 2017-04-11 22:32:00 1         \n",
       "5  2017-10-17 14:30:00 2017-10-17 15:00:00 1         \n",
       "⋮  ⋮                   ⋮                   ⋮         \n",
       "39 2019-10-16 14:57:00 2019-10-16 15:19:00 1         \n",
       "40 2019-10-16 16:35:00 2019-10-16 17:15:00 1         \n",
       "41 2019-10-16 19:22:00 2019-10-16 19:55:00 2         \n",
       "42 2019-10-16 20:45:00 2019-10-16 21:10:00 3         \n",
       "43 2019-10-16 20:45:00 2019-10-16 21:10:00 3         \n",
       "   eventID                     taxonID scientificName        \n",
       "1  ARIK.20161011.06.3.e-fisher HYBHAN  Hybognathus hankinsoni\n",
       "2  ARIK.20170411.06.2.e-fisher ETHSPE  Etheostoma spectabile \n",
       "3  ARIK.20170411.06.3.e-fisher ETHSPE  Etheostoma spectabile \n",
       "4  ARIK.20170411.10.1.e-fisher ETHSPE  Etheostoma spectabile \n",
       "5  ARIK.20171017.01.1.e-fisher POESP2  Poeciliidae sp.       \n",
       "⋮  ⋮                           ⋮       ⋮                     \n",
       "39 ARIK.20191016.07.1.e-fisher GAMAFF  Gambusia affinis      \n",
       "40 ARIK.20191016.09.1.e-fisher GAMAFF  Gambusia affinis      \n",
       "41 ARIK.20191016.09.2.e-fisher GAMAFF  Gambusia affinis      \n",
       "42 ARIK.20191016.09.3.e-fisher LEPCYA  Lepomis cyanellus     \n",
       "43 ARIK.20191016.09.3.e-fisher GAMAFF  Gambusia affinis      \n",
       "   morphospeciesID      bulkFishCount actualOrEstimated identificationQualifier\n",
       "1  NA                    9            actual            NA                     \n",
       "2  NA                   34            actual            NA                     \n",
       "3  NA                   31            actual            NA                     \n",
       "4  NA                   17            actual            NA                     \n",
       "5  D10.ARIK.2017.MorphA 23            actual            cf. family             \n",
       "⋮  ⋮                    ⋮             ⋮                 ⋮                      \n",
       "39 NA                   270           actual            NA                     \n",
       "40 NA                   219           actual            NA                     \n",
       "41 NA                   220           actual            NA                     \n",
       "42 NA                     1           actual            NA                     \n",
       "43 NA                   123           actual            NA                     \n",
       "   identifiedBy                  remarks publicationDate  release     \n",
       "1  hschartel@battelleecology.org NA      20231227T013456Z RELEASE-2024\n",
       "2  hschartel@battelleecology.org NA      20231227T035826Z RELEASE-2024\n",
       "3  hschartel@battelleecology.org NA      20231227T035826Z RELEASE-2024\n",
       "4  hschartel@battelleecology.org NA      20231227T035826Z RELEASE-2024\n",
       "5  Bnance@battelleecology.org    NA      20231227T033849Z RELEASE-2024\n",
       "⋮  ⋮                             ⋮       ⋮                ⋮           \n",
       "39 0000-0002-5760-9269           NA      20231227T174021Z RELEASE-2024\n",
       "40 0000-0002-5760-9269           NA      20231227T174021Z RELEASE-2024\n",
       "41 0000-0002-5760-9269           NA      20231227T174021Z RELEASE-2024\n",
       "42 0000-0002-5760-9269           NA      20231227T174021Z RELEASE-2024\n",
       "43 0000-0002-5760-9269           NA      20231227T174021Z RELEASE-2024"
      ]
     },
     "metadata": {},
     "output_type": "display_data"
    }
   ],
   "source": [
    "ARIK_Fish_Taxonomy"
   ]
  },
  {
   "cell_type": "markdown",
   "id": "d27f4d44-5fc9-44d5-baf0-cbeea52cff57",
   "metadata": {},
   "source": [
    "The code below will help quickly review the data you've downloaded. There are multiple rows with the same data in this dataset, so the first part of the code block below uses functions from dplyr to sum up the number of fish by scientific name. After that we plot the counts using a bar graph."
   ]
  },
  {
   "cell_type": "code",
   "execution_count": 16,
   "id": "d1c32024-f37d-4117-8046-3244e1e8ac0a",
   "metadata": {},
   "outputs": [
    {
     "data": {
      "image/png": "[encoded data removed]",
      "text/plain": [
       "plot without title"
      ]
     },
     "metadata": {
      "image/png": {
       "height": 420,
       "width": 420
      }
     },
     "output_type": "display_data"
    }
   ],
   "source": [
    "arik_fish_data_plot <- ARIK_Fish_Taxonomy %>%\n",
    "  group_by(scientificName) %>%\n",
    "  summarize(Total_Count = sum(bulkFishCount))\n",
    "\n",
    "# Create a bar plot using ggplot2\n",
    "ggplot(arik_fish_data_plot, aes(x = scientificName, y = Total_Count)) +\n",
    "  geom_bar(stat = \"identity\") +\n",
    "  labs(title = \"Species Counts\", x = \"Species\", y = \"Count\") +\n",
    "  theme(axis.text.x = element_text(angle = 60, vjust = 1, hjust=1))"
   ]
  },
  {
   "cell_type": "markdown",
   "id": "a3d051c2-5c96-44d9-8bec-dddff2335f82",
   "metadata": {},
   "source": [
    "Finally, we will save the taxonomic diversity dataframe as a RDS file as well have done before."
   ]
  },
  {
   "cell_type": "code",
   "execution_count": null,
   "id": "992f60ea-dda7-4e5e-8722-a03a03ced0d6",
   "metadata": {},
   "outputs": [],
   "source": [
    "saveRDS(ARIK_Fish_Taxonomy,\"~/neon_data/biodiversity/ARIK_Fish_Taxonomy\")"
   ]
  },
  {
   "cell_type": "markdown",
   "id": "5180c4a2-3771-4de4-b347-a80df1fe0d0d",
   "metadata": {},
   "source": [
    "### Microbial "
   ]
  },
  {
   "cell_type": "markdown",
   "id": "767376b0-4006-4b06-be52-25b54007eb5f",
   "metadata": {},
   "source": [
    "Now we want to download some microbial diversity data. Referencing the [data codes](https://data.neonscience.org/data-products/explore), aquatic benthic microbial diversity data from field surveys are found in [DP1.20086.001](https://data.neonscience.org/data-products/DP1.20086.001). Abundance data includes archaea, bacteria, and fungi. We will again download data from the ARIK site."
   ]
  },
  {
   "cell_type": "code",
   "execution_count": 18,
   "id": "c0932e50-297f-4232-9882-412a22b1659c",
   "metadata": {},
   "outputs": [
    {
     "name": "stdout",
     "output_type": "stream",
     "text": [
      "Finding available files\n",
      "  |======================================================================| 100%\n",
      "\n",
      "Downloading files totaling approximately 0.129135 MB\n",
      "Downloading 14 files\n",
      "  |======================================================================| 100%\n",
      "\n",
      "Unpacking zip files using 1 cores.\n",
      "Stacking operation across a single core.\n",
      "Stacking table mcc_benthicSeqVariantMetadata_16S\n",
      "Stacking table mcc_benthicSeqVariantMetadata_ITS\n",
      "Copied the most recent publication of validation file to /stackedFiles\n",
      "Copied the most recent publication of categoricalCodes file to /stackedFiles\n",
      "Copied the most recent publication of variable definition file to /stackedFiles\n",
      "Finished: Stacked 2 data tables and 4 metadata tables!\n",
      "Stacking took 1.156884 secs\n"
     ]
    }
   ],
   "source": [
    "ARIK_Microbe<-loadByProduct(dpID = \"DP1.20086.001\",site = \"ARIK\", check.size = FALSE)"
   ]
  },
  {
   "cell_type": "markdown",
   "id": "d67831bd-7f16-4978-aae9-e87baddb4e7c",
   "metadata": {},
   "source": [
    "Looking at the names of the different list elements in the downloaded microbial community composition dataset, there are two sents of sequences, _mcc_benthicSeqVariantMetadata_16S_, which contains sequences for prokaryotes and _mcc_benthicSeqVariantMetadata_ITS_, which contains sequences for fungi. Each of these datasets includes samples from many different substrates including sand (episammon) and benthic plants (epiphyton).\n",
    "\n",
    "In this case these two dataframes (_mcc_benthicSeqVariantMetadata_16S_ and _mcc_benthicSeqVariantMetadata_ITS_) do not contain the actual abundance data, but instead contain urls to csvs containing the relevant datasets for each individual sample. We're going to take a look at both of these datasets and then we will use a script to download all the CSVs and combine them into a single dataframe."
   ]
  },
  {
   "cell_type": "code",
   "execution_count": 19,
   "id": "da138da7-9900-4e79-984a-088969f2c4bf",
   "metadata": {},
   "outputs": [
    {
     "data": {
      "text/html": [
       "<style>\n",
       ".list-inline {list-style: none; margin:0; padding: 0}\n",
       ".list-inline>li {display: inline-block}\n",
       ".list-inline>li:not(:last-child)::after {content: \"\\00b7\"; padding: 0 .5ex}\n",
       "</style>\n",
       "<ol class=list-inline><li>'categoricalCodes_20086'</li><li>'citation_20086_RELEASE-2024'</li><li>'issueLog_20086'</li><li>'mcc_benthicSeqVariantMetadata_16S'</li><li>'mcc_benthicSeqVariantMetadata_ITS'</li><li>'readme_20086'</li><li>'validation_20086'</li><li>'variables_20086'</li></ol>\n"
      ],
      "text/latex": [
       "\\begin{enumerate*}\n",
       "\\item 'categoricalCodes\\_20086'\n",
       "\\item 'citation\\_20086\\_RELEASE-2024'\n",
       "\\item 'issueLog\\_20086'\n",
       "\\item 'mcc\\_benthicSeqVariantMetadata\\_16S'\n",
       "\\item 'mcc\\_benthicSeqVariantMetadata\\_ITS'\n",
       "\\item 'readme\\_20086'\n",
       "\\item 'validation\\_20086'\n",
       "\\item 'variables\\_20086'\n",
       "\\end{enumerate*}\n"
      ],
      "text/markdown": [
       "1. 'categoricalCodes_20086'\n",
       "2. 'citation_20086_RELEASE-2024'\n",
       "3. 'issueLog_20086'\n",
       "4. 'mcc_benthicSeqVariantMetadata_16S'\n",
       "5. 'mcc_benthicSeqVariantMetadata_ITS'\n",
       "6. 'readme_20086'\n",
       "7. 'validation_20086'\n",
       "8. 'variables_20086'\n",
       "\n",
       "\n"
      ],
      "text/plain": [
       "[1] \"categoricalCodes_20086\"            \"citation_20086_RELEASE-2024\"      \n",
       "[3] \"issueLog_20086\"                    \"mcc_benthicSeqVariantMetadata_16S\"\n",
       "[5] \"mcc_benthicSeqVariantMetadata_ITS\" \"readme_20086\"                     \n",
       "[7] \"validation_20086\"                  \"variables_20086\"                  "
      ]
     },
     "metadata": {},
     "output_type": "display_data"
    }
   ],
   "source": [
    "names(ARIK_Microbe)"
   ]
  },
  {
   "cell_type": "code",
   "execution_count": null,
   "id": "4baff3c4-72fa-4751-a2ea-00b58cc851a2",
   "metadata": {},
   "outputs": [],
   "source": [
    "ARIK_Microbe$mcc_benthicSeqVariantMetadata_16S"
   ]
  },
  {
   "cell_type": "code",
   "execution_count": 33,
   "id": "e63ce387-a8e2-4ab0-9ba7-989975702105",
   "metadata": {},
   "outputs": [
    {
     "data": {
      "text/html": [
       "<table class=\"dataframe\">\n",
       "<caption>A data.frame: 111 × 28</caption>\n",
       "<thead>\n",
       "\t<tr><th scope=col>uid</th><th scope=col>domainID</th><th scope=col>siteID</th><th scope=col>plotID</th><th scope=col>namedLocation</th><th scope=col>laboratoryName</th><th scope=col>collectDate</th><th scope=col>analysisDate</th><th scope=col>sampleMaterial</th><th scope=col>geneticSampleID</th><th scope=col>geneticSampleCode</th><th scope=col>dnaSampleID</th><th scope=col>dnaSampleCode</th><th scope=col>internalLabID</th><th scope=col>sequencerRunID</th><th scope=col>downloadFileUrl</th><th scope=col>downloadFileName</th><th scope=col>codeVersion</th><th scope=col>targetGene</th><th scope=col>targetTaxonGroup</th><th scope=col>processedBy</th><th scope=col>reviewedBy</th><th scope=col>remarks</th><th scope=col>sampleFilteredReadNumber</th><th scope=col>sequenceCountQF</th><th scope=col>dataQF</th><th scope=col>publicationDate</th><th scope=col>release</th></tr>\n",
       "\t<tr><th scope=col>&lt;chr&gt;</th><th scope=col>&lt;chr&gt;</th><th scope=col>&lt;chr&gt;</th><th scope=col>&lt;chr&gt;</th><th scope=col>&lt;chr&gt;</th><th scope=col>&lt;chr&gt;</th><th scope=col>&lt;dttm&gt;</th><th scope=col>&lt;dttm&gt;</th><th scope=col>&lt;chr&gt;</th><th scope=col>&lt;chr&gt;</th><th scope=col>&lt;chr&gt;</th><th scope=col>&lt;chr&gt;</th><th scope=col>&lt;chr&gt;</th><th scope=col>&lt;chr&gt;</th><th scope=col>&lt;chr&gt;</th><th scope=col>&lt;chr&gt;</th><th scope=col>&lt;chr&gt;</th><th scope=col>&lt;chr&gt;</th><th scope=col>&lt;chr&gt;</th><th scope=col>&lt;chr&gt;</th><th scope=col>&lt;chr&gt;</th><th scope=col>&lt;chr&gt;</th><th scope=col>&lt;chr&gt;</th><th scope=col>&lt;dbl&gt;</th><th scope=col>&lt;chr&gt;</th><th scope=col>&lt;chr&gt;</th><th scope=col>&lt;chr&gt;</th><th scope=col>&lt;chr&gt;</th></tr>\n",
       "</thead>\n",
       "<tbody>\n",
       "\t<tr><td>3f6092b8-1ae4-4ef0-b0d5-923082998fb1</td><td>D10</td><td>ARIK</td><td>NA</td><td>ARIK.AOS.reach</td><td>NEON HQ</td><td>2014-07-15 18:00:00</td><td>2020-10-19</td><td>plant-associated</td><td>ARIK.20140715.AMC.EPIPHYTON.3 </td><td>NA</td><td>ARIK.20140715.AMC.EPIPHYTON.3-DNA1 </td><td>NA</td><td>BMI_Tube50</td><td>NA</td><td>https://storage.neonscience.org/neon-os-data/data-frame/ARIK.20140715.AMC.EPIPHYTON.3-DNA1_ITS_20201204T192324.578Z.csv </td><td>ARIK.20140715.AMC.EPIPHYTON.3-DNA1_ITS_20201204T192324.578Z.csv </td><td>NEON_mcc_sequenceVariant_analysis_v1</td><td>ITS</td><td>fungi</td><td>vWZ1qVo0h90/3iis8yKEq6Zp2YTjlO/DqY/iwBPUxZE=</td><td>NA</td><td>NA</td><td> 249</td><td>Below threshold</td><td>NA</td><td>20240102T204915Z</td><td>RELEASE-2024</td></tr>\n",
       "\t<tr><td>7c0e9b1f-4e52-4663-8d00-06dac6642fff</td><td>D10</td><td>ARIK</td><td>NA</td><td>ARIK.AOS.reach</td><td>NEON HQ</td><td>2014-07-15 18:00:00</td><td>2020-10-19</td><td>plant-associated</td><td>ARIK.20140715.AMC.EPIPHYTON.1 </td><td>NA</td><td>ARIK.20140715.AMC.EPIPHYTON.1-DNA1 </td><td>NA</td><td>BMI_Tube48</td><td>NA</td><td>https://storage.neonscience.org/neon-os-data/data-frame/ARIK.20140715.AMC.EPIPHYTON.1-DNA1_ITS_20201204T192324.573Z.csv </td><td>ARIK.20140715.AMC.EPIPHYTON.1-DNA1_ITS_20201204T192324.573Z.csv </td><td>NEON_mcc_sequenceVariant_analysis_v1</td><td>ITS</td><td>fungi</td><td>vWZ1qVo0h90/3iis8yKEq6Zp2YTjlO/DqY/iwBPUxZE=</td><td>NA</td><td>NA</td><td>1967</td><td>Below threshold</td><td>NA</td><td>20240102T204915Z</td><td>RELEASE-2024</td></tr>\n",
       "\t<tr><td>77bb28ea-0636-4da6-96b6-d2d6cad77454</td><td>D10</td><td>ARIK</td><td>NA</td><td>ARIK.AOS.reach</td><td>NEON HQ</td><td>2014-07-15 18:00:00</td><td>2020-10-19</td><td>sediment        </td><td>ARIK.20140715.AMC.EPIPSAMMON.1</td><td>NA</td><td>ARIK.20140715.AMC.EPIPSAMMON.1-DNA1</td><td>NA</td><td>BMI_Tube42</td><td>NA</td><td>https://storage.neonscience.org/neon-os-data/data-frame/ARIK.20140715.AMC.EPIPSAMMON.1-DNA1_ITS_20201204T192324.582Z.csv</td><td>ARIK.20140715.AMC.EPIPSAMMON.1-DNA1_ITS_20201204T192324.582Z.csv</td><td>NEON_mcc_sequenceVariant_analysis_v1</td><td>ITS</td><td>fungi</td><td>vWZ1qVo0h90/3iis8yKEq6Zp2YTjlO/DqY/iwBPUxZE=</td><td>NA</td><td>NA</td><td>  55</td><td>Below threshold</td><td>NA</td><td>20240102T204915Z</td><td>RELEASE-2024</td></tr>\n",
       "\t<tr><td>6bed916a-7dd5-47d4-8b08-25dca8dee8e9</td><td>D10</td><td>ARIK</td><td>NA</td><td>ARIK.AOS.reach</td><td>NEON HQ</td><td>2014-07-15 18:00:00</td><td>2020-10-19</td><td>sediment        </td><td>ARIK.20140715.AMC.EPIPSAMMON.3</td><td>NA</td><td>ARIK.20140715.AMC.EPIPSAMMON.3-DNA1</td><td>NA</td><td>BMI_Tube43</td><td>NA</td><td>https://storage.neonscience.org/neon-os-data/data-frame/ARIK.20140715.AMC.EPIPSAMMON.3-DNA1_ITS_20201204T192324.583Z.csv</td><td>ARIK.20140715.AMC.EPIPSAMMON.3-DNA1_ITS_20201204T192324.583Z.csv</td><td>NEON_mcc_sequenceVariant_analysis_v1</td><td>ITS</td><td>fungi</td><td>vWZ1qVo0h90/3iis8yKEq6Zp2YTjlO/DqY/iwBPUxZE=</td><td>NA</td><td>NA</td><td> 236</td><td>Below threshold</td><td>NA</td><td>20240102T204915Z</td><td>RELEASE-2024</td></tr>\n",
       "\t<tr><td>c4dacf72-701e-44f7-85c2-2f4a9637dfd8</td><td>D10</td><td>ARIK</td><td>NA</td><td>ARIK.AOS.reach</td><td>NEON HQ</td><td>2014-07-15 18:00:00</td><td>2020-10-19</td><td>plant-associated</td><td>ARIK.20140715.AMC.EPIPHYTON.2 </td><td>NA</td><td>ARIK.20140715.AMC.EPIPHYTON.2-DNA1 </td><td>NA</td><td>BMI_Tube49</td><td>NA</td><td>https://storage.neonscience.org/neon-os-data/data-frame/ARIK.20140715.AMC.EPIPHYTON.2-DNA1_ITS_20201204T192324.576Z.csv </td><td>ARIK.20140715.AMC.EPIPHYTON.2-DNA1_ITS_20201204T192324.576Z.csv </td><td>NEON_mcc_sequenceVariant_analysis_v1</td><td>ITS</td><td>fungi</td><td>vWZ1qVo0h90/3iis8yKEq6Zp2YTjlO/DqY/iwBPUxZE=</td><td>NA</td><td>NA</td><td> 409</td><td>Below threshold</td><td>NA</td><td>20240102T204915Z</td><td>RELEASE-2024</td></tr>\n",
       "\t<tr><td>⋮</td><td>⋮</td><td>⋮</td><td>⋮</td><td>⋮</td><td>⋮</td><td>⋮</td><td>⋮</td><td>⋮</td><td>⋮</td><td>⋮</td><td>⋮</td><td>⋮</td><td>⋮</td><td>⋮</td><td>⋮</td><td>⋮</td><td>⋮</td><td>⋮</td><td>⋮</td><td>⋮</td><td>⋮</td><td>⋮</td><td>⋮</td><td>⋮</td><td>⋮</td><td>⋮</td><td>⋮</td></tr>\n",
       "\t<tr><td>568e787a-78be-4bff-974b-29720407f09c</td><td>D10</td><td>ARIK</td><td>NA</td><td>ARIK.AOS.reach</td><td>NEON HQ</td><td>2018-10-15 18:05:00</td><td>2020-10-19</td><td>sediment        </td><td>ARIK.20181015.AMC.EPIPSAMMON.1</td><td>NA</td><td>ARIK.20181015.AMC.EPIPSAMMON.1-DNA1</td><td>LV7005090101</td><td>BMI_AquaticPlate8WellF8</td><td>NA</td><td>https://storage.neonscience.org/neon-os-data/data-frame/ARIK.20181015.AMC.EPIPSAMMON.1-DNA1_ITS_20211117T000517.csv</td><td>ARIK.20181015.AMC.EPIPSAMMON.1-DNA1_ITS_20211117T000517.csv</td><td>NEON_mcc_sequenceVariant_analysis_v1</td><td>ITS</td><td>fungi</td><td>vWZ1qVo0h90/3iis8yKEq6Zp2YTjlO/DqY/iwBPUxZE=</td><td>NA</td><td>NA</td><td>65849</td><td>OK             </td><td>NA</td><td>20240102T205123Z</td><td>RELEASE-2024</td></tr>\n",
       "\t<tr><td>821a225a-1eec-48bc-b496-37c04b9c883e</td><td>D10</td><td>ARIK</td><td>NA</td><td>ARIK.AOS.reach</td><td>NEON HQ</td><td>2018-10-15 18:05:00</td><td>2020-10-19</td><td>plant-associated</td><td>ARIK.20181015.AMC.EPIPHYTON.5 </td><td>NA</td><td>ARIK.20181015.AMC.EPIPHYTON.5-DNA1 </td><td>LV7005090041</td><td>BMI_AquaticPlate8WellB8</td><td>NA</td><td>https://storage.neonscience.org/neon-os-data/data-frame/ARIK.20181015.AMC.EPIPHYTON.5-DNA1_ITS_20211117T000517.csv </td><td>ARIK.20181015.AMC.EPIPHYTON.5-DNA1_ITS_20211117T000517.csv </td><td>NEON_mcc_sequenceVariant_analysis_v1</td><td>ITS</td><td>fungi</td><td>vWZ1qVo0h90/3iis8yKEq6Zp2YTjlO/DqY/iwBPUxZE=</td><td>NA</td><td>NA</td><td>96994</td><td>OK             </td><td>NA</td><td>20240102T205123Z</td><td>RELEASE-2024</td></tr>\n",
       "\t<tr><td>ed1ef3e5-1a3b-451f-99a7-f8601a6d8563</td><td>D10</td><td>ARIK</td><td>NA</td><td>ARIK.AOS.reach</td><td>NEON HQ</td><td>2018-10-15 18:05:00</td><td>2020-10-19</td><td>plant-associated</td><td>ARIK.20181015.AMC.EPIPHYTON.1 </td><td>NA</td><td>ARIK.20181015.AMC.EPIPHYTON.1-DNA1 </td><td>LV7005090102</td><td>BMI_AquaticPlate8WellF7</td><td>NA</td><td>https://storage.neonscience.org/neon-os-data/data-frame/ARIK.20181015.AMC.EPIPHYTON.1-DNA1_ITS_20211117T000517.csv </td><td>ARIK.20181015.AMC.EPIPHYTON.1-DNA1_ITS_20211117T000517.csv </td><td>NEON_mcc_sequenceVariant_analysis_v1</td><td>ITS</td><td>fungi</td><td>vWZ1qVo0h90/3iis8yKEq6Zp2YTjlO/DqY/iwBPUxZE=</td><td>NA</td><td>NA</td><td>81435</td><td>OK             </td><td>NA</td><td>20240102T205123Z</td><td>RELEASE-2024</td></tr>\n",
       "\t<tr><td>fbdca970-0fcc-4d07-883b-c96d6dce51ab</td><td>D10</td><td>ARIK</td><td>NA</td><td>ARIK.AOS.reach</td><td>NEON HQ</td><td>2018-10-15 18:05:00</td><td>2020-10-19</td><td>sediment        </td><td>ARIK.20181015.AMC.EPIPSAMMON.3</td><td>NA</td><td>ARIK.20181015.AMC.EPIPSAMMON.3-DNA1</td><td>LV7005090077</td><td>BMI_AquaticPlate8WellD8</td><td>NA</td><td>https://storage.neonscience.org/neon-os-data/data-frame/ARIK.20181015.AMC.EPIPSAMMON.3-DNA1_ITS_20211117T000517.csv</td><td>ARIK.20181015.AMC.EPIPSAMMON.3-DNA1_ITS_20211117T000517.csv</td><td>NEON_mcc_sequenceVariant_analysis_v1</td><td>ITS</td><td>fungi</td><td>vWZ1qVo0h90/3iis8yKEq6Zp2YTjlO/DqY/iwBPUxZE=</td><td>NA</td><td>NA</td><td> 2473</td><td>Below threshold</td><td>NA</td><td>20240102T205123Z</td><td>RELEASE-2024</td></tr>\n",
       "\t<tr><td>ae1209ee-6b9b-4431-a7c7-1d093c14faa0</td><td>D10</td><td>ARIK</td><td>NA</td><td>ARIK.AOS.reach</td><td>NEON HQ</td><td>2018-10-15 18:05:00</td><td>2020-10-19</td><td>plant-associated</td><td>ARIK.20181015.AMC.EPIPHYTON.3 </td><td>NA</td><td>ARIK.20181015.AMC.EPIPHYTON.3-DNA1 </td><td>LV7005089876</td><td>BMI_AquaticPlate8WellH7</td><td>NA</td><td>https://storage.neonscience.org/neon-os-data/data-frame/ARIK.20181015.AMC.EPIPHYTON.3-DNA1_ITS_20211117T000517.csv </td><td>ARIK.20181015.AMC.EPIPHYTON.3-DNA1_ITS_20211117T000517.csv </td><td>NEON_mcc_sequenceVariant_analysis_v1</td><td>ITS</td><td>fungi</td><td>vWZ1qVo0h90/3iis8yKEq6Zp2YTjlO/DqY/iwBPUxZE=</td><td>NA</td><td>NA</td><td>13231</td><td>OK             </td><td>NA</td><td>20240102T205123Z</td><td>RELEASE-2024</td></tr>\n",
       "</tbody>\n",
       "</table>\n"
      ],
      "text/latex": [
       "A data.frame: 111 × 28\n",
       "\\begin{tabular}{llllllllllllllllllllllllllll}\n",
       " uid & domainID & siteID & plotID & namedLocation & laboratoryName & collectDate & analysisDate & sampleMaterial & geneticSampleID & geneticSampleCode & dnaSampleID & dnaSampleCode & internalLabID & sequencerRunID & downloadFileUrl & downloadFileName & codeVersion & targetGene & targetTaxonGroup & processedBy & reviewedBy & remarks & sampleFilteredReadNumber & sequenceCountQF & dataQF & publicationDate & release\\\\\n",
       " <chr> & <chr> & <chr> & <chr> & <chr> & <chr> & <dttm> & <dttm> & <chr> & <chr> & <chr> & <chr> & <chr> & <chr> & <chr> & <chr> & <chr> & <chr> & <chr> & <chr> & <chr> & <chr> & <chr> & <dbl> & <chr> & <chr> & <chr> & <chr>\\\\\n",
       "\\hline\n",
       "\t 3f6092b8-1ae4-4ef0-b0d5-923082998fb1 & D10 & ARIK & NA & ARIK.AOS.reach & NEON HQ & 2014-07-15 18:00:00 & 2020-10-19 & plant-associated & ARIK.20140715.AMC.EPIPHYTON.3  & NA & ARIK.20140715.AMC.EPIPHYTON.3-DNA1  & NA & BMI\\_Tube50 & NA & https://storage.neonscience.org/neon-os-data/data-frame/ARIK.20140715.AMC.EPIPHYTON.3-DNA1\\_ITS\\_20201204T192324.578Z.csv  & ARIK.20140715.AMC.EPIPHYTON.3-DNA1\\_ITS\\_20201204T192324.578Z.csv  & NEON\\_mcc\\_sequenceVariant\\_analysis\\_v1 & ITS & fungi & vWZ1qVo0h90/3iis8yKEq6Zp2YTjlO/DqY/iwBPUxZE= & NA & NA &  249 & Below threshold & NA & 20240102T204915Z & RELEASE-2024\\\\\n",
       "\t 7c0e9b1f-4e52-4663-8d00-06dac6642fff & D10 & ARIK & NA & ARIK.AOS.reach & NEON HQ & 2014-07-15 18:00:00 & 2020-10-19 & plant-associated & ARIK.20140715.AMC.EPIPHYTON.1  & NA & ARIK.20140715.AMC.EPIPHYTON.1-DNA1  & NA & BMI\\_Tube48 & NA & https://storage.neonscience.org/neon-os-data/data-frame/ARIK.20140715.AMC.EPIPHYTON.1-DNA1\\_ITS\\_20201204T192324.573Z.csv  & ARIK.20140715.AMC.EPIPHYTON.1-DNA1\\_ITS\\_20201204T192324.573Z.csv  & NEON\\_mcc\\_sequenceVariant\\_analysis\\_v1 & ITS & fungi & vWZ1qVo0h90/3iis8yKEq6Zp2YTjlO/DqY/iwBPUxZE= & NA & NA & 1967 & Below threshold & NA & 20240102T204915Z & RELEASE-2024\\\\\n",
       "\t 77bb28ea-0636-4da6-96b6-d2d6cad77454 & D10 & ARIK & NA & ARIK.AOS.reach & NEON HQ & 2014-07-15 18:00:00 & 2020-10-19 & sediment         & ARIK.20140715.AMC.EPIPSAMMON.1 & NA & ARIK.20140715.AMC.EPIPSAMMON.1-DNA1 & NA & BMI\\_Tube42 & NA & https://storage.neonscience.org/neon-os-data/data-frame/ARIK.20140715.AMC.EPIPSAMMON.1-DNA1\\_ITS\\_20201204T192324.582Z.csv & ARIK.20140715.AMC.EPIPSAMMON.1-DNA1\\_ITS\\_20201204T192324.582Z.csv & NEON\\_mcc\\_sequenceVariant\\_analysis\\_v1 & ITS & fungi & vWZ1qVo0h90/3iis8yKEq6Zp2YTjlO/DqY/iwBPUxZE= & NA & NA &   55 & Below threshold & NA & 20240102T204915Z & RELEASE-2024\\\\\n",
       "\t 6bed916a-7dd5-47d4-8b08-25dca8dee8e9 & D10 & ARIK & NA & ARIK.AOS.reach & NEON HQ & 2014-07-15 18:00:00 & 2020-10-19 & sediment         & ARIK.20140715.AMC.EPIPSAMMON.3 & NA & ARIK.20140715.AMC.EPIPSAMMON.3-DNA1 & NA & BMI\\_Tube43 & NA & https://storage.neonscience.org/neon-os-data/data-frame/ARIK.20140715.AMC.EPIPSAMMON.3-DNA1\\_ITS\\_20201204T192324.583Z.csv & ARIK.20140715.AMC.EPIPSAMMON.3-DNA1\\_ITS\\_20201204T192324.583Z.csv & NEON\\_mcc\\_sequenceVariant\\_analysis\\_v1 & ITS & fungi & vWZ1qVo0h90/3iis8yKEq6Zp2YTjlO/DqY/iwBPUxZE= & NA & NA &  236 & Below threshold & NA & 20240102T204915Z & RELEASE-2024\\\\\n",
       "\t c4dacf72-701e-44f7-85c2-2f4a9637dfd8 & D10 & ARIK & NA & ARIK.AOS.reach & NEON HQ & 2014-07-15 18:00:00 & 2020-10-19 & plant-associated & ARIK.20140715.AMC.EPIPHYTON.2  & NA & ARIK.20140715.AMC.EPIPHYTON.2-DNA1  & NA & BMI\\_Tube49 & NA & https://storage.neonscience.org/neon-os-data/data-frame/ARIK.20140715.AMC.EPIPHYTON.2-DNA1\\_ITS\\_20201204T192324.576Z.csv  & ARIK.20140715.AMC.EPIPHYTON.2-DNA1\\_ITS\\_20201204T192324.576Z.csv  & NEON\\_mcc\\_sequenceVariant\\_analysis\\_v1 & ITS & fungi & vWZ1qVo0h90/3iis8yKEq6Zp2YTjlO/DqY/iwBPUxZE= & NA & NA &  409 & Below threshold & NA & 20240102T204915Z & RELEASE-2024\\\\\n",
       "\t ⋮ & ⋮ & ⋮ & ⋮ & ⋮ & ⋮ & ⋮ & ⋮ & ⋮ & ⋮ & ⋮ & ⋮ & ⋮ & ⋮ & ⋮ & ⋮ & ⋮ & ⋮ & ⋮ & ⋮ & ⋮ & ⋮ & ⋮ & ⋮ & ⋮ & ⋮ & ⋮ & ⋮\\\\\n",
       "\t 568e787a-78be-4bff-974b-29720407f09c & D10 & ARIK & NA & ARIK.AOS.reach & NEON HQ & 2018-10-15 18:05:00 & 2020-10-19 & sediment         & ARIK.20181015.AMC.EPIPSAMMON.1 & NA & ARIK.20181015.AMC.EPIPSAMMON.1-DNA1 & LV7005090101 & BMI\\_AquaticPlate8WellF8 & NA & https://storage.neonscience.org/neon-os-data/data-frame/ARIK.20181015.AMC.EPIPSAMMON.1-DNA1\\_ITS\\_20211117T000517.csv & ARIK.20181015.AMC.EPIPSAMMON.1-DNA1\\_ITS\\_20211117T000517.csv & NEON\\_mcc\\_sequenceVariant\\_analysis\\_v1 & ITS & fungi & vWZ1qVo0h90/3iis8yKEq6Zp2YTjlO/DqY/iwBPUxZE= & NA & NA & 65849 & OK              & NA & 20240102T205123Z & RELEASE-2024\\\\\n",
       "\t 821a225a-1eec-48bc-b496-37c04b9c883e & D10 & ARIK & NA & ARIK.AOS.reach & NEON HQ & 2018-10-15 18:05:00 & 2020-10-19 & plant-associated & ARIK.20181015.AMC.EPIPHYTON.5  & NA & ARIK.20181015.AMC.EPIPHYTON.5-DNA1  & LV7005090041 & BMI\\_AquaticPlate8WellB8 & NA & https://storage.neonscience.org/neon-os-data/data-frame/ARIK.20181015.AMC.EPIPHYTON.5-DNA1\\_ITS\\_20211117T000517.csv  & ARIK.20181015.AMC.EPIPHYTON.5-DNA1\\_ITS\\_20211117T000517.csv  & NEON\\_mcc\\_sequenceVariant\\_analysis\\_v1 & ITS & fungi & vWZ1qVo0h90/3iis8yKEq6Zp2YTjlO/DqY/iwBPUxZE= & NA & NA & 96994 & OK              & NA & 20240102T205123Z & RELEASE-2024\\\\\n",
       "\t ed1ef3e5-1a3b-451f-99a7-f8601a6d8563 & D10 & ARIK & NA & ARIK.AOS.reach & NEON HQ & 2018-10-15 18:05:00 & 2020-10-19 & plant-associated & ARIK.20181015.AMC.EPIPHYTON.1  & NA & ARIK.20181015.AMC.EPIPHYTON.1-DNA1  & LV7005090102 & BMI\\_AquaticPlate8WellF7 & NA & https://storage.neonscience.org/neon-os-data/data-frame/ARIK.20181015.AMC.EPIPHYTON.1-DNA1\\_ITS\\_20211117T000517.csv  & ARIK.20181015.AMC.EPIPHYTON.1-DNA1\\_ITS\\_20211117T000517.csv  & NEON\\_mcc\\_sequenceVariant\\_analysis\\_v1 & ITS & fungi & vWZ1qVo0h90/3iis8yKEq6Zp2YTjlO/DqY/iwBPUxZE= & NA & NA & 81435 & OK              & NA & 20240102T205123Z & RELEASE-2024\\\\\n",
       "\t fbdca970-0fcc-4d07-883b-c96d6dce51ab & D10 & ARIK & NA & ARIK.AOS.reach & NEON HQ & 2018-10-15 18:05:00 & 2020-10-19 & sediment         & ARIK.20181015.AMC.EPIPSAMMON.3 & NA & ARIK.20181015.AMC.EPIPSAMMON.3-DNA1 & LV7005090077 & BMI\\_AquaticPlate8WellD8 & NA & https://storage.neonscience.org/neon-os-data/data-frame/ARIK.20181015.AMC.EPIPSAMMON.3-DNA1\\_ITS\\_20211117T000517.csv & ARIK.20181015.AMC.EPIPSAMMON.3-DNA1\\_ITS\\_20211117T000517.csv & NEON\\_mcc\\_sequenceVariant\\_analysis\\_v1 & ITS & fungi & vWZ1qVo0h90/3iis8yKEq6Zp2YTjlO/DqY/iwBPUxZE= & NA & NA &  2473 & Below threshold & NA & 20240102T205123Z & RELEASE-2024\\\\\n",
       "\t ae1209ee-6b9b-4431-a7c7-1d093c14faa0 & D10 & ARIK & NA & ARIK.AOS.reach & NEON HQ & 2018-10-15 18:05:00 & 2020-10-19 & plant-associated & ARIK.20181015.AMC.EPIPHYTON.3  & NA & ARIK.20181015.AMC.EPIPHYTON.3-DNA1  & LV7005089876 & BMI\\_AquaticPlate8WellH7 & NA & https://storage.neonscience.org/neon-os-data/data-frame/ARIK.20181015.AMC.EPIPHYTON.3-DNA1\\_ITS\\_20211117T000517.csv  & ARIK.20181015.AMC.EPIPHYTON.3-DNA1\\_ITS\\_20211117T000517.csv  & NEON\\_mcc\\_sequenceVariant\\_analysis\\_v1 & ITS & fungi & vWZ1qVo0h90/3iis8yKEq6Zp2YTjlO/DqY/iwBPUxZE= & NA & NA & 13231 & OK              & NA & 20240102T205123Z & RELEASE-2024\\\\\n",
       "\\end{tabular}\n"
      ],
      "text/markdown": [
       "\n",
       "A data.frame: 111 × 28\n",
       "\n",
       "| uid &lt;chr&gt; | domainID &lt;chr&gt; | siteID &lt;chr&gt; | plotID &lt;chr&gt; | namedLocation &lt;chr&gt; | laboratoryName &lt;chr&gt; | collectDate &lt;dttm&gt; | analysisDate &lt;dttm&gt; | sampleMaterial &lt;chr&gt; | geneticSampleID &lt;chr&gt; | geneticSampleCode &lt;chr&gt; | dnaSampleID &lt;chr&gt; | dnaSampleCode &lt;chr&gt; | internalLabID &lt;chr&gt; | sequencerRunID &lt;chr&gt; | downloadFileUrl &lt;chr&gt; | downloadFileName &lt;chr&gt; | codeVersion &lt;chr&gt; | targetGene &lt;chr&gt; | targetTaxonGroup &lt;chr&gt; | processedBy &lt;chr&gt; | reviewedBy &lt;chr&gt; | remarks &lt;chr&gt; | sampleFilteredReadNumber &lt;dbl&gt; | sequenceCountQF &lt;chr&gt; | dataQF &lt;chr&gt; | publicationDate &lt;chr&gt; | release &lt;chr&gt; |\n",
       "|---|---|---|---|---|---|---|---|---|---|---|---|---|---|---|---|---|---|---|---|---|---|---|---|---|---|---|---|\n",
       "| 3f6092b8-1ae4-4ef0-b0d5-923082998fb1 | D10 | ARIK | NA | ARIK.AOS.reach | NEON HQ | 2014-07-15 18:00:00 | 2020-10-19 | plant-associated | ARIK.20140715.AMC.EPIPHYTON.3  | NA | ARIK.20140715.AMC.EPIPHYTON.3-DNA1  | NA | BMI_Tube50 | NA | https://storage.neonscience.org/neon-os-data/data-frame/ARIK.20140715.AMC.EPIPHYTON.3-DNA1_ITS_20201204T192324.578Z.csv  | ARIK.20140715.AMC.EPIPHYTON.3-DNA1_ITS_20201204T192324.578Z.csv  | NEON_mcc_sequenceVariant_analysis_v1 | ITS | fungi | vWZ1qVo0h90/3iis8yKEq6Zp2YTjlO/DqY/iwBPUxZE= | NA | NA |  249 | Below threshold | NA | 20240102T204915Z | RELEASE-2024 |\n",
       "| 7c0e9b1f-4e52-4663-8d00-06dac6642fff | D10 | ARIK | NA | ARIK.AOS.reach | NEON HQ | 2014-07-15 18:00:00 | 2020-10-19 | plant-associated | ARIK.20140715.AMC.EPIPHYTON.1  | NA | ARIK.20140715.AMC.EPIPHYTON.1-DNA1  | NA | BMI_Tube48 | NA | https://storage.neonscience.org/neon-os-data/data-frame/ARIK.20140715.AMC.EPIPHYTON.1-DNA1_ITS_20201204T192324.573Z.csv  | ARIK.20140715.AMC.EPIPHYTON.1-DNA1_ITS_20201204T192324.573Z.csv  | NEON_mcc_sequenceVariant_analysis_v1 | ITS | fungi | vWZ1qVo0h90/3iis8yKEq6Zp2YTjlO/DqY/iwBPUxZE= | NA | NA | 1967 | Below threshold | NA | 20240102T204915Z | RELEASE-2024 |\n",
       "| 77bb28ea-0636-4da6-96b6-d2d6cad77454 | D10 | ARIK | NA | ARIK.AOS.reach | NEON HQ | 2014-07-15 18:00:00 | 2020-10-19 | sediment         | ARIK.20140715.AMC.EPIPSAMMON.1 | NA | ARIK.20140715.AMC.EPIPSAMMON.1-DNA1 | NA | BMI_Tube42 | NA | https://storage.neonscience.org/neon-os-data/data-frame/ARIK.20140715.AMC.EPIPSAMMON.1-DNA1_ITS_20201204T192324.582Z.csv | ARIK.20140715.AMC.EPIPSAMMON.1-DNA1_ITS_20201204T192324.582Z.csv | NEON_mcc_sequenceVariant_analysis_v1 | ITS | fungi | vWZ1qVo0h90/3iis8yKEq6Zp2YTjlO/DqY/iwBPUxZE= | NA | NA |   55 | Below threshold | NA | 20240102T204915Z | RELEASE-2024 |\n",
       "| 6bed916a-7dd5-47d4-8b08-25dca8dee8e9 | D10 | ARIK | NA | ARIK.AOS.reach | NEON HQ | 2014-07-15 18:00:00 | 2020-10-19 | sediment         | ARIK.20140715.AMC.EPIPSAMMON.3 | NA | ARIK.20140715.AMC.EPIPSAMMON.3-DNA1 | NA | BMI_Tube43 | NA | https://storage.neonscience.org/neon-os-data/data-frame/ARIK.20140715.AMC.EPIPSAMMON.3-DNA1_ITS_20201204T192324.583Z.csv | ARIK.20140715.AMC.EPIPSAMMON.3-DNA1_ITS_20201204T192324.583Z.csv | NEON_mcc_sequenceVariant_analysis_v1 | ITS | fungi | vWZ1qVo0h90/3iis8yKEq6Zp2YTjlO/DqY/iwBPUxZE= | NA | NA |  236 | Below threshold | NA | 20240102T204915Z | RELEASE-2024 |\n",
       "| c4dacf72-701e-44f7-85c2-2f4a9637dfd8 | D10 | ARIK | NA | ARIK.AOS.reach | NEON HQ | 2014-07-15 18:00:00 | 2020-10-19 | plant-associated | ARIK.20140715.AMC.EPIPHYTON.2  | NA | ARIK.20140715.AMC.EPIPHYTON.2-DNA1  | NA | BMI_Tube49 | NA | https://storage.neonscience.org/neon-os-data/data-frame/ARIK.20140715.AMC.EPIPHYTON.2-DNA1_ITS_20201204T192324.576Z.csv  | ARIK.20140715.AMC.EPIPHYTON.2-DNA1_ITS_20201204T192324.576Z.csv  | NEON_mcc_sequenceVariant_analysis_v1 | ITS | fungi | vWZ1qVo0h90/3iis8yKEq6Zp2YTjlO/DqY/iwBPUxZE= | NA | NA |  409 | Below threshold | NA | 20240102T204915Z | RELEASE-2024 |\n",
       "| ⋮ | ⋮ | ⋮ | ⋮ | ⋮ | ⋮ | ⋮ | ⋮ | ⋮ | ⋮ | ⋮ | ⋮ | ⋮ | ⋮ | ⋮ | ⋮ | ⋮ | ⋮ | ⋮ | ⋮ | ⋮ | ⋮ | ⋮ | ⋮ | ⋮ | ⋮ | ⋮ | ⋮ |\n",
       "| 568e787a-78be-4bff-974b-29720407f09c | D10 | ARIK | NA | ARIK.AOS.reach | NEON HQ | 2018-10-15 18:05:00 | 2020-10-19 | sediment         | ARIK.20181015.AMC.EPIPSAMMON.1 | NA | ARIK.20181015.AMC.EPIPSAMMON.1-DNA1 | LV7005090101 | BMI_AquaticPlate8WellF8 | NA | https://storage.neonscience.org/neon-os-data/data-frame/ARIK.20181015.AMC.EPIPSAMMON.1-DNA1_ITS_20211117T000517.csv | ARIK.20181015.AMC.EPIPSAMMON.1-DNA1_ITS_20211117T000517.csv | NEON_mcc_sequenceVariant_analysis_v1 | ITS | fungi | vWZ1qVo0h90/3iis8yKEq6Zp2YTjlO/DqY/iwBPUxZE= | NA | NA | 65849 | OK              | NA | 20240102T205123Z | RELEASE-2024 |\n",
       "| 821a225a-1eec-48bc-b496-37c04b9c883e | D10 | ARIK | NA | ARIK.AOS.reach | NEON HQ | 2018-10-15 18:05:00 | 2020-10-19 | plant-associated | ARIK.20181015.AMC.EPIPHYTON.5  | NA | ARIK.20181015.AMC.EPIPHYTON.5-DNA1  | LV7005090041 | BMI_AquaticPlate8WellB8 | NA | https://storage.neonscience.org/neon-os-data/data-frame/ARIK.20181015.AMC.EPIPHYTON.5-DNA1_ITS_20211117T000517.csv  | ARIK.20181015.AMC.EPIPHYTON.5-DNA1_ITS_20211117T000517.csv  | NEON_mcc_sequenceVariant_analysis_v1 | ITS | fungi | vWZ1qVo0h90/3iis8yKEq6Zp2YTjlO/DqY/iwBPUxZE= | NA | NA | 96994 | OK              | NA | 20240102T205123Z | RELEASE-2024 |\n",
       "| ed1ef3e5-1a3b-451f-99a7-f8601a6d8563 | D10 | ARIK | NA | ARIK.AOS.reach | NEON HQ | 2018-10-15 18:05:00 | 2020-10-19 | plant-associated | ARIK.20181015.AMC.EPIPHYTON.1  | NA | ARIK.20181015.AMC.EPIPHYTON.1-DNA1  | LV7005090102 | BMI_AquaticPlate8WellF7 | NA | https://storage.neonscience.org/neon-os-data/data-frame/ARIK.20181015.AMC.EPIPHYTON.1-DNA1_ITS_20211117T000517.csv  | ARIK.20181015.AMC.EPIPHYTON.1-DNA1_ITS_20211117T000517.csv  | NEON_mcc_sequenceVariant_analysis_v1 | ITS | fungi | vWZ1qVo0h90/3iis8yKEq6Zp2YTjlO/DqY/iwBPUxZE= | NA | NA | 81435 | OK              | NA | 20240102T205123Z | RELEASE-2024 |\n",
       "| fbdca970-0fcc-4d07-883b-c96d6dce51ab | D10 | ARIK | NA | ARIK.AOS.reach | NEON HQ | 2018-10-15 18:05:00 | 2020-10-19 | sediment         | ARIK.20181015.AMC.EPIPSAMMON.3 | NA | ARIK.20181015.AMC.EPIPSAMMON.3-DNA1 | LV7005090077 | BMI_AquaticPlate8WellD8 | NA | https://storage.neonscience.org/neon-os-data/data-frame/ARIK.20181015.AMC.EPIPSAMMON.3-DNA1_ITS_20211117T000517.csv | ARIK.20181015.AMC.EPIPSAMMON.3-DNA1_ITS_20211117T000517.csv | NEON_mcc_sequenceVariant_analysis_v1 | ITS | fungi | vWZ1qVo0h90/3iis8yKEq6Zp2YTjlO/DqY/iwBPUxZE= | NA | NA |  2473 | Below threshold | NA | 20240102T205123Z | RELEASE-2024 |\n",
       "| ae1209ee-6b9b-4431-a7c7-1d093c14faa0 | D10 | ARIK | NA | ARIK.AOS.reach | NEON HQ | 2018-10-15 18:05:00 | 2020-10-19 | plant-associated | ARIK.20181015.AMC.EPIPHYTON.3  | NA | ARIK.20181015.AMC.EPIPHYTON.3-DNA1  | LV7005089876 | BMI_AquaticPlate8WellH7 | NA | https://storage.neonscience.org/neon-os-data/data-frame/ARIK.20181015.AMC.EPIPHYTON.3-DNA1_ITS_20211117T000517.csv  | ARIK.20181015.AMC.EPIPHYTON.3-DNA1_ITS_20211117T000517.csv  | NEON_mcc_sequenceVariant_analysis_v1 | ITS | fungi | vWZ1qVo0h90/3iis8yKEq6Zp2YTjlO/DqY/iwBPUxZE= | NA | NA | 13231 | OK              | NA | 20240102T205123Z | RELEASE-2024 |\n",
       "\n"
      ],
      "text/plain": [
       "    uid                                  domainID siteID plotID namedLocation \n",
       "1   3f6092b8-1ae4-4ef0-b0d5-923082998fb1 D10      ARIK   NA     ARIK.AOS.reach\n",
       "2   7c0e9b1f-4e52-4663-8d00-06dac6642fff D10      ARIK   NA     ARIK.AOS.reach\n",
       "3   77bb28ea-0636-4da6-96b6-d2d6cad77454 D10      ARIK   NA     ARIK.AOS.reach\n",
       "4   6bed916a-7dd5-47d4-8b08-25dca8dee8e9 D10      ARIK   NA     ARIK.AOS.reach\n",
       "5   c4dacf72-701e-44f7-85c2-2f4a9637dfd8 D10      ARIK   NA     ARIK.AOS.reach\n",
       "⋮   ⋮                                    ⋮        ⋮      ⋮      ⋮             \n",
       "107 568e787a-78be-4bff-974b-29720407f09c D10      ARIK   NA     ARIK.AOS.reach\n",
       "108 821a225a-1eec-48bc-b496-37c04b9c883e D10      ARIK   NA     ARIK.AOS.reach\n",
       "109 ed1ef3e5-1a3b-451f-99a7-f8601a6d8563 D10      ARIK   NA     ARIK.AOS.reach\n",
       "110 fbdca970-0fcc-4d07-883b-c96d6dce51ab D10      ARIK   NA     ARIK.AOS.reach\n",
       "111 ae1209ee-6b9b-4431-a7c7-1d093c14faa0 D10      ARIK   NA     ARIK.AOS.reach\n",
       "    laboratoryName collectDate         analysisDate sampleMaterial  \n",
       "1   NEON HQ        2014-07-15 18:00:00 2020-10-19   plant-associated\n",
       "2   NEON HQ        2014-07-15 18:00:00 2020-10-19   plant-associated\n",
       "3   NEON HQ        2014-07-15 18:00:00 2020-10-19   sediment        \n",
       "4   NEON HQ        2014-07-15 18:00:00 2020-10-19   sediment        \n",
       "5   NEON HQ        2014-07-15 18:00:00 2020-10-19   plant-associated\n",
       "⋮   ⋮              ⋮                   ⋮            ⋮               \n",
       "107 NEON HQ        2018-10-15 18:05:00 2020-10-19   sediment        \n",
       "108 NEON HQ        2018-10-15 18:05:00 2020-10-19   plant-associated\n",
       "109 NEON HQ        2018-10-15 18:05:00 2020-10-19   plant-associated\n",
       "110 NEON HQ        2018-10-15 18:05:00 2020-10-19   sediment        \n",
       "111 NEON HQ        2018-10-15 18:05:00 2020-10-19   plant-associated\n",
       "    geneticSampleID                geneticSampleCode\n",
       "1   ARIK.20140715.AMC.EPIPHYTON.3  NA               \n",
       "2   ARIK.20140715.AMC.EPIPHYTON.1  NA               \n",
       "3   ARIK.20140715.AMC.EPIPSAMMON.1 NA               \n",
       "4   ARIK.20140715.AMC.EPIPSAMMON.3 NA               \n",
       "5   ARIK.20140715.AMC.EPIPHYTON.2  NA               \n",
       "⋮   ⋮                              ⋮                \n",
       "107 ARIK.20181015.AMC.EPIPSAMMON.1 NA               \n",
       "108 ARIK.20181015.AMC.EPIPHYTON.5  NA               \n",
       "109 ARIK.20181015.AMC.EPIPHYTON.1  NA               \n",
       "110 ARIK.20181015.AMC.EPIPSAMMON.3 NA               \n",
       "111 ARIK.20181015.AMC.EPIPHYTON.3  NA               \n",
       "    dnaSampleID                         dnaSampleCode internalLabID          \n",
       "1   ARIK.20140715.AMC.EPIPHYTON.3-DNA1  NA            BMI_Tube50             \n",
       "2   ARIK.20140715.AMC.EPIPHYTON.1-DNA1  NA            BMI_Tube48             \n",
       "3   ARIK.20140715.AMC.EPIPSAMMON.1-DNA1 NA            BMI_Tube42             \n",
       "4   ARIK.20140715.AMC.EPIPSAMMON.3-DNA1 NA            BMI_Tube43             \n",
       "5   ARIK.20140715.AMC.EPIPHYTON.2-DNA1  NA            BMI_Tube49             \n",
       "⋮   ⋮                                   ⋮             ⋮                      \n",
       "107 ARIK.20181015.AMC.EPIPSAMMON.1-DNA1 LV7005090101  BMI_AquaticPlate8WellF8\n",
       "108 ARIK.20181015.AMC.EPIPHYTON.5-DNA1  LV7005090041  BMI_AquaticPlate8WellB8\n",
       "109 ARIK.20181015.AMC.EPIPHYTON.1-DNA1  LV7005090102  BMI_AquaticPlate8WellF7\n",
       "110 ARIK.20181015.AMC.EPIPSAMMON.3-DNA1 LV7005090077  BMI_AquaticPlate8WellD8\n",
       "111 ARIK.20181015.AMC.EPIPHYTON.3-DNA1  LV7005089876  BMI_AquaticPlate8WellH7\n",
       "    sequencerRunID\n",
       "1   NA            \n",
       "2   NA            \n",
       "3   NA            \n",
       "4   NA            \n",
       "5   NA            \n",
       "⋮   ⋮             \n",
       "107 NA            \n",
       "108 NA            \n",
       "109 NA            \n",
       "110 NA            \n",
       "111 NA            \n",
       "    downloadFileUrl                                                                                                         \n",
       "1   https://storage.neonscience.org/neon-os-data/data-frame/ARIK.20140715.AMC.EPIPHYTON.3-DNA1_ITS_20201204T192324.578Z.csv \n",
       "2   https://storage.neonscience.org/neon-os-data/data-frame/ARIK.20140715.AMC.EPIPHYTON.1-DNA1_ITS_20201204T192324.573Z.csv \n",
       "3   https://storage.neonscience.org/neon-os-data/data-frame/ARIK.20140715.AMC.EPIPSAMMON.1-DNA1_ITS_20201204T192324.582Z.csv\n",
       "4   https://storage.neonscience.org/neon-os-data/data-frame/ARIK.20140715.AMC.EPIPSAMMON.3-DNA1_ITS_20201204T192324.583Z.csv\n",
       "5   https://storage.neonscience.org/neon-os-data/data-frame/ARIK.20140715.AMC.EPIPHYTON.2-DNA1_ITS_20201204T192324.576Z.csv \n",
       "⋮   ⋮                                                                                                                       \n",
       "107 https://storage.neonscience.org/neon-os-data/data-frame/ARIK.20181015.AMC.EPIPSAMMON.1-DNA1_ITS_20211117T000517.csv     \n",
       "108 https://storage.neonscience.org/neon-os-data/data-frame/ARIK.20181015.AMC.EPIPHYTON.5-DNA1_ITS_20211117T000517.csv      \n",
       "109 https://storage.neonscience.org/neon-os-data/data-frame/ARIK.20181015.AMC.EPIPHYTON.1-DNA1_ITS_20211117T000517.csv      \n",
       "110 https://storage.neonscience.org/neon-os-data/data-frame/ARIK.20181015.AMC.EPIPSAMMON.3-DNA1_ITS_20211117T000517.csv     \n",
       "111 https://storage.neonscience.org/neon-os-data/data-frame/ARIK.20181015.AMC.EPIPHYTON.3-DNA1_ITS_20211117T000517.csv      \n",
       "    downloadFileName                                                \n",
       "1   ARIK.20140715.AMC.EPIPHYTON.3-DNA1_ITS_20201204T192324.578Z.csv \n",
       "2   ARIK.20140715.AMC.EPIPHYTON.1-DNA1_ITS_20201204T192324.573Z.csv \n",
       "3   ARIK.20140715.AMC.EPIPSAMMON.1-DNA1_ITS_20201204T192324.582Z.csv\n",
       "4   ARIK.20140715.AMC.EPIPSAMMON.3-DNA1_ITS_20201204T192324.583Z.csv\n",
       "5   ARIK.20140715.AMC.EPIPHYTON.2-DNA1_ITS_20201204T192324.576Z.csv \n",
       "⋮   ⋮                                                               \n",
       "107 ARIK.20181015.AMC.EPIPSAMMON.1-DNA1_ITS_20211117T000517.csv     \n",
       "108 ARIK.20181015.AMC.EPIPHYTON.5-DNA1_ITS_20211117T000517.csv      \n",
       "109 ARIK.20181015.AMC.EPIPHYTON.1-DNA1_ITS_20211117T000517.csv      \n",
       "110 ARIK.20181015.AMC.EPIPSAMMON.3-DNA1_ITS_20211117T000517.csv     \n",
       "111 ARIK.20181015.AMC.EPIPHYTON.3-DNA1_ITS_20211117T000517.csv      \n",
       "    codeVersion                          targetGene targetTaxonGroup\n",
       "1   NEON_mcc_sequenceVariant_analysis_v1 ITS        fungi           \n",
       "2   NEON_mcc_sequenceVariant_analysis_v1 ITS        fungi           \n",
       "3   NEON_mcc_sequenceVariant_analysis_v1 ITS        fungi           \n",
       "4   NEON_mcc_sequenceVariant_analysis_v1 ITS        fungi           \n",
       "5   NEON_mcc_sequenceVariant_analysis_v1 ITS        fungi           \n",
       "⋮   ⋮                                    ⋮          ⋮               \n",
       "107 NEON_mcc_sequenceVariant_analysis_v1 ITS        fungi           \n",
       "108 NEON_mcc_sequenceVariant_analysis_v1 ITS        fungi           \n",
       "109 NEON_mcc_sequenceVariant_analysis_v1 ITS        fungi           \n",
       "110 NEON_mcc_sequenceVariant_analysis_v1 ITS        fungi           \n",
       "111 NEON_mcc_sequenceVariant_analysis_v1 ITS        fungi           \n",
       "    processedBy                                  reviewedBy remarks\n",
       "1   vWZ1qVo0h90/3iis8yKEq6Zp2YTjlO/DqY/iwBPUxZE= NA         NA     \n",
       "2   vWZ1qVo0h90/3iis8yKEq6Zp2YTjlO/DqY/iwBPUxZE= NA         NA     \n",
       "3   vWZ1qVo0h90/3iis8yKEq6Zp2YTjlO/DqY/iwBPUxZE= NA         NA     \n",
       "4   vWZ1qVo0h90/3iis8yKEq6Zp2YTjlO/DqY/iwBPUxZE= NA         NA     \n",
       "5   vWZ1qVo0h90/3iis8yKEq6Zp2YTjlO/DqY/iwBPUxZE= NA         NA     \n",
       "⋮   ⋮                                            ⋮          ⋮      \n",
       "107 vWZ1qVo0h90/3iis8yKEq6Zp2YTjlO/DqY/iwBPUxZE= NA         NA     \n",
       "108 vWZ1qVo0h90/3iis8yKEq6Zp2YTjlO/DqY/iwBPUxZE= NA         NA     \n",
       "109 vWZ1qVo0h90/3iis8yKEq6Zp2YTjlO/DqY/iwBPUxZE= NA         NA     \n",
       "110 vWZ1qVo0h90/3iis8yKEq6Zp2YTjlO/DqY/iwBPUxZE= NA         NA     \n",
       "111 vWZ1qVo0h90/3iis8yKEq6Zp2YTjlO/DqY/iwBPUxZE= NA         NA     \n",
       "    sampleFilteredReadNumber sequenceCountQF dataQF publicationDate \n",
       "1    249                     Below threshold NA     20240102T204915Z\n",
       "2   1967                     Below threshold NA     20240102T204915Z\n",
       "3     55                     Below threshold NA     20240102T204915Z\n",
       "4    236                     Below threshold NA     20240102T204915Z\n",
       "5    409                     Below threshold NA     20240102T204915Z\n",
       "⋮   ⋮                        ⋮               ⋮      ⋮               \n",
       "107 65849                    OK              NA     20240102T205123Z\n",
       "108 96994                    OK              NA     20240102T205123Z\n",
       "109 81435                    OK              NA     20240102T205123Z\n",
       "110  2473                    Below threshold NA     20240102T205123Z\n",
       "111 13231                    OK              NA     20240102T205123Z\n",
       "    release     \n",
       "1   RELEASE-2024\n",
       "2   RELEASE-2024\n",
       "3   RELEASE-2024\n",
       "4   RELEASE-2024\n",
       "5   RELEASE-2024\n",
       "⋮   ⋮           \n",
       "107 RELEASE-2024\n",
       "108 RELEASE-2024\n",
       "109 RELEASE-2024\n",
       "110 RELEASE-2024\n",
       "111 RELEASE-2024"
      ]
     },
     "metadata": {},
     "output_type": "display_data"
    }
   ],
   "source": [
    "ARIK_Microbe$mcc_benthicSeqVariantMetadata_ITS"
   ]
  },
  {
   "cell_type": "markdown",
   "id": "9d79962f-f3b7-46c2-998a-ca96aab786c9",
   "metadata": {},
   "source": [
    "Now we're using a the urls to combine all the data into a single dataframe. We will do this separate for the 16S and ITS dataframes and then combine those."
   ]
  },
  {
   "cell_type": "code",
   "execution_count": null,
   "id": "42111461-391f-496e-97c4-66af54ef51e7",
   "metadata": {},
   "outputs": [],
   "source": [
    "#downloadFileUrl\n",
    "#geneticSampleID\n",
    "read_csv_filename <- function(filename){\n",
    "    ret <- read.csv(filename)\n",
    "    ret$Source <- filename #EDIT\n",
    "    ret\n",
    "}\n",
    "\n",
    "combined_data <- ARIK_Microbe$mcc_benthicSeqVariantMetadata_16S %>%\n",
    "    lapply(read_csv_filename) %>%\n",
    "    bind_rows"
   ]
  },
  {
   "cell_type": "code",
   "execution_count": null,
   "id": "42a99bfc-ba16-4c1d-ac2d-27a989430c36",
   "metadata": {},
   "outputs": [],
   "source": [
    "cd<-as.data.frame(combined_data)\n",
    "head(cd)"
   ]
  }
 ],
 "metadata": {
  "kernelspec": {
   "display_name": "R",
   "language": "R",
   "name": "ir"
  },
  "language_info": {
   "codemirror_mode": "r",
   "file_extension": ".r",
   "mimetype": "text/x-r-source",
   "name": "R",
   "pygments_lexer": "r",
   "version": "4.3.1"
  }
 },
 "nbformat": 4,
 "nbformat_minor": 5
}
