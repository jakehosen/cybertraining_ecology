{
 "cells": [
  {
   "cell_type": "markdown",
   "id": "f40e8768-e766-4cca-92dc-f189ebc0a844",
   "metadata": {},
   "source": [
    "# Setting up the R Environment"
   ]
  },
  {
   "cell_type": "code",
   "execution_count": null,
   "id": "dce20f32-d571-427f-b489-8dc4ba34ca9c",
   "metadata": {},
   "outputs": [],
   "source": [
    "library(neonUtilities)\n",
    "library(ggplot2)\n",
    "library(doBy)\n",
    "library(lubridate)\n",
    "library(dplyr)\n",
    "library(reshape2)\n",
    "library(stringr)"
   ]
  },
  {
   "cell_type": "markdown",
   "id": "92dfc1ba-2384-486b-90f5-4d82422cf469",
   "metadata": {},
   "source": [
    "# Freshwater biodiversity analysis\n",
    "For this module we are going to learn how to use the biodiversity data we accessed in module 1 to analyze the diversity and community composition for different types of aquatic organisms, from microbes to fish. The abundance and number of taxonomic groups (also known as richness) for each of these different types of organisms is different, so in some cases the most useful analytical tools will vary.\n",
    "\n",
    "For this module we will primarily use data from the [National Environmental Observation Network (NEON) data portal](https://data.neonscience.org/). We will use the R package _neonUtilities_ to access NEON data. If you are unfamiliar with the workflows for downloading data from NEON, you can use the NEON data download beginner module to learn more. Also reference the [_neonUtilities_ package documentation](https://www.neonscience.org/resources/learning-hub/tutorials/neondatastackr), which will help you familiarize yourself with this process."
   ]
  },
  {
   "cell_type": "markdown",
   "id": "7dd782a3-5a18-45ca-ac2b-c57528eb487a",
   "metadata": {},
   "source": [
    "## Fish Diversity\n",
    "We will start with relatively large organisms. Fish are higher on the foodweb than other groups organisms present on the food web, thus it is likely (though not assured) that the number and species richness (number of species) of fish in a give aquatic sampling site will be less than that of other groups such as macroinvertebrates and microbes.\n",
    "\n",
    "We will begin by downloading fish diversity data from three sites. You can find [metadata about the NEON sites](https://www.neonscience.org/field-sites/explore-field-sites).\n",
    "\n",
    "We'll start with three aquatic sites: King's Creek (KING), Lower Hop Brook (HOPB), and Mayfield Creek (MAYF).\n",
    "\n",
    "Recall from the previous module that the data product ID for NEON fish survey data is DP1.20107.001. Note here that we are included recently collected \"provisional\" data."
   ]
  },
  {
   "cell_type": "code",
   "execution_count": null,
   "id": "3df3685a-ab9d-4988-a8a3-4cbd0a1edb88",
   "metadata": {},
   "outputs": [],
   "source": [
    "fish_survey <- loadByProduct(dpID=\"DP1.20107.001\", \n",
    "                            site=c(\"KING\",\"HOPB\",\"MAYF\"),\n",
    "                            include.provisional=TRUE,\n",
    "                            check.size=FALSE)"
   ]
  },
  {
   "cell_type": "markdown",
   "id": "e78f9a49-13a8-4e54-aa93-6e086443393d",
   "metadata": {},
   "source": [
    "NEON datasets include a lot of metadata, so we will have to figure out where the data we need is located. To get the counts we want we are going to look in the list element named _fsh_bulkCount_."
   ]
  },
  {
   "cell_type": "code",
   "execution_count": null,
   "id": "5b030941-aea5-4ae7-b962-441aa94de2ac",
   "metadata": {},
   "outputs": [],
   "source": [
    "str(fish_survey)"
   ]
  },
  {
   "cell_type": "markdown",
   "id": "ed783a6b-a782-4a5b-bc6e-cd0703e23ecd",
   "metadata": {},
   "source": [
    "Now that we've found where the data are located, we want to manipulate the data so that it is organized by site and sampling date. Since sampling campigns can last multiple days, we are going to use the function _lubridate_ to create columns for the month and year that fish were sampled. That way, we can compile all the data from a multi-day site visit into a single row. At the end we have a dataframe called _fish_counts_sum_ that reports, for each species, the counts for each site on each sampling date."
   ]
  },
  {
   "cell_type": "code",
   "execution_count": null,
   "id": "3aa3453f-fa8c-418b-ad97-85d25e75d8d9",
   "metadata": {},
   "outputs": [],
   "source": [
    "fish_counts<-as.data.frame(fish_survey[[\"fsh_bulkCount\"]])\n",
    "fish_counts$date<-as.Date(fish_counts$passStartTime,tz=\"EST\")\n",
    "\n",
    "fish_counts$year<-year(fish_counts$date)\n",
    "fish_counts$month<-month(fish_counts$date)\n",
    "\n",
    "fish_counts_sum<-summaryBy(bulkFishCount ~ siteID + month + year + scientificName, fish_counts, FUN=c(sum))\n",
    "fish_counts_sum"
   ]
  },
  {
   "cell_type": "markdown",
   "id": "742847ab-8d09-47f9-a62a-a9c4aadef5c4",
   "metadata": {},
   "source": [
    "# Diversity metrics\n",
    "Diversity metrics take several forms. The primary diversity metrics used are alpha diversity, beta diversity, and gamma diversity. \n",
    "\n",
    "\n",
    "<div>\n",
    "<img src=\"images/DiversityGraphic.jpg\" width=\"500\"/>\n",
    "</div>\n",
    "\n",
    "\n",
    "Each of these three diversity metrics provides a different look at diversity in the environment. Alpha diversity is the diversity of an indvidual site or sampling location. In ecosystems, there are many sites/patches across the landscape, each of which has its own alpha diversity. The difference between the alpha diversity at individual sites is known as beta diversity, which allows us to compare how community composition differs between sites. Finally, there is gamma diversity that represents all of the diversity across all sites within a given ecosystem.\n",
    "\n"
   ]
  },
  {
   "cell_type": "markdown",
   "id": "8ec444a8-d97f-4bbc-b47a-3b51533d2c5c",
   "metadata": {},
   "source": [
    "## Alpha Diversity\n",
    "Alpha diversity can be captured in a variety of ways and there are a number of metrics and equations to capture these different aspects. The primary dimensions of alpha diversity are richness, eveness, and a set of \"composite\" diversity metrics that attempt to capture both richness and evenness.\n",
    "\n",
    "Richness is defined as the total number of taxa in a system. This can be the total number of species, but it is appropriate to report alpha diversity based on other levels of taxonomic organization such as _genus_, _family_, or _order_.\n",
    "\n",
    "The concept of Evenness is a little more nuanced. Evenness captures whether species counts are evenly distributed across across species or whether certain taxa are disproportionately represented in abundance.\n",
    "\n",
    "We'll go through each of these different types of alpha diversity metrics and analyze our fish communities for each of these metrics."
   ]
  },
  {
   "cell_type": "markdown",
   "id": "851b9733-e83f-4c3f-885c-ecb3c7279f18",
   "metadata": {},
   "source": [
    "### Richness\n",
    "This is the easiest to calculate. We just need to determine the number of taxa (in this case species) for each sampling location on each sampling date. We can use the _summaryBy_ function to obtain the species richness. We can do this by summarizing each sampling date, sampling site, and species using the _length_ function to add up all unique species. _length_ works in this case, because we are counting the number of elements rather than summing up the number of fish counted."
   ]
  },
  {
   "cell_type": "code",
   "execution_count": null,
   "id": "ced310b8-7229-4281-9e14-3ec6e4c10765",
   "metadata": {},
   "outputs": [],
   "source": [
    "fish_counts_sum"
   ]
  },
  {
   "cell_type": "code",
   "execution_count": null,
   "id": "87e44b02-182d-4d5e-9344-246f7d0d5ad8",
   "metadata": {},
   "outputs": [],
   "source": [
    "fish_counts_richness<-summaryBy(scientificName ~ siteID + month + year, fish_counts_sum, FUN=c(length))\n",
    "fish_counts_richness"
   ]
  },
  {
   "cell_type": "markdown",
   "id": "1fa74f11-b457-4f1b-9163-a3f8acc2f1ef",
   "metadata": {},
   "source": [
    "There you have it! the _scientificName.length_ variable is that one that represents species richness (the number of taxa at a site at a given time)."
   ]
  },
  {
   "cell_type": "code",
   "execution_count": null,
   "id": "f9e9ffca-d749-4f0a-a51e-671cf351def6",
   "metadata": {},
   "outputs": [],
   "source": [
    "#convert date and month to a date format.\n",
    "fish_counts_richness$date<-paste(fish_counts_richness$year,\"-\",fish_counts_richness$month,sep=\"\")\n",
    "fish_counts_richness$Month_Yr <- as.Date(fish_counts_richness$date, format=\"%Y-%M\")\n",
    "\n",
    "str(fish_counts_richness)\n",
    "\n"
   ]
  },
  {
   "cell_type": "code",
   "execution_count": null,
   "id": "018ccd23-ab77-4b1d-b07d-3ae7fb141a89",
   "metadata": {},
   "outputs": [],
   "source": [
    "alpha_richness_line_plot<-ggplot(fish_counts_richness,aes(x = Month_Yr, y = scientificName.length, color = siteID))+\n",
    "geom_point()+\n",
    "geom_line()\n",
    "\n",
    "alpha_richness_line_plot"
   ]
  },
  {
   "cell_type": "markdown",
   "id": "a8a92a70-a0c2-4c8f-992c-d180825e9b3a",
   "metadata": {},
   "source": [
    "Now we're going to try a different method that will help us visualize more easily the difference in diversity between each of the three groups. Here, we are using the _geom_jitter_ function to display each point in a given category with a slight jitter—or horizontal offset—randomly assigned to each point in a given category, which help visualize points that would otherwise be stacked together (try replacing _geom_jitter+ with _geom_point_ and see what happens).\n",
    "\n",
    "You should also try replacing geom_jitter with [geom_boxplot](https://ggplot2.tidyverse.org/reference/geom_jitter.html), which will display standard boxplot formats that default to displaying the median, placing the box one standard deviation above and below the median, and whiskers that extend to two standard deivations from the median."
   ]
  },
  {
   "cell_type": "code",
   "execution_count": null,
   "id": "de55808c-550d-4ecc-af74-cfa1b4db4e63",
   "metadata": {
    "scrolled": true
   },
   "outputs": [],
   "source": [
    "alpha_richness_jitter_plot<-ggplot(fish_counts_richness,aes(x = siteID, y = scientificName.length))+\n",
    "geom_jitter(width=0.2)+\n",
    "stat_summary(fun.data = \"mean_cl_boot\", colour = \"red\", size = 2)+\n",
    "xlab(\"Site ID\")+\n",
    "ylab(\"Species Richness (# of Taxa)\")\n",
    "\n",
    "\n",
    "alpha_richness_jitter_plot"
   ]
  },
  {
   "cell_type": "markdown",
   "id": "3dab65c0-6bd1-4fe4-ad02-47852c2fab97",
   "metadata": {},
   "source": [
    "It looks like King's Creek (KING) has greater overall richness than Mayfield Creek (MAYF) or Hop Brook (HOPB). There are many ways to test this and currently there is not agreement on the best and most accurate way to test these relationships. Here we will use a linear model to compare alpha richness at these three sites."
   ]
  },
  {
   "cell_type": "code",
   "execution_count": null,
   "id": "909a51ae-d2fd-4fb8-8d44-59063a8f2461",
   "metadata": {},
   "outputs": [],
   "source": [
    "## fit ordered logit model and store results 'm'\n",
    "alpha_richness_site_anova <- lm(scientificName.length~siteID, data=fish_counts_sum)\n",
    "summary(alpha_richness_site_anova)\n"
   ]
  },
  {
   "cell_type": "markdown",
   "id": "d8f83421-9093-4889-89b1-7895ae53c19d",
   "metadata": {},
   "source": [
    "The ANOVA table presented above shows that the differences between sites are highly significant (p<0.0001). We can't use the signifiance of the coefficients to actually say which sites are significantly greater or less than the other sites without correction. That is where the Tukey test comes in. When we have multiple comparisons within a given statistical test, this increases our risks of finding a significant result when one does not exist (this is known as Type II). Tukey tests and other mean comparison methods add a statistical punishment for each comparison made. This helps keep us honest, but if there are many comparisons being made the statistical power can decrease greatly, resulting in Type I error (wherein a significant difference is incorrectly identified as being non-significant). If you want to learn more about the Tukey Test and the mathematics behind it you can find this [information here](https://rpubs.com/aaronsc32/post-hoc-analysis-tukey).\n",
    "\n",
    "To run this test, we'll use the output of the ANOVA model above (_alpha_richness_site_anova_). Here we are setting alpha, our significance level, to 0.05."
   ]
  },
  {
   "cell_type": "code",
   "execution_count": null,
   "id": "76685258-94fa-4fb0-8457-57d72cadbb0f",
   "metadata": {},
   "outputs": [],
   "source": [
    "library(agricolae)\n",
    "\n",
    "alpha_richness_site_anova_tukey <- HSD.test(alpha_richness_site_anova, \"siteID\")\n",
    "\n",
    "alpha_richness_site_anova_tukey"
   ]
  },
  {
   "cell_type": "markdown",
   "id": "9648b2db-e4cc-4c29-8788-1eaf51de4daa",
   "metadata": {},
   "source": [
    "Now that we have run the Tukey test, we can see that there is a significan't difference between Kings Creek and the other two sites. Thus King's Creek is placed in group _a_, whereas the other two sites—Hop Brook and Mayfield Creek—are placed in group _b_.\n",
    "\n",
    "We can use the code below to add these grouping labels to the plot we made above."
   ]
  },
  {
   "cell_type": "code",
   "execution_count": null,
   "id": "9ae7c56d-f6b5-454f-b163-3f4a387c6551",
   "metadata": {},
   "outputs": [],
   "source": [
    "# Here we are extracting the group IDs from the output above.\n",
    "tukey_alpha_richness<-data.frame(alpha_richness_site_anova_tukey$groups)\n",
    "\n",
    "#We're going to place the site IDs, which are currently only presented as row names, into a column called _siteID_ for consistency and to make our coding work easier.\n",
    "tukey_alpha_richness$siteID<-row.names(tukey_alpha_richness)\n",
    "\n",
    "#We want to place the group labebels in the plot above the points plotted, this places the points 20% above the greatest value in the dataset.\n",
    "tukey_alpha_richness$position<-max(fish_counts_sum$scientificName.length) * 1.2\n",
    "\n",
    "\n",
    "alpha_richness_jitter_plot + \n",
    "geom_text(data=tukey_alpha_richness,aes(x=siteID,y=position, label=groups),size=14)"
   ]
  },
  {
   "cell_type": "markdown",
   "id": "2a75dd3a-8c97-4566-86a0-4fcb644a2eaf",
   "metadata": {},
   "source": [
    "### Diversity\n",
    "Diversity is a metric that tries to capture not only the number of taxa, but also takes into account whether the degree to which counts are evenly distributed across taxa. There are many metrics that seek to do this, but we are going to focus on what is likely the most important metric, called Shannon Diversity. The equation is as follows:\n",
    "\n",
    "H' = -∑(p<sub>i</sub> * ln(p<sub>i</sub>))\n",
    "\n",
    "* _S_ is the total number of species in the community (species richness).\n",
    "* _p<sub>i</sub>_ is the proportion of individuals belonging to the i-th species, calculated as the number of individuals of species i divided by the total number of individuals in the community.\n",
    "* ln denotes indicates use of natural logarithm.\n",
    "\n",
    "There are some packages that have functions for calculating Shannon Diversity, but for edification we're going to define the function ourselves."
   ]
  },
  {
   "cell_type": "code",
   "execution_count": null,
   "id": "4c113814-3689-435e-9b47-fd556efba302",
   "metadata": {},
   "outputs": [],
   "source": [
    "library(dplyr)"
   ]
  },
  {
   "cell_type": "code",
   "execution_count": null,
   "id": "36986e15-8e73-4a6d-9198-eea4a960750c",
   "metadata": {},
   "outputs": [],
   "source": [
    "shannon_diversity <- function(species_counts) {\n",
    "  # Convert counts to proportions\n",
    "  p <- species_counts / sum(species_counts)\n",
    "  \n",
    "  # Calculate Shannon diversity\n",
    "  H <- -sum(p * log(p))\n",
    "  \n",
    "  return(H)\n",
    "}\n",
    "\n",
    "#In order to use dplyr to summarize our results efficiently, we have to create a variable that incorporates both site and date.\n",
    "fish_counts_sum$site_date<-paste(fish_counts_sum$siteID,fish_counts_sum$year)\n",
    "\n",
    "#Now we can the pipe function (_%>%_) combined with _group_by_ and _summarize_ to calculate Shannon Diversity for each site on each sampling date.\n",
    "fish_counts_diversity <- fish_counts_sum %>%\n",
    "    group_by(site_date) %>%\n",
    "    dplyr::summarize(shannon_diversity = shannon_diversity(scientificName.length))\n",
    "\n",
    "\n",
    "fish_counts_diversity"
   ]
  },
  {
   "cell_type": "markdown",
   "id": "b59849c9-fffe-4e94-ab76-640f5d14f7b9",
   "metadata": {},
   "source": [
    "### Evenness\n",
    "Last, we are going to look at Pielou's evenness index. Remember that Shannon Diversity (and similar diversity metrics) incorporate both richness and evenness. Pielou's evenness represents the ratio between the observed value of Shannon's Index and the value of Shannon's Index if all categories (R) had the same relative abundance. Calculation of Pielou's evenness is essentially Shannon diversity divided by taxonomic richness."
   ]
  },
  {
   "cell_type": "code",
   "execution_count": null,
   "id": "b398da2d-5bad-474e-b34e-7d1e4a1bee1a",
   "metadata": {},
   "outputs": [],
   "source": [
    "fish_counts_year_richness <- summaryBy(scientificName ~ siteID + year, fish_counts_sum, FUN=c(length))\n",
    "\n",
    "\n",
    "fish_counts_diversity$richness <- fish_counts_year_richness$scientificName.length\n",
    "\n",
    "fish_counts_diversity$evenness <- fish_counts_diversity$shannon_diversity/fish_counts_diversity$richness\n",
    "\n",
    "fish_counts_diversity"
   ]
  },
  {
   "cell_type": "markdown",
   "id": "d1d7e1c9-7927-4ff8-9992-8ec5367dc923",
   "metadata": {},
   "source": [
    "## Beta-Diversity\n",
    "Beta-diversity is a more complicated concept than alpha diversity. Here, we are comparing the difference between two communities, but when there can be dozens of species at each site, how do we quantify the difference in community composition between two—or more—sites. To do this, we have to have a metric that tells us about the difference between two communities. This has been a subject of much work and there are many ways to determine this distance, we will focus on a few here. Three common measures of distance are Euclidean, Manhattan, and Bray-Curtis.\n",
    "\n",
    "\n",
    "<div>\n",
    "<img src=\"images/DistanceGraphic.png\" width=\"500\"/>\n",
    "</div>\n",
    "\n",
    "\n",
    "We'll start by looking at Euclidean distance, represented by the purple line in the figure above. This is likely familiar to most, as it is based on the Pythagorean Theorem. Let's take two points, A and B, that are located at (q<sub>1</sub>,q<sub>1</sub>) and (p<sub>2</sub>,p<sub>2</sub>). To find the Euclidean distance between the two points we can use the following equation:\n",
    "\n",
    "$$ d\\left( A,B\\right) = \\sqrt{(q_{1}-p_{1})^2 + (q_{2}-p_{2})^2}$$\n",
    "\n",
    "In statistics, Euclidean distances can take on more dimensions, as many dimension as there are variables. Thus, the Euclidean distance equation can be generalized to:\n",
    "\n",
    "$$  d\\left( A,B\\right)   = \\sqrt {\\sum _{i=1}^{n}  \\left( q_{i}-p_{i}\\right)^2 } $$\n",
    "\n",
    "Where _i_ is the number of variables in the dataset.\n",
    "\n",
    "By contrast, Manhattan distance is simply the distance between each variable between two points as depicted by the orange lines in the figure above. The equation for calculating this is as follows:\n",
    "\n",
    "$$  d\\left( A,B\\right)   = \\sum _{i=1}^{n}  \\left| q_{i}-p_{i}\\right|  $$\n",
    "\n",
    "Finally, let's introduce Bray-Curtis dissimilarity. This distance metric was created with the explicit goal of created a dissimilarity metric that was specific designed to estimate the dissimilarity between communities at two sites.\n",
    "\n",
    "$$ BC\\left(A,B\\right) = \\frac{\\sum _{i=1}^{n} min(N_{iA}, N_{iB})}{\\sum _{i=1}^{n} (N_{iA}, N_{iB})} $$\n",
    "\n",
    "Here  _N<sub>iA</sub>_ is the number of species i at site A, _N<sub>iB</sub>_ is the number of species i at site B, and _n_ is the number of species across the two sites.\n",
    "\n",
    "We're going to use _fish_counts_sum_, the list of species count by site and date, to generate a dissimilarity matrix from our species counts. To do this, we first need to convert this dataset to a dissimiliarty matrix. We can use the R package _vegan_ for this, but first we need to create a dissimilarity matrix. Let's start with a basic Euclidean distance matrix. To get started, we have to convert our data from a \"long\" format to a \"wide\" format where each column is a different species and each row is a different sampling date at a given site."
   ]
  },
  {
   "cell_type": "code",
   "execution_count": null,
   "id": "83fa7d17-5d94-4556-b043-83cde956f1d8",
   "metadata": {},
   "outputs": [],
   "source": [
    "library(dplyr)\n",
    "fish_counts_sum$site_date<-paste(fish_counts_sum$siteID,fish_counts_sum$month,fish_counts_sum$year,sep=\"-\")\n",
    "\n",
    "fish_counts_wide<-acast(fish_counts_sum, site_date ~ scientificName, value.var = \"bulkFishCount.sum\", fun=sum)\n",
    "\n",
    "fish_counts_wide"
   ]
  },
  {
   "cell_type": "markdown",
   "id": "1d02fb2f-caa6-48f1-8ea8-9d17a8d5e39d",
   "metadata": {},
   "source": [
    "Now we're going to use the package _vegan_ to get Euclidean and Bray-Curtis distance matrices (we will use each separately)."
   ]
  },
  {
   "cell_type": "code",
   "execution_count": null,
   "id": "01de865c-bde4-48f1-92c3-e47c3ff15cb3",
   "metadata": {},
   "outputs": [],
   "source": [
    "library(vegan)\n",
    "library(ecodist)\n",
    "\n",
    "fish_counts_dissimiliarity_euc<-vegdist(fish_counts_wide, method = \"euclidean\")\n",
    "fish_counts_dissimiliarity_euc\n",
    "\n",
    "fish_counts_dissimiliarity_bc<-vegdist(fish_counts_wide, method = \"bray\")\n",
    "fish_counts_dissimiliarity_bc"
   ]
  },
  {
   "cell_type": "markdown",
   "id": "8d48ae9f-a29a-4f76-b0f0-9fe94d4fa652",
   "metadata": {},
   "source": [
    "#### Ordination\n",
    "Now that we have these distance matrices, we need a way to actually display the information that we have calculated. To do this, we need to use a multivariate ordination approach. These ordination approaches take datasets with many variables (also known as high dimensional data) and use a statistical approach to reduce the number of variables/dimensions. We will explore three of these approaches Principal Coordinate Analysis (PCoA), Non-Metric Multidimensional Scaling (NMDS), and Correspondence Analysis.\n",
    "\n",
    "**PCoA** uses a method similar to Principal Component Analysis (PCA), except it is designed to work with distance matrices, rather than matrices of continuous numerical data.\n",
    "\n",
    "**NMDS** uses a similar approach, but replaces continuous scaling with non-parametric ranking. This is beneficial because it can work with datasets that do not meet assumptions of normality and homogeneity of variance, but makes the exact placement of points on the ordination more difficult to interpret.\n",
    "\n",
    "**Correspondance Analysis** is a special case similar to to PCoA wherein chi-square distance is used to differentiate between rows.\n",
    "\n",
    "Thus, we will only use the distance matrices we calculated for analysis using PCoA. In other cases, we will input species counts directly into the scaling function."
   ]
  },
  {
   "cell_type": "code",
   "execution_count": null,
   "id": "0958e55e-0004-4847-bcde-15f36f7d4613",
   "metadata": {},
   "outputs": [],
   "source": [
    "pcoa_euclidean <- pco(fish_counts_dissimiliarity_euc, negvals = \"zero\", dround = 0) # if negvals = 0 sets all negative eigenvalues to zero; if = \"rm\" corrects for negative eigenvalues using method 1 of Legendre and Anderson 1999.\n",
    "\n",
    "#the output of the pco command displays the vectors produced by the eigenvalue decomposition\n",
    "pcoa_euclidean\n",
    "\n",
    "#use the str command to look at the contents of the file for plotting.\n",
    "str(pcoa_euclidean)\n",
    "\n",
    "#from this we can see that we need to extract the second list element to be used for plotting\n",
    "pcoa_euclidean_vectors<-pcoa_euclidean[[2]]"
   ]
  },
  {
   "cell_type": "markdown",
   "id": "f3be91bc-6cd9-4fe2-b136-9994a5acf03a",
   "metadata": {},
   "source": [
    "as described above, one of the primary goals of ordination is to reduce the dimensionality of data so that difference across many variables can be viewed in 3 or fewer dimensions.\n",
    "#thus, our next step is to plot the results of this analysis."
   ]
  },
  {
   "cell_type": "code",
   "execution_count": null,
   "id": "27fecf42-feb4-45e5-a2f8-727afff49315",
   "metadata": {},
   "outputs": [],
   "source": [
    "euclidean_pcoa_plot<-ggplot(pcoa_euclidean_vectors,aes(x=X1,y=X2))+\n",
    "geom_point(size=4)+\n",
    "xlab(\"PCoA Dimension 1\")+\n",
    "xlab(\"PCoA Dimension 2\")\n",
    "\n",
    "euclidean_pcoa_plot\n",
    "\n",
    "#Now we have some distances, but there is one problem: we don't know which site is which. Fortunately that information is contained within the rownames of the data frame weare using.\n",
    "pcoa_euclidean_vectors$site_date<-row.names(pcoa_euclidean_vectors)\n",
    "\n",
    "#Now we can separate the site and date information into separate columns using the _str_split_fixed_ function in _stingr_. There are many ways to do this in R, but this function is designed to work with character strings in dataframes, which is out use case here.\n",
    "sample_information<-as.data.frame(str_split_fixed(pcoa_euclidean_vectors$site_date, \"-\", n = Inf))\n",
    "pcoa_euclidean_vectors$site<-sample_information$V1\n",
    "pcoa_euclidean_vectors$date<-paste(sample_information$V2,sample_information$V3,sep=\"-\")\n",
    "\n",
    "#now we can add site color coding to this dataset.\n",
    "euclidean_pcoa_plot + geom_point(aes(color=site),size=4)"
   ]
  },
  {
   "cell_type": "markdown",
   "id": "81ee423b-cd34-4c6b-9229-f2302f6a2e2c",
   "metadata": {},
   "source": [
    "Now we can see the differences between the sites, but because these sites all have relatively low diversity, the results aren't all that exciting. Don't worry, we're going to look at macroinvertebrate data from these sites shortly and we will see a lot higher diversity in those datasets."
   ]
  },
  {
   "cell_type": "markdown",
   "id": "baf9c47f-36a7-40d5-83b3-b58579781429",
   "metadata": {},
   "source": [
    "Now it's your turn to generate a plot like the one above using Bray-Curtis distances instead of Euclidean:"
   ]
  },
  {
   "cell_type": "code",
   "execution_count": null,
   "id": "db339e99-ee87-440a-aeed-8ec9b45c0912",
   "metadata": {},
   "outputs": [],
   "source": []
  },
  {
   "cell_type": "markdown",
   "id": "fc88cb12-d96e-4d58-86bb-49ffcc9aaa71",
   "metadata": {},
   "source": [
    "#### NMDS\n",
    "First, we're going to try our hands at non-metric multidimensional scaling (NMDS). NMDS typically uses Bray-Curtis distances, but for these distances are calculated within these functions so we only have to provide the matrix of species counts. You can use the function below to specify the distance metric used for analysis.\n",
    "\n",
    "Using NMDS, we can specify the number of dimensions we want using _k_. NMDS uses an iterative fitting solution that can vary depending on how starting conditions are selected. Thus, multiple NMDS analysis are usually run to bootstrap the results and confirm that a \"stable solution\" has been identified, rather than a local minimum solution. Here we are setting the number of repeates to 100 using _trymax_."
   ]
  },
  {
   "cell_type": "code",
   "execution_count": null,
   "id": "bb607d81-2b0e-448e-b719-246986208412",
   "metadata": {},
   "outputs": [],
   "source": [
    "fish_counts_nmds=metaMDS(fish_counts_wide,k=2,trymax=100)\n",
    "fish_counts_nmds"
   ]
  },
  {
   "cell_type": "markdown",
   "id": "8c25c7a1-bd01-4d9b-972f-f558e5af11d4",
   "metadata": {},
   "source": [
    "We can assess the fit of the plot using the _stressplot_ funciton to display a Shephard plot, which shows the true dissimilarity of each pair of points, compared to the dissimilarity of the resulting NMDS ordination for each pair of samples/sites."
   ]
  },
  {
   "cell_type": "code",
   "execution_count": null,
   "id": "4ebff687-569b-44a2-8f60-bc1d90089a32",
   "metadata": {},
   "outputs": [],
   "source": [
    "stressplot(fish_counts_nmds)"
   ]
  },
  {
   "cell_type": "markdown",
   "id": "8dedd116-212f-4f1e-bd09-fe1ae03a1ef6",
   "metadata": {},
   "source": [
    "Finally, we're going to plot the the ordination. Using the _str_ function we can see that the ordination information is stored under the list element called _points_."
   ]
  },
  {
   "cell_type": "code",
   "execution_count": null,
   "id": "489c441c-36f4-474b-a57f-591f39f4f06e",
   "metadata": {},
   "outputs": [],
   "source": [
    "str(fish_counts_nmds)\n",
    "\n",
    "fish_counts_nmds_points<-as.data.frame(fish_counts_nmds$points)\n",
    "\n",
    "#Here we see that we have a set of coordinates for the two MDS axes generated by the NMDS analysis.\n",
    "fish_counts_nmds_points"
   ]
  },
  {
   "cell_type": "markdown",
   "id": "33437060-9913-4627-ac9d-cb4d8c164f18",
   "metadata": {},
   "source": [
    "Now it's easy to plot our results using ggplot. Again we will extract sample from the rownames of the dataframe."
   ]
  },
  {
   "cell_type": "code",
   "execution_count": null,
   "id": "1efbe839-ee25-48c5-ab30-ce51c92b4964",
   "metadata": {},
   "outputs": [],
   "source": [
    "fish_counts_nmds_points$site_date<-row.names(fish_counts_nmds_points)\n",
    "sample_information<-as.data.frame(str_split_fixed(fish_counts_nmds_points$site_date, \"-\", n = Inf))\n",
    "fish_counts_nmds_points$site<-sample_information$V1\n",
    "fish_counts_nmds_points$date<-paste(sample_information$V3,sample_information$V2,sep=\"-\")\n",
    "\n",
    "ggplot(fish_counts_nmds_points,aes(x=MDS1,y=MDS2,color=site))+\n",
    "geom_point(size=4)"
   ]
  },
  {
   "cell_type": "markdown",
   "id": "2aa62366-95a6-458d-bbdc-fe66689e40eb",
   "metadata": {},
   "source": [
    "## Gamma Diversity\n",
    "Before we move onto a new type of data, we will look briefly at gamma diversity. Gamma diversity is an important concept and there are multiple ways to define it, but at its simplest, it's assessing the alpha diversity metrics we discuss above on an entire dataset. We'll go back to our old dataset _fish_counts_sum_. "
   ]
  },
  {
   "cell_type": "code",
   "execution_count": null,
   "id": "ca4ff732-10c4-429f-833a-d76a4b1526ff",
   "metadata": {},
   "outputs": [],
   "source": [
    "#For richness, we need only to determine the total number of taxa.\n",
    "#paste(\"gamma diversity (richness):\",length(unique(fish_counts_sum$scientificName))\n",
    "paste(\"gamma diversity (richness):\",length(unique(fish_counts_sum$scientificName)))"
   ]
  },
  {
   "cell_type": "markdown",
   "id": "8b4ff4e4-0b61-40ff-85b8-ac38ddb69812",
   "metadata": {},
   "source": [
    "Now try using what you have learned about Shannon Diversity and Evenness to calculate these statistics for gamma diversity:"
   ]
  },
  {
   "cell_type": "code",
   "execution_count": null,
   "id": "6d4e45bf-6b14-40d0-92b3-5a193b52e36d",
   "metadata": {},
   "outputs": [],
   "source": []
  },
  {
   "cell_type": "markdown",
   "id": "ce0d8659-dae7-496e-9676-d2da0d643dc6",
   "metadata": {},
   "source": [
    "# Macroinvertebrate Diversity\n",
    "Now we're going to look at the same set of statistics and metrics using a different stream community: benthic macroinvertebrates. Like fish community composition, macroinvertebrate community composition is regularly collected by NEON. The NEON data product ID for macroinverbrates is [DP1.20120.001](https://data.neonscience.org/data-products/DP1.20120.001). We can download these data using the same approach that we used before, but this time we have changed the dpID to match the macroinvertebrate datatset."
   ]
  },
  {
   "cell_type": "code",
   "execution_count": null,
   "id": "386fc8cd-a76e-4c4a-9fac-1d99505574d0",
   "metadata": {},
   "outputs": [],
   "source": [
    "macroinvertebrate_survey <- loadByProduct(dpID=\"DP1.20120.001\", \n",
    "                            site=c(\"KING\",\"HOPB\",\"MAYF\"),\n",
    "                            include.provisional=TRUE,\n",
    "                            check.size=FALSE)"
   ]
  },
  {
   "cell_type": "markdown",
   "id": "33a86542-1398-4c51-b542-1a5554d43dd5",
   "metadata": {},
   "source": [
    "As before we are going to have to do some work to format this dataset. Using the _str_ function we find find a list element called _inv_taxonomyProcessed_. This contains our community composition data."
   ]
  },
  {
   "cell_type": "code",
   "execution_count": null,
   "id": "8c6b96f2-28ea-48a0-b72d-560147cecce7",
   "metadata": {},
   "outputs": [],
   "source": [
    "str(macroinvertebrate_survey)\n",
    "\n",
    "macroinvert_taxonomy<-as.data.frame(macroinvertebrate_survey[[\"inv_taxonomyProcessed\"]])\n",
    "\n"
   ]
  },
  {
   "cell_type": "markdown",
   "id": "d8855a30-d275-4739-8acb-84cd91645ddf",
   "metadata": {},
   "source": [
    "## Organizing Macroinvertebrate Data\n",
    "Macroinvertebrate diversity data is often analyzed at different taxonomic levels depending on the depth to which individuals were identified, as well as the application of the data. For example, for some metrics only order level taxonomy needs to be identified. Here we will start with a genus level analysis and then you will do the same analysis using order.\n",
    "\n",
    "We will start by extracting the counts of each genus across each site and sampling date as we have done for fish diversity data."
   ]
  },
  {
   "cell_type": "code",
   "execution_count": null,
   "id": "b174a0cc-f9e0-4dbd-a178-fe3d05007aad",
   "metadata": {},
   "outputs": [],
   "source": [
    "macroinvert_taxonomy$date<-as.Date(macroinvert_taxonomy$collectDate)\n",
    "macroinvertebrate_genus_count<-summaryBy(individualCount~siteID+date+genus,macroinvert_taxonomy,FUN=c(sum))\n",
    "\n",
    "macroinvertebrate_genus_count"
   ]
  },
  {
   "cell_type": "markdown",
   "id": "e7c426e4-149b-4ff8-9313-984ff710bbd3",
   "metadata": {},
   "source": [
    "We can already see that we have a lot more diversity than our fish dataset. You will notice that some individuals were not identified to genus level (represented by NA in the genus column). We will remove these data and then calculate our diversity indices as befre."
   ]
  },
  {
   "cell_type": "code",
   "execution_count": null,
   "id": "dc208580-8e79-4109-898d-a25b6f8bf1fe",
   "metadata": {},
   "outputs": [],
   "source": [
    "#here we are counting the number of genuses at each site on each sampling day\n",
    "macroinvertebrate_genus_richness<-summaryBy(individualCount.sum~siteID + date,macroinvertebrate_genus_count,FUN=c(length))\n",
    "\n",
    "macroinvertebrate_genus_richness\n",
    "\n",
    "#plotting this as before yields the following.\n",
    "macroinvert_richness_jitter_plot<-ggplot(macroinvertebrate_genus_richness,aes(x = siteID, y = individualCount.sum.length\n",
    "))+\n",
    "geom_jitter(width=0.2)+\n",
    "stat_summary(fun.data = \"mean_cl_boot\", colour = \"red\", size = 2)+\n",
    "xlab(\"Site ID\")+\n",
    "ylab(\"Genus Richness (# of Taxa)\")\n",
    "\n",
    "\n",
    "alpha_richness_jitter_plot"
   ]
  },
  {
   "cell_type": "markdown",
   "id": "bf6dbe2a-02db-4604-beb2-2669ebba01a9",
   "metadata": {},
   "source": [
    "The plot is similar to species richness for fish, but note that there is more difference between Hop Brook and Mayfield Creek for macroinvertebrates.\n",
    "\n",
    "Now it's your turn: calculate an ANOVA and Tukey multiple mean comparison for the macroinvertebrate data as we've done above for the fish community data."
   ]
  },
  {
   "cell_type": "code",
   "execution_count": null,
   "id": "4969e96b-f612-4a98-8d65-262f0fe1c06e",
   "metadata": {},
   "outputs": [],
   "source": []
  },
  {
   "cell_type": "markdown",
   "id": "b232947d-4b49-4ac6-a49f-0eeecb7ed2ae",
   "metadata": {},
   "source": [
    "## Macroinvertebrate Shannon Diversity and Evenness\n",
    "We have now returned to these alpha diversity metrics. Use what you've learned above to calculate the Shanon Diversity and Evenness metrics for macroinvertebrate genus level counts using what you've learned above."
   ]
  },
  {
   "cell_type": "code",
   "execution_count": null,
   "id": "59944054-cd9b-4042-a07e-cc3764a8ca14",
   "metadata": {},
   "outputs": [],
   "source": []
  },
  {
   "cell_type": "markdown",
   "id": "cb7a5676-80f2-4d33-bdf8-44c40d56f38d",
   "metadata": {},
   "source": [
    "### %EPT Taxa\n",
    "For macroinvertebrates, there are a few specialized metrics that have been developed based on knowledge about the biology and ecology of this group of organisms. Specifically, research has identified a correlation between water quality and ecosystem health and the percentage of taxa in an aquatic macroinvertebrate community that are members of the taxonomic orders Ephemeroptera (Stoneflies), Plecoptera (Mayflies), and Trichoptera (Caddisflies. As the percentage of macroinvertebrates from these three orders increases, water quality is generally found to be better at a site. We'll take a moment to analyze the percentage of taxa that come from these three groups. "
   ]
  },
  {
   "cell_type": "code",
   "execution_count": null,
   "id": "8a9377ad-14a5-4bdb-b985-26c3ebbdc9f9",
   "metadata": {},
   "outputs": [],
   "source": [
    "#macroinvertebrate_order_count<-summaryBy(individualCount~siteID+date+order,macroinvert_taxonomy,FUN=c(sum))\n",
    "#macroinvertebrate_order_count\n",
    "\n",
    "macroinvertebrate_order_count_wide<-as.data.frame(acast(macroinvertebrate_order_count,siteID+date~order,value.var=c(\"individualCount.sum\"),FUN=c(sum)))\n",
    "\n",
    "macroinvertebrate_order_count_wide\n",
    "\n",
    "#we want to set all NAs to zero\n",
    "macroinvertebrate_order_count_wide[is.na(macroinvertebrate_order_count_wide)] <- 0\n",
    "\n",
    "macroinvertebrate_order_count_wide"
   ]
  },
  {
   "cell_type": "markdown",
   "id": "60df0b95-30e6-4c6d-a9fd-11fa3af9cdab",
   "metadata": {},
   "source": [
    "Now to calculate the percentage of taxa that come from the EPT orders, we can use simple row-wise math."
   ]
  },
  {
   "cell_type": "code",
   "execution_count": null,
   "id": "3a049194-bcb0-4903-81d0-3f08007c355a",
   "metadata": {},
   "outputs": [],
   "source": [
    "names(macroinvertebrate_order_count_wide)\n",
    "macroinvertebrate_order_count_wide$EPT_count<-macroinvertebrate_order_count_wide$Ephemeroptera + macroinvertebrate_order_count_wide$Plecoptera + macroinvertebrate_order_count_wide$Trichoptera\n",
    "macroinvertebrate_order_count_wide$total_ind_count<-rowSums(macroinvertebrate_order_count_wide)\n",
    "macroinvertebrate_order_count_wide$Percent_EPT<-(macroinvertebrate_order_count_wide$EPT_count/macroinvertebrate_order_count_wide$total_ind_count)*100\n",
    "\n",
    "macroinvertebrate_order_count_wide$site_date<-row.names(macroinvertebrate_order_count_wide)\n",
    "macroinvertebrate_order_count_wide$site<-str_split_fixed(macroinvertebrate_order_count_wide$site_date,\"_\",n=2)[,1]\n",
    "\n",
    "\n",
    "ggplot(macroinvertebrate_order_count_wide,aes(site,Percent_EPT))+\n",
    "geom_jitter(width=0.2)+\n",
    "stat_summary(fun.data = \"mean_cl_boot\", colour = \"red\", size = 2)+\n",
    "xlab(\"Site ID\")+\n",
    "ylab(\"% EPT Taxa\")"
   ]
  },
  {
   "cell_type": "markdown",
   "id": "db18e2b6-0a07-46ca-8d7c-1896a0f9ad01",
   "metadata": {},
   "source": [
    "Now, the story is a bit different. Use the knowledge you've gained to determine whether Hop Brook has a significantly higher percentage of EPT taxa than the other two sites sampled.\n",
    "\n",
    "In addition to using %EPT taxa, there are other specialized metrics for macroinvertebrate diversity. For example, identifying each taxon by its functional feeding group (e.g., Shredders, Scrapers, Collector/Gatherers, and Predators), can provide useful information about food webs. Functional feeding groups are not identified in this dataset and assigning them to each taxon in this dataset is beyond the time and scope of this assignment, but interested readers can learn more about the application of functional feeding groups from this open access review article, written by Kenneth W. Cummins, a top expert on this topic: [The Use of Macroinvertebrate Functional Feeding Group Analysis to Evaluate, Monitor and Restore Stream Ecosystem Condition](https://www.gavinpublishers.com/article/view/the-use-of-macroinvertebrate-functional-feeding-group-analysis-to-evaluate-monitor-and-restore-stream-ecosystem-condition)."
   ]
  },
  {
   "cell_type": "markdown",
   "id": "720d14f2-4657-4d3b-8c0a-7bf4abfd26df",
   "metadata": {},
   "source": [
    "## Macroinvertebrate Beta Diversity\n",
    "We're going to use Bray-Curtis distances to conduct a Principal Coordinate Analysis (PCoA) ordination of macoinvertebrate diversity like we did before. This time, the results should be a little more interesting!\n"
   ]
  },
  {
   "cell_type": "code",
   "execution_count": null,
   "id": "052652ee-e364-4a99-8fd8-7ad9908009b5",
   "metadata": {},
   "outputs": [],
   "source": [
    "macroinvertebrate_genus_count\n",
    "\n",
    "macroinvertebrate_genus_count_wide<-as.data.frame(acast(macroinvertebrate_genus_count,siteID+date~genus,value.var=c(\"individualCount.sum\"),FUN=c(sum)))\n",
    "\n",
    "macroinvertebrate_genus_count_wide[is.na(macroinvertebrate_genus_count_wide)]<-0\n",
    "macroinvertebrate_genus_count_wide"
   ]
  },
  {
   "cell_type": "markdown",
   "id": "ec421768-fafb-4e5d-91a6-0244e0cdb279",
   "metadata": {},
   "source": [
    "Now we're going to convert the taxa counts to a Bray-Curtis distance matrix and then will conduct the PCoA."
   ]
  },
  {
   "cell_type": "code",
   "execution_count": null,
   "id": "ae40fd21-5e1c-4f54-bd3b-0fceb2f3052e",
   "metadata": {},
   "outputs": [],
   "source": [
    "macroinvert_genus_dissimiliarity_bc<-vegdist(macroinvertebrate_genus_count_wide, method = \"bray\")\n",
    "pcoa_macroinvert_bc <- pco(macroinvert_genus_dissimiliarity_bc, negvals = \"zero\", dround = 0) # if negvals = 0 sets all negative eigenvalues to zero; if = \"rm\" corrects for negative eigenvalues using method 1 of Legendre and Anderson 1999.\n",
    "pcoa_macroinvert_bc_vectors<-pcoa_macroinvert_bc[[\"vectors\"]]\n"
   ]
  },
  {
   "cell_type": "markdown",
   "id": "6f6a5579-81cc-49eb-8749-714d4aecd900",
   "metadata": {},
   "source": [
    "No we're going to plot the results of the PCoA as we have done above for the fish beta-diversity."
   ]
  },
  {
   "cell_type": "code",
   "execution_count": null,
   "id": "3d9548f4-dadb-4a37-b519-febf6db0c229",
   "metadata": {},
   "outputs": [],
   "source": [
    "pcoa_macroinvert_bc_vectors$site_date<-row.names(pcoa_macroinvert_bc_vectors)\n",
    "\n",
    "site_date_info<-as.data.frame(str_split_fixed(pcoa_macroinvert_bc_vectors$site_date,\"_\",n=2))\n",
    "pcoa_macroinvert_bc_vectors$site<-site_date_info[,1]\n",
    "pcoa_macroinvert_bc_vectors$date<-site_date_info[,2]\n",
    "pcoa_macroinvert_bc_vectors\n"
   ]
  },
  {
   "cell_type": "markdown",
   "id": "be7b5231-2857-4bc2-921d-65e2739ab300",
   "metadata": {},
   "source": [
    "Now we're finally ready to plot our results. We see that community composition for individual sampling dates (each point) tends to cluster by sampling site, which is expected if there are distinct macroinvertebrate communities in each of the three streams we're analyzing.\n",
    "\n",
    "Now we want to see if these groups are statistically distinct. We'll start with a visual approach, plotting the 95% confidence ellipses for these three sites. 95% confidence ellipses are similar to 95% confidence intervals, but includes dispersivity of both the x and y dimensions for the data."
   ]
  },
  {
   "cell_type": "code",
   "execution_count": null,
   "id": "479e2f13-c89b-4f2f-94b7-ef5f3b808aa4",
   "metadata": {},
   "outputs": [],
   "source": [
    "pcoa_invert_bc_plot<-ggplot(pcoa_macroinvert_bc_vectors,aes(x=X1,y=X2,color=site))+\n",
    "geom_point(size=4)\n",
    "\n",
    "pcoa_invert_bc_plot\n",
    "\n",
    "pcoa_invert_bc_plot + stat_ellipse(size=2)\n",
    "\n"
   ]
  },
  {
   "cell_type": "markdown",
   "id": "f4c78fb4-8e2b-463f-90c7-87c63f0cd890",
   "metadata": {},
   "source": [
    "### Beta-diversity statistical tests\n",
    "We are going to introduce a pair of statistical approaches for testing whether these groups are distinct. Those approaches are:\n",
    "* Analysis of similarity (ANOSIM): Uses the similarity between pairs of points to determine the strength of grouping.\n",
    "* Adonis: A non-parametric multivariate analysis of variance (MANOVA) permutation test. Unlike ANOSIM, Adonis uses _dissimilarity_ to compare groupings.\n",
    "\n",
    "Both methods use permutations to compute signficance, the number of permutations can be adjusted if computing time becomes an issue.\n",
    "\n",
    "#### Anosim\n",
    "In the case of ANOSIM, we get a statistic, _R_, that indicates the degree of similarity for a given grouping. The significance of that grouping is also assessed. To give context to the R statistic for a given grouping, researchers will calculate the ANOSIM _R_ for different groupings and compare the degree of similarity for these different groupings.\n",
    "\n",
    "Here we will calculate ANOSIM group by Site only, grouped by Date only, and grouped by Site and Date combined. The result for site is highly significant and positive whereas the ANOSIM _R_ for grouping by date is negative (and the test is non-significant), indicating that this grouping is much weaker."
   ]
  },
  {
   "cell_type": "code",
   "execution_count": null,
   "id": "ad8b49c5-0d45-4f51-a396-05a20c86b863",
   "metadata": {},
   "outputs": [],
   "source": [
    "anosim(macroinvertebrate_genus_count_wide, pcoa_macroinvert_bc_vectors$site, distance = \"bray\", permutations = 9999)\n",
    "\n",
    "anosim(macroinvertebrate_genus_count_wide, pcoa_macroinvert_bc_vectors$date, distance = \"bray\", permutations = 9999)\n",
    "\n",
    "anosim(macroinvertebrate_genus_count_wide, pcoa_macroinvert_bc_vectors$site_date, distance = \"bray\", permutations = 9999)"
   ]
  },
  {
   "cell_type": "markdown",
   "id": "d3696df5-d7a5-49e6-8d94-33330364076f",
   "metadata": {},
   "source": [
    "#### ADONIS\n",
    "An ADONIS test is specified and interpreted very similarly to a non-parametric ANOVA test such as Kruskal–Wallis, but is not restricted to one explanatory variable as is the case for Kruskal-Wallis. The adonis function in the R package _Vegan_ has been updated recently so the function _adonis2_ is recommended as the most up-to-date version of this test.\n",
    "\n"
   ]
  },
  {
   "cell_type": "code",
   "execution_count": null,
   "id": "3e42e39a-33f7-4696-a2be-30473fbf8168",
   "metadata": {},
   "outputs": [],
   "source": [
    "\n",
    "adonis(macroinvertebrate_genus_count_wide~site*date, data=pcoa_macroinvert_bc_vectors)\n",
    "\n"
   ]
  },
  {
   "cell_type": "markdown",
   "id": "81953970-e8e4-4abd-ae20-0e84c346242b",
   "metadata": {},
   "source": [
    "### Beta-Diversity Continued!\n",
    "Now use the same dataset and select another multivarte ordination test (NMDS or Correspondence Analysis), generate a plot with 95% confidence ellipses, and then use ANOSIM or Adonis to test the signifiance of groupings!"
   ]
  },
  {
   "cell_type": "code",
   "execution_count": null,
   "id": "631da6b2-5e5b-4c53-8d1a-096710bce0af",
   "metadata": {},
   "outputs": [],
   "source": []
  }
 ],
 "metadata": {
  "kernelspec": {
   "display_name": "R",
   "language": "R",
   "name": "ir"
  },
  "language_info": {
   "codemirror_mode": "r",
   "file_extension": ".r",
   "mimetype": "text/x-r-source",
   "name": "R",
   "pygments_lexer": "r",
   "version": "4.3.3"
  }
 },
 "nbformat": 4,
 "nbformat_minor": 5
}
