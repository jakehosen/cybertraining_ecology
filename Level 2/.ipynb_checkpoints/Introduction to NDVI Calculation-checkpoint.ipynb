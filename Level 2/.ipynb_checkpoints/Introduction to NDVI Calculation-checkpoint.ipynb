{
 "cells": [
  {
   "cell_type": "markdown",
   "id": "54f91a6e-9b85-4bbd-8149-4d258e3fcc98",
   "metadata": {},
   "source": [
    "# Setup\n",
    "First we are going to do some housekeeping that includes loading some libraries and settings to get started."
   ]
  },
  {
   "cell_type": "code",
   "execution_count": null,
   "id": "17897fd6-c030-40a9-9c4c-a724882526af",
   "metadata": {},
   "outputs": [],
   "source": [
    "# load spatial packages\n",
    "library(raster)\n",
    "library(rgdal)\n",
    "library(rgeos)\n",
    "library(RColorBrewer)\n",
    "\n",
    "# turn off factors\n",
    "options(stringsAsFactors = FALSE)\n"
   ]
  },
  {
   "cell_type": "markdown",
   "id": "1e92b59d-cfab-4bcb-aced-fcb0f2a4b29b",
   "metadata": {},
   "source": [
    "## NDVI and related metrics\n",
    "The Normalized Difference Vegetation Index (NDVI) is a quantitative index of greenness ranging from 0-1, where 0 represents minimal or no greenness and 1 represents maximum greenness.\n",
    "\n",
    "NDVI is often used for a quantitate proxy measure of vegetation health, cover and phenology (life cycle stage) over large areas.\n",
    "\n",
    "NDVI is calculated from the visible and near-infrared light reflected by vegetation. Healthy vegetation (left) absorbs most of the visible light that hits it, and reflects a large portion of near-infrared light. Unhealthy or sparse vegetation (right) reflects more visible light and less near-infrared light.\n",
    "\n",
    "<div>\n",
    "<img src=\"images/ndvi.jpg\" width=\"300\"/>\n",
    "</div>"
   ]
  },
  {
   "cell_type": "code",
   "execution_count": null,
   "id": "8ba9e0c4-5273-489b-82a0-db6316dc2328",
   "metadata": {},
   "outputs": [],
   "source": [
    "# import the naip pre-fire data\n",
    "naip_multispectral_st <- stack(\"data/week-07/naip/m_3910505_nw_13_1_20130926/crop/m_3910505_nw_13_1_20130926_crop.tif\")\n",
    "\n",
    "# convert data into rasterbrick for faster processing\n",
    "naip_multispectral_br <- brick(naip_multispectral_st)"
   ]
  },
  {
   "cell_type": "markdown",
   "id": "12b20d7f-fd4e-42cb-9a25-fffd599a7fb6",
   "metadata": {},
   "source": [
    "## GIS Metadata\n",
    "GIS metadata is essential for properly importing and processing spatial data. Below is the relevant metadata for the multispectral GIS tile we just imported.\n",
    "\n",
    "class      : RasterLayer<br>\n",
    "dimensions : 2312, 4377, 10119624  (nrow, ncol, ncell)<br>\n",
    "resolution : 1, 1  (x, y)<br>\n",
    "extent     : 457163, 461540, 4424640, 4426952  (xmin, xmax, ymin, ymax)<br>\n",
    "crs        : +proj=utm +zone=13 +ellps=GRS80 +towgs84=0,0,0,0,0,0,0 +units=m +no_defs <br>\n",
    "source     : memory<br>\n",
    "names      : m_3910505_nw_13_1_20130926_crop.4 <br>\n",
    "values     : 0, 255  (min, max)<br>"
   ]
  },
  {
   "cell_type": "code",
   "execution_count": null,
   "id": "522c02c8-09b7-4062-8066-126e9292ef39",
   "metadata": {},
   "outputs": [],
   "source": [
    "# calculate ndvi with naip\n",
    "naip_multispectral_br[[4]]\n",
    "\n",
    "# calculate NDVI using the red (band 1) and nir (band 4) bands\n",
    "naip_ndvi <- (naip_multispectral_br[[4]] - naip_multispectral_br[[1]]) / (naip_multispectral_br[[4]] + naip_multispectral_br[[1]])\n",
    "\n",
    "# plot the data\n",
    "plot(naip_ndvi,\n",
    "     main = \"NDVI of Cold Springs Fire Site - Nederland, CO \\n Pre-Fire\",\n",
    "     axes = FALSE, box = FALSE)\n"
   ]
  },
  {
   "cell_type": "markdown",
   "id": "01576774-6275-4599-abe8-e5fa0d85e563",
   "metadata": {},
   "source": [
    "### To determine how vegetation productivity shifts over time, we can use distributions of NDVI values for all the pixels in the GIS layer we're using for our calculations."
   ]
  },
  {
   "cell_type": "code",
   "execution_count": null,
   "id": "37505dae-3d39-4111-8efe-ba886a464aef",
   "metadata": {},
   "outputs": [],
   "source": [
    "# view distribution of NDVI values\n",
    "hist(naip_ndvi,\n",
    "  main = \"NDVI: Distribution of pixels\\n NAIP 2013 Cold Springs fire site\",\n",
    "  col = \"springgreen\",\n",
    "  xlab = \"NDVI Index Value\")"
   ]
  },
  {
   "cell_type": "code",
   "execution_count": null,
   "id": "e7ec5014-67dc-4ba6-9cca-acbedb0af879",
   "metadata": {},
   "outputs": [],
   "source": [
    "# Check if the directory exists using the function you created last week\n",
    "check_create_dir(\"data/week-07/outputs/\")\n",
    "\n",
    "# Export your raster\n",
    "writeRaster(x = naip_ndvi,\n",
    "              filename=\"data/week-07/outputs/naip_ndvi_2013_prefire.tif\",\n",
    "              format = \"GTiff\", # save as a tif\n",
    "              datatype='INT2S', # save as a INTEGER rather than a float\n",
    "              overwrite = TRUE)  # OPTIONAL - be careful. This will OVERWRITE previous files."
   ]
  },
  {
   "cell_type": "code",
   "execution_count": null,
   "id": "0d645cb1-8d2d-4c54-8cf8-8d0281e1e56c",
   "metadata": {},
   "outputs": [],
   "source": [
    "# create a function that subtracts two rasters\n",
    "\n",
    "diff_rasters <- function(b1, b2){\n",
    "  # this function calculates the difference between two rasters of the same CRS and extent\n",
    "  # input: 2 raster layers of the same extent, crs that can be subtracted\n",
    "  # output: a single different raster of the same extent, crs of the input rasters\n",
    "  diff <- b2 - b1\n",
    "  return(diff)\n",
    "}"
   ]
  },
  {
   "cell_type": "code",
   "execution_count": null,
   "id": "1d27ca19-4ec4-49b1-aaf9-c7bd8a31fbfb",
   "metadata": {},
   "outputs": [],
   "source": [
    "band_diff <- overlay(naip_multispectral_br[[1]], naip_multispectral_br[[4]],\n",
    "        fun = diff_rasters)\n",
    "\n",
    "plot(band_diff,\n",
    "     main = \"Example difference calculation on imagery - \\n this is not a useful analysis, just an example!\",\n",
    "     axes = FALSE, box = FALSE, legend = FALSE)\n"
   ]
  }
 ],
 "metadata": {
  "kernelspec": {
   "display_name": "",
   "name": ""
  },
  "language_info": {
   "name": ""
  }
 },
 "nbformat": 4,
 "nbformat_minor": 5
}
