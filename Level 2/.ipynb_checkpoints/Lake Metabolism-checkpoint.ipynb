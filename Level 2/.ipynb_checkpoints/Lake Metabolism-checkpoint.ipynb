{
 "cells": [
  {
   "cell_type": "markdown",
   "id": "3dae2e2e-9d28-4409-90d3-767e80a8666c",
   "metadata": {},
   "source": [
    "## Getting set up\n",
    "Below we're going to load some libraries and the revised version of one of the functions used to calculate gas exchange."
   ]
  },
  {
   "cell_type": "code",
   "execution_count": null,
   "id": "1c84dee1-c366-4b29-8b4a-b73948008707",
   "metadata": {},
   "outputs": [],
   "source": [
    "k.read.fixed<-function (wnd.z, Kd, lat, lake.area, atm.press, dateTime, Ts, \n",
    "                        z.aml, airT, wnd, RH, sw, lwnet) \n",
    "{\n",
    "  Kelvin <- 273.15\n",
    "  emiss <- 0.972\n",
    "  S_B <- 5.67e-08\n",
    "  vonK <- 0.41\n",
    "  dT <- 0.5\n",
    "  C1 <- 114.278\n",
    "  nu <- 0.29\n",
    "  KeCrit <- 0.18\n",
    "  albedo_SW <- 0.07\n",
    "  swRat <- 0.46\n",
    "  g <- 9.81\n",
    "  C_w <- 4186\n",
    "  mnWnd <- 0.2\n",
    "  rpcI <- wnd < mnWnd\n",
    "  wnd[rpcI] <- mnWnd\n",
    "  mm <- calc.zeng(dateTime, Ts, airT, wnd, RH, atm.press, wnd.z)\n",
    "  C_D <- mm$C_D\n",
    "  E <- mm$alh\n",
    "  H <- mm$ash\n",
    "  dUdt <- sw * 0.93 - E - H + lwnet\n",
    "  Qo <- sw * (1 - albedo_SW) * swRat\n",
    "  rho_w <- water.density(Ts)\n",
    "  if (wnd.z != 10) {\n",
    "    e1 <- sqrt(C_D)\n",
    "    wnd <- wnd/(1 - e1/vonK * log(10/wnd.z))\n",
    "  }\n",
    "  rhoAir <- 1.2\n",
    "  tau <- C_D * wnd^2 * rhoAir\n",
    "  uSt <- sqrt(tau/rho_w)\n",
    "  q1 <- 2 - 2 * exp(z.aml * -Kd)\n",
    "  q2 <- z.aml * Kd\n",
    "  q3 <- exp(z.aml * -Kd)\n",
    "  H_star <- dUdt - Qo * (q1/q2 - q3)\n",
    "  thermalExpFromTemp <- function(Ts) {\n",
    "    V <- 1\n",
    "    dT <- 0.001\n",
    "    T1 <- water.density(Ts)\n",
    "    T2 <- water.density(Ts + dT)\n",
    "    V2 <- T1/T2\n",
    "    dv_dT <- (V2 - V)/dT\n",
    "    alpha <- dv_dT\n",
    "    return(alpha)\n",
    "  }\n",
    "  tExp <- thermalExpFromTemp(Ts)\n",
    "  B1 <- H_star * tExp * g\n",
    "  B2 <- rho_w * C_w\n",
    "  Bflx <- B1/B2\n",
    "  ltI <- Bflx > 0\n",
    "  B1 <- Bflx\n",
    "  B1[ltI] <- 0\n",
    "  divi <- 1/3\n",
    "  w1 <- -B1 * z.aml\n",
    "  wSt <- w1^divi\n",
    "  getKinematicVis <- function(Ts) {\n",
    "    tempTable <- seq(0, 100, by = 5)\n",
    "    visTable <- c(1.792, 1.519, 1.308, 1.141, 1.007, 0.897, \n",
    "                  0.804, 0.727, 0.661, 0.605, 0.556, 0.513, 0.477, \n",
    "                  0.444, 0.415, 0.39, 0.367, 0.347, 0.328, 0.311, 0.296)\n",
    "    v <- data.frame(approx(tempTable, visTable, xout = Ts))[2]\n",
    "    v <- v * 1e-06\n",
    "    return(v)\n",
    "  }\n",
    "  kinV <- getKinematicVis(Ts)\n",
    "  KeDe <- (kinV * g)\n",
    "  KeNm <- uSt^3\n",
    "  Ke <- KeNm/KeDe\n",
    "  tau <- tau\n",
    "  euPw <- (1 + Ke/KeCrit)\n",
    "  tau_t <- tau/euPw\n",
    "  uTanS <- tau_t/rho_w\n",
    "  uTanS <- uTanS^0.5\n",
    "  Sv <- C1 * kinV/uTanS\n",
    "  eu_N <- uTanS^3\n",
    "  eu_D <- vonK * Sv\n",
    "  eu_0 <- eu_N/eu_D\n",
    "  ew_0 <- -1 * B1\n",
    "  e_0 <- ew_0 + eu_0\n",
    "  K1 <- e_0 * kinV\n",
    "  K2 <- ew_0 * kinV\n",
    "  K1 <- K1 * 100^4 * 3600^4\n",
    "  K2 <- K2 * 100^4 * 3600^4\n",
    "  K600 <- nu * 600^(-0.5) * K1^(1/4)\n",
    "  k600 <- as.numeric(K600$y)\n",
    "  k600 <- k600 * 24/100\n",
    "  return(k600)\n",
    "}\n",
    "\n",
    "library(tidyr)\n",
    "library(dplyr)# clean data\n",
    "library(tidyr)# clean data\n",
    "library(rLakeAnalyzer)# lake analyses\n",
    "library(lubridate)# working with time\n",
    "library(LakeMetabolizer)# lake analyses\n",
    "library(curl)\n",
    "library(ggplot2)\n",
    "library(readr)"
   ]
  },
  {
   "cell_type": "markdown",
   "id": "1d338af1-5212-4a2f-afd5-b5c368831ec1",
   "metadata": {},
   "source": [
    "## Ecosystem metabolism in lakes\n",
    "Ecosystem metabolism is a critical concept and measurement that allows researchers to model the productivity, respiration, and carbon cycling of an ecosystem.\n",
    "\n",
    "We are going to model ecosystem metabolism in lakes using the R package _LakeMetabolizer_ developed by USGS and collaborators. Current ecosystem metabolism methods in aquatic ecosystems using dissolved oxygen time series to infer rates of primary production and _aerobic_ respiration.\n",
    "\n",
    "\n",
    "<div>\n",
    "<img src=\"images/streammetabolism.png\" width=\"500\"/>\n",
    "</div>\n",
    "\n",
    "This method works by comparing the rate of oxygen increase during the day, when both photosynthesis and respiration are occurring, versus the night, where only respiration is active. We use the equation below to assess how oxygen changes vary with light while taking into account gas exchange between the water and the air across the water surface.\n",
    "\n",
    "$$ \\Delta m_{O_i,d} = \\left( \\frac{GPP_d}{Z_{i,d}} \\times \\frac{PPFD_{i,d}}{PPFD_d} + \\frac{ER_d}{Z_{i,d}} + f_{i,d}(K600_d)(O_{sat,i,d}-m_{O_i,d}) \\right) \\times \\Delta t $$\n",
    "\n",
    "Here is mO<sub>i,d</sub> is modeled DO concentration for timestep i on day _d_, Osat<sub>i,d</sub> is DO saturation for timestep _i_ on day _d_. Δt is the length of each time step (60 minutes in our example), GPP<sub>d</sub> and ER<sub>d</sub> are average GPP and ER (both in g-O<sub>2</sub> m<sup>-2</sup> d<sup>-1</sup>) on day _d_. _z<sub>i,d</sub> is average cross-sectional depth of each upstream. _K600<sub>d</sub> is estimated standardized gas exchange rate (d<sup>-1</sup>) scaled to the Schmidt number 600 on day _d_. _PFFD<sub>i,d</sub> is photosynthetic photon flux density at timestep _i_ on day _d_. <span style=\"text-decoration:overline\">PPFD<sub>d</sub></span> represents the sum of solar insolation for day _d_.\n",
    "\n",
    "## Lake metabolism specifics\n",
    "The concept behind ecosystem metabolism estimates in lakes is the same as that used for streams and rivers, but the demands in terms of modeling and data are different. The key variable that is important here is gas exchange, which is parameterized by _K600<sub>d</sub>, which captures the rate of gas exchange between air and water. In streams and rivers, gas exchange is primarily driven by turbulence, which varies predictably with river flow rate. By contrast, in lake ecosystems, wind driven turbulence, solar convection, water color, and lake size all determine the rate of gas exchange. Thus, a number of variables are required to fully quantify gas exchange in lakes.\n",
    "\n",
    "<div>\n",
    "<img src=\"images/lakemetabolism.png\" width=\"1000\"/>\n",
    "</div>"
   ]
  },
  {
   "cell_type": "markdown",
   "id": "0cd0caf4-cfd3-4cb9-a206-849fcfcf4203",
   "metadata": {},
   "source": [
    "## Loading data\n",
    "Here we are loading two data files. The first is called crooked_buoy"
   ]
  },
  {
   "cell_type": "code",
   "execution_count": null,
   "id": "0d9b6362-4db8-4fb5-8da9-9502d1f1f404",
   "metadata": {},
   "outputs": [],
   "source": [
    "buoyWide=read_csv('~/modules/cybertraining_ecology/Level 2/files/lake_metabolism/Sparkling2014wtemp_hourly_wide.csv')\n",
    "#met=read_csv('~/metabolism_modeling/Sparkling2014met_hourly.csv')\n",
    "#metData<-met%>%dplyr::select(sampledate,air_temp,rel_hum,wind_speed_2m,par,opt_wtemp,opt_do_raw)\n",
    "metData<-readRDS(\"~/modules/cybertraining_ecology/Level 2/files/lake_metabolism/metData.rds\")\n",
    "\n",
    "datetime=metData$sampledate\n",
    "do.obs=metData$opt_do_raw"
   ]
  },
  {
   "cell_type": "markdown",
   "id": "768d66ba-e714-4616-806e-b0b4f5ab41ba",
   "metadata": {},
   "source": [
    "## calculate dissolved oxygen saturation.\n",
    "As you can see from the equation above, ecosystem metabolism calculations are based on dissolved oxygen percent saturation, not the concentration of dissolved oxygen. We can use atmospheric pressure, elevation, and water temperature to determine dissolved oxygen saturation."
   ]
  },
  {
   "cell_type": "code",
   "execution_count": null,
   "id": "b614c075-a40a-4a37-b273-2c9cda55d2ee",
   "metadata": {},
   "outputs": [],
   "source": [
    "do.sat=o2.at.sat.base(metData$opt_wtemp, altitude=300)"
   ]
  },
  {
   "cell_type": "markdown",
   "id": "a903e773-994d-43fa-bc41-924b29f8a4ae",
   "metadata": {},
   "source": [
    "## Lake stratification\n",
    "Lakes often undergo seasonal stratification driven by different temperatures. As seen in the above image, warm season stratification results in three layers. The top layer is the epilimnion. This layer has warm water and light exposure and is thus where essentially all photosynthesis occurs in a stratified lake. The middle layer transitioning from the warm surface layer to the cool deeper layer is called the metalimion. The cool bottom layer is known as the hypolimnion and is typically a dark environment where oxygen supplies can be limited.\n",
    "\n",
    "We need to quantify the depth of stratification to determine the volume of water near the surface where photosynthesis is occuring. We can do that with one of those cool lake heat maps with temperature data distributed by depth over time."
   ]
  },
  {
   "cell_type": "code",
   "execution_count": null,
   "id": "5ec2da32-cd25-4f99-8b01-48ab607ee094",
   "metadata": {},
   "outputs": [],
   "source": [
    "wtr.heat.map(wtr=as.data.frame(buoyWide))"
   ]
  },
  {
   "cell_type": "markdown",
   "id": "20d5d8ba-3cfc-43c3-87c5-f65e0aa3ef59",
   "metadata": {},
   "source": [
    "The area where temperatures transition abruptly is the metalimnion. Water located above the metalimnion is by definition the epilimnion. Thus, to determine the epilimnion, we need only identify the metalimnion. One could do this visually or with a novel algorhithm, but fortunately there is function available that uses the slope a temperature profile to detect the top, bottom, and center of the lake metalimnion."
   ]
  },
  {
   "cell_type": "markdown",
   "id": "ba8731e6-e4aa-40d0-be80-a9f90e899346",
   "metadata": {},
   "source": [
    "## Metaliminion plot"
   ]
  },
  {
   "cell_type": "code",
   "execution_count": null,
   "id": "5d9a8929-d35f-4084-b02a-78061e80d851",
   "metadata": {},
   "outputs": [],
   "source": [
    "options(warn=-1)\n",
    "\n",
    "\n",
    "#this command uses temperatures arranged by depth to determine where the metalimnion is.\n",
    "wtr.plot.temp(wtr=as.data.frame(buoyWide),na.rm=T)"
   ]
  },
  {
   "cell_type": "markdown",
   "id": "463162b8-06ea-4c1a-b4d5-f801f093c9d7",
   "metadata": {},
   "source": [
    "### Crooked Lake Plots"
   ]
  },
  {
   "cell_type": "code",
   "execution_count": 1,
   "id": "28ca38ed-f348-4adf-8e47-9ae2af54797d",
   "metadata": {},
   "outputs": [
    {
     "ename": "ERROR",
     "evalue": "Error in ts.thermo.depth(wtr = buoyWide, na.rm = T): could not find function \"ts.thermo.depth\"\n",
     "output_type": "error",
     "traceback": [
      "Error in ts.thermo.depth(wtr = buoyWide, na.rm = T): could not find function \"ts.thermo.depth\"\nTraceback:\n"
     ]
    }
   ],
   "source": [
    "#now we can use this model to find a depth for the thermocline and then plot it.\n",
    "#Why does the trend in this plot look the opposite of the one you saw in the other plots and can you think of any ways to fix that?\n",
    "z.mix=ts.thermo.depth(wtr=buoyWide,na.rm=T)[,2]\n",
    "z.mix.df<-data.frame(datetime=buoyWide$datetime,z.mix=z.mix)\n",
    "ggplot(z.mix.df,aes(datetime,z.mix))+\n",
    "  geom_point(size=2)+\n",
    "  xlab(\"\")+\n",
    "  ylab(\"Mixing Depth (m)\")\n",
    "\n",
    "#now we're going to look at temperature data for Crooked Lake\n",
    "crooked_lake<-readRDS(\"~/modules/cybertraining_ecology/Level 2/files/lake_metabolism/crooked_lake_temp.rds\")\n",
    "\n",
    "#we can do another one of those cool lake heat maps with temperature data distributed by depth.\n",
    "wtr.heat.map(wtr=as.data.frame(crooked_lake))\n",
    "\n",
    "\n",
    "#this command uses temperatures arranged by depth to determine where the metalimnion is.\n",
    "wtr.plot.temp(wtr=as.data.frame(crooked_lake),na.rm=T)"
   ]
  },
  {
   "cell_type": "code",
   "execution_count": null,
   "id": "3f0ad00f-a9bc-4257-84cc-cb7a72b2158d",
   "metadata": {},
   "outputs": [],
   "source": [
    "#this plots a section of the Photosynthetically Active Radiation (sunlight) data that we use to help us model photosynthesis.\n",
    "ggplot(metData,aes(sampledate,par))+\n",
    "  geom_point(size=2)+\n",
    "  xlab(\"\")+\n",
    "  ylab(expression(\"Photosyntically Active Radiation (\"*mu*\"moles \"*m^-2*s^-1*\")\"))+\n",
    "  geom_line()+\n",
    "  scale_x_datetime(date_breaks = \"1 month\", \n",
    "                   limits = as.POSIXct(c('2014-06-15','2014-07-01')))"
   ]
  },
  {
   "cell_type": "code",
   "execution_count": null,
   "id": "53ca7694-97da-4ca6-b468-8167555e777e",
   "metadata": {},
   "outputs": [],
   "source": [
    "#try seeing if you can use the scale command to zoom in and out to look at the data in more or less detail.\n",
    "\n",
    "#extracting PAR as a separate variable\n",
    "par=metData$par\n",
    "# For bookeeping irradiance this tells us if it is day (value = 1) or night (value = 0)\n",
    "isday=is.day(metData$sampledate,48)\n",
    "dayIrr=rep(0,nrow(metData))\n",
    "dayIrr[isday]=1\n",
    "\n",
    "#Remember that oxygen diffuses 10,000x more slowly through water than through air. That means that we have to figure out how much air is mixing with water. We do that by estimating a variable called k that is measured in meters per day (the vertical velocity of gas exchange).\n",
    "#There are a number of data ways that you can measure gas exchange  developed by different researchers. Type \"?k.cole.base\" (without the quotes) in the R console to get the help file that explains these different methods. We will start with k.cole.base, which uses an early, simplified algorithm by Jon Cole. This method is simple and only uses temperature of water to measure gas exchange. More recently, Jordan Read of the USGS has developed a more sophisticated equation for estimating gas exchange that also takes into account wind speed, lake size and other important variables to create a better estimate.\n",
    "\n",
    "#First we have to correct the wind data based on the height it was measured.\n",
    "U10<-wind.scale.base(wnd=metData$wind_speed_2m, wnd.z=2)\n",
    "\n",
    "#The Read model also uses visible light (shortwave radiation) and infrared light (longwave radiation) to estimate the amount of solar heating of the water since this influences convective mixing. We are using Photosynthetically Active Radiation (PAR) as shortwave radiation because they are pretty close. We're using shortwave radiation, air temperature above the lank, and humidity to estimate longwave radiation since no sensor of that type was deployed.\n",
    "\n",
    "# Calculate shortwave radiation\n",
    "sw=par.to.sw.base(metData$par)\n",
    "\n",
    "# Calculate longwave radiation\n",
    "airtemp=metData$air_temp\n",
    "#here we are using water temperature at 0.5m for wtr (water temperature).\n",
    "wtr=buoyWide$wtr_0.5\n",
    "rh=metData$rel_hum\n",
    "lwnet=calc.lw.net.base(datetime,sw,wtr,48,1013,airtemp,rh)\n",
    "\n",
    "radiation_results<-data.frame(datetime=metData$sampledate,lwnet=lwnet,sw=sw)\n",
    "\n",
    "library(reshape2)\n",
    "rad_results_melt<-melt(radiation_results,id=c(\"datetime\"))\n",
    "ggplot(rad_results_melt,aes(datetime,value,color=variable,group=variable))+\n",
    "  geom_point(size=2)+\n",
    "  xlab(\"\")+\n",
    "  ylab(expression(\"Watts \"*m^-2))\n",
    "\n",
    "#That probably looks too crowded, we can break-up these plots with the facet_wrap() command\n",
    "\n",
    "ggplot(rad_results_melt,aes(datetime,value,color=variable,group=variable))+\n",
    "  geom_point(size=2)+\n",
    "  facet_wrap(.~variable)+\n",
    "  xlab(\"\")+\n",
    "  ylab(expression(\"Watts \"*m^-2))\n",
    "\n",
    "#try using the scale_x_datetime command I introduced before to narrow the date range you show on the graph\n"
   ]
  },
  {
   "cell_type": "markdown",
   "id": "eaf730d2-c987-43c3-8a57-4a836c465f39",
   "metadata": {},
   "source": [
    "### Calculating Metabolism"
   ]
  },
  {
   "cell_type": "code",
   "execution_count": null,
   "id": "22319f45-dc81-4118-8b7a-be186d40d502",
   "metadata": {},
   "outputs": [],
   "source": [
    "# k600 Cole\n",
    "k600.cole=k.cole.base(U10)\n",
    "# k600 Read\n",
    "k600.read=k.read.fixed(wnd.z=10,Kd=2,lat=48,lake.area=5000,atm.press=1013,dateTime=datetime,Ts=wtr,z.aml=z.mix,airT=airtemp,wnd=U10,RH=rh,sw=sw,lwnet=lwnet)\n",
    "\n",
    "# k.gas flux converted from K600 (standardized) to K for O2.\n",
    "kgas.cole=k600.2.kGAS.base(k600.cole, wtr, 'O2')\n",
    "kgas.read=k600.2.kGAS.base(k600.read, wtr, 'O2')\n",
    "\n",
    "#now we are actually calculating metabolism with Maximum Likelihood Estimation and the Cole K method.\n",
    "metab.mle(do.obs, do.sat, kgas.cole, z.mix, par, wtr)\n",
    "\n",
    "#this just gives us an overall estimate, now let's look at individual days. The function below will do that.\n",
    "\n",
    "metab.estimates<-function(kgas,metData){\n",
    "  # Setup empty data.frame for three months\n",
    "  output=data.frame(date=seq.Date(as.Date('2014-06-01'),as.Date('2014-08-31'),by='day'),NEP.mle=NA, NEP.ols=NA, NEP.kalman=NA, NEP.bookkeep=NA)\n",
    "                    \n",
    "                    # Loop through each day.\n",
    "                    for(i in 1:nrow(output)){\n",
    "                      # Create a index for each day, so only those days values will be used\n",
    "                      indx<-as.Date(metData$sampledate)==output$date[i]\n",
    "                      \n",
    "                      m.mle=metab.mle(do.obs[indx], do.sat[indx], kgas[indx], z.mix[indx],par[indx],wtr[indx])\n",
    "                      m.ols=metab.ols(do.obs[indx], do.sat[indx], kgas[indx], z.mix[indx],par[indx],wtr[indx])\n",
    "                      m.kal=metab.kalman(do.obs[indx], do.sat[indx], kgas[indx], z.mix[indx], par[indx],wtr[indx])\n",
    "                      m.book=metab.bookkeep(do.obs[indx], do.sat[indx], kgas[indx], z.mix[indx], dayIrr[indx])\n",
    "                      \n",
    "                      output$NEP.mle[i]=round(m.mle$metab[3],3)\n",
    "                      output$NEP.ols[i]=round(m.ols$metab[3],3)\n",
    "                      output$NEP.kalman[i]=round(m.kal$metab[3],3)\n",
    "                      output$NEP.bookkeep[i]=round(m.book$NEP,3)\n",
    "                      \n",
    "                      output$ER.mle[i]=round(m.mle$metab[2],3)\n",
    "                      output$ER.ols[i]=round(m.ols$metab[2],3)\n",
    "                      output$ER.kalman[i]=round(m.kal$metab[2],3)\n",
    "                      output$ER.bookkeep[i]=round(m.book$R,3)\n",
    "\n",
    "                      output$GPP.mle[i]=round(m.mle$metab[1],3)\n",
    "                      output$GPP.ols[i]=round(m.ols$metab[1],3)\n",
    "                      output$GPP.kalman[i]=round(m.kal$metab[1],3)\n",
    "                      output$GPP.bookkeep[i]=round(m.book$GPP,3)                      \n",
    "                    }\n",
    "                    return(output)\n",
    "}\n",
    "\n",
    "#now we run the metabolism model using both the Cole and Read K estimates\n",
    "metab.cole=metab.estimates(kgas.cole,metData)\n",
    "metab.read=metab.estimates(kgas.read,metData)\n",
    "\n",
    "#now I'm combining the two sets of estimates so that we can compare side by side.\n",
    "metab.cole$method<-\"cole\"\n",
    "metab.read$method<-\"read\"\n",
    "\n",
    "metab.combine<-bind_rows(metab.cole,metab.read)"
   ]
  },
  {
   "cell_type": "markdown",
   "id": "b164a78d-bfa6-4d97-a128-4c6750a3917b",
   "metadata": {},
   "source": [
    "## Let's compare the metabolism estimates"
   ]
  },
  {
   "cell_type": "code",
   "execution_count": null,
   "id": "773134f0-30f1-439d-b9ba-82d9c4ac48b1",
   "metadata": {},
   "outputs": [],
   "source": [
    "head(metab.cole)\n",
    "head(metab.read)"
   ]
  },
  {
   "cell_type": "code",
   "execution_count": null,
   "id": "ecca1f14-ef61-4b6a-a916-232969fcb050",
   "metadata": {},
   "outputs": [],
   "source": [
    "\n",
    "#now I'm subsetting the GPP (photosynthesis data) so that we can do a comparison.\n",
    "metab.combine$GPP.ols<-as.numeric(metab.combine$GPP.ols)\n",
    "gpp_results_melt<-melt(as.data.frame(metab.combine[,c(\"date\",\"GPP.mle\",\"GPP.ols\",\"GPP.kalman\",\"GPP.bookkeep\",\"method\")]),id=c(\"date\",\"method\"))\n",
    "\n",
    "#I'm plotting the GPP data to compare different estimation methods and methods for estimating K.\n",
    "ggplot(gpp_results_melt,aes(date,value,color=variable,group=method))+\n",
    "  geom_point(size=2)+\n",
    "  facet_wrap(.~method)\n",
    "\n",
    "#now we want to combine all the information from the different models to get an overal \"ensemble\" estimate.\n",
    "ggplot(gpp_results_melt,aes(date,value,color=variable,group=method))+\n",
    "  geom_point(size=2)+\n",
    "  facet_wrap(.~method)+\n",
    "  geom_smooth()\n",
    "\n",
    "\n",
    "#okay, not it's you're turn. You can plot additional things related to this dataset and you can also use the Lake Taihu data and attempt to model that information."
   ]
  }
 ],
 "metadata": {
  "kernelspec": {
   "display_name": "R",
   "language": "R",
   "name": "ir"
  },
  "language_info": {
   "codemirror_mode": "r",
   "file_extension": ".r",
   "mimetype": "text/x-r-source",
   "name": "R",
   "pygments_lexer": "r",
   "version": "4.4.1"
  }
 },
 "nbformat": 4,
 "nbformat_minor": 5
}
